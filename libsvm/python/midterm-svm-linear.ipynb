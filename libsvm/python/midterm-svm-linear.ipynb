{
 "cells": [
  {
   "cell_type": "code",
   "execution_count": 83,
   "metadata": {},
   "outputs": [
    {
     "name": "stderr",
     "output_type": "stream",
     "text": [
      "Hello Debug\n",
      "Hello Info\n",
      "Hello Warning\n",
      "Hello Error\n",
      "Hello Critical\n"
     ]
    }
   ],
   "source": [
    "import logging\n",
    "\n",
    "logging.basicConfig(level=logging.DEBUG, format='%(message)s')\n",
    "\n",
    "logging.debug('Hello Debug')\n",
    "logging.info('Hello Info')\n",
    "logging.warning('Hello Warning')\n",
    "logging.error('Hello Error')\n",
    "logging.critical('Hello Critical')"
   ]
  },
  {
   "cell_type": "code",
   "execution_count": 84,
   "metadata": {},
   "outputs": [],
   "source": [
    "from svm import *\n",
    "from svmutil import *\n",
    "import numpy as np\n",
    "import math"
   ]
  },
  {
   "cell_type": "code",
   "execution_count": 85,
   "metadata": {},
   "outputs": [],
   "source": [
    "#label, dataset = svm_read_problem('../heart_scale')"
   ]
  },
  {
   "cell_type": "code",
   "execution_count": 86,
   "metadata": {},
   "outputs": [
    {
     "name": "stderr",
     "output_type": "stream",
     "text": [
      "Length of label: 63\n",
      "Label: [2.0, 2.0, 2.0, 2.0, 2.0, 2.0, 2.0, 2.0, 2.0, 2.0, 2.0, 2.0, 2.0, 2.0, 2.0, 2.0, 2.0, 2.0, 2.0, 2.0, 2.0, 2.0, 2.0, 2.0, 2.0, 2.0, 2.0, 2.0, 3.0, 3.0, 3.0, 3.0, 3.0, 3.0, 3.0, 3.0, 3.0, 3.0, 3.0, 3.0, 3.0, 3.0, 3.0, 3.0, 3.0, 3.0, 3.0, 3.0, 3.0, 3.0, 3.0, 3.0, 3.0, 3.0, 3.0, 3.0, 3.0, 3.0, 3.0, 3.0, 3.0, 3.0, 3.0]\n",
      "Length of data: 63\n",
      "Data: [{1: 0.202, 2: 0.454}, {1: 0.27, 2: 0.374}, {1: 0.276, 2: 0.304}, {1: 0.276, 2: 0.268}, {1: 0.278, 2: 0.218}, {1: 0.378, 2: 0.18}, {1: 0.412, 2: 0.226}, {1: 0.382, 2: 0.332}, {1: 0.368, 2: 0.284}, {1: 0.326, 2: 0.38}, {1: 0.3, 2: 0.514}, {1: 0.142, 2: 0.426}, {1: 0.21, 2: 0.294}, {1: 0.202, 2: 0.246}, {1: 0.308, 2: 0.17}, {1: 0.496, 2: 0.18}, {1: 0.424, 2: 0.254}, {1: 0.342, 2: 0.24}, {1: 0.314, 2: 0.306}, {1: 0.304, 2: 0.432}, {1: 0.216, 2: 0.38}, {1: 0.274, 2: 0.448}, {1: 0.636, 2: 0.366}, {1: 0.514, 2: 0.272}, {1: 0.48, 2: 0.346}, {1: 0.476, 2: 0.41}, {1: 0.564, 2: 0.354}, {1: 0.412, 2: 0.404}, {1: 0.616, 2: 0.832}, {1: 0.576, 2: 0.74}, {1: 0.612, 2: 0.678}, {1: 0.706, 2: 0.62}, {1: 0.758, 2: 0.654}, {1: 0.768, 2: 0.702}, {1: 0.716, 2: 0.708}, {1: 0.638, 2: 0.758}, {1: 0.494, 2: 0.806}, {1: 0.554, 2: 0.694}, {1: 0.584, 2: 0.628}, {1: 0.64, 2: 0.58}, {1: 0.718, 2: 0.536}, {1: 0.852, 2: 0.55}, {1: 0.788, 2: 0.618}, {1: 0.738, 2: 0.662}, {1: 0.648, 2: 0.68}, {1: 0.698, 2: 0.658}, {1: 0.678, 2: 0.538}, {1: 0.782, 2: 0.48}, {1: 0.822, 2: 0.472}, {1: 0.784, 2: 0.43}, {1: 0.764, 2: 0.526}, {1: 0.792, 2: 0.568}, {1: 0.92, 2: 0.598}, {1: 0.928, 2: 0.716}, {1: 0.814, 2: 0.662}, {1: 0.838, 2: 0.64}, {1: 0.5, 2: 0.66}, {1: 0.536, 2: 0.58}, {1: 0.452, 2: 0.602}, {1: 0.476, 2: 0.554}, {1: 0.388, 2: 0.652}, {1: 0.342, 2: 0.672}, {1: 0.384, 2: 0.714}]\n"
     ]
    }
   ],
   "source": [
    "label, dataset = svm_read_problem('toydata.dat')\n",
    "\n",
    "logging.debug(\"Length of label: {}\".format(len(label)))\n",
    "logging.debug(\"Label: {}\".format(label))\n",
    "logging.debug(\"Length of data: {}\".format(len(dataset)))\n",
    "logging.debug(\"Data: {}\".format(dataset))"
   ]
  },
  {
   "cell_type": "code",
   "execution_count": 87,
   "metadata": {},
   "outputs": [],
   "source": [
    "maxdim = np.max(np.array([len(d_item) for d_item in dataset]))\n",
    "for data_idx, _ in enumerate(dataset):\n",
    "    for dim_idx in range(maxdim):\n",
    "        if dim_idx + 1 not in dataset[data_idx]:\n",
    "            print(\"add key {} in data {}\".format(dim_idx+1, data_idx))\n",
    "            dataset[data_idx][dim_idx+1] = 0"
   ]
  },
  {
   "cell_type": "code",
   "execution_count": 88,
   "metadata": {},
   "outputs": [
    {
     "name": "stderr",
     "output_type": "stream",
     "text": [
      "Length of Data: 63, Dimension of Data: 2\n"
     ]
    }
   ],
   "source": [
    "logging.debug(\"Length of Data: {}, Dimension of Data: {}\".format(len(dataset), len(dataset[0])))\n",
    "#logging.debug(\"Read Data in One Line:\\n{}\".format(\n",
    "#    np.array([data_list[feat_idx] for data_idx, data_list in enumerate(dataset) \n",
    "#              for dim_idx, feat_idx in enumerate(data_list)]).reshape(len(dataset), len(dataset[0]))))"
   ]
  },
  {
   "cell_type": "raw",
   "metadata": {},
   "source": [
    "Usage: svm-train [options] training_set_file [model_file]\n",
    "options:\n",
    "-s svm_type : set type of SVM (default 0)\n",
    "\t0 -- C-SVC\t\t(multi-class classification)\n",
    "\t1 -- nu-SVC\t\t(multi-class classification)\n",
    "\t2 -- one-class SVM\n",
    "\t3 -- epsilon-SVR\t(regression)\n",
    "\t4 -- nu-SVR\t\t(regression)\n",
    "-t kernel_type : set type of kernel function (default 2)\n",
    "\t0 -- linear: u'*v\n",
    "\t1 -- polynomial: (gamma*u'*v + coef0)^degree\n",
    "\t2 -- radial basis function: exp(-gamma*|u-v|^2)\n",
    "\t3 -- sigmoid: tanh(gamma*u'*v + coef0)\n",
    "\t4 -- precomputed kernel (kernel values in training_set_file)\n",
    "-d degree : set degree in kernel function (default 3)\n",
    "-g gamma : set gamma in kernel function (default 1/num_features)\n",
    "-r coef0 : set coef0 in kernel function (default 0)\n",
    "-c cost : set the parameter C of C-SVC, epsilon-SVR, and nu-SVR (default 1)\n",
    "-n nu : set the parameter nu of nu-SVC, one-class SVM, and nu-SVR (default 0.5)\n",
    "-p epsilon : set the epsilon in loss function of epsilon-SVR (default 0.1)\n",
    "-m cachesize : set cache memory size in MB (default 100)\n",
    "-e epsilon : set tolerance of termination criterion (default 0.001)\n",
    "-h shrinking : whether to use the shrinking heuristics, 0 or 1 (default 1)\n",
    "-b probability_estimates : whether to train a SVC or SVR model for probability estimates, 0 or 1 (default 0)\n",
    "-wi weight : set the parameter C of class i to weight*C, for C-SVC (default 1)\n",
    "-v n: n-fold cross validation mode\n",
    "-q : quiet mode (no outputs)"
   ]
  },
  {
   "cell_type": "code",
   "execution_count": 89,
   "metadata": {},
   "outputs": [
    {
     "name": "stderr",
     "output_type": "stream",
     "text": [
      "Accuracy: (100.0, 0.0, 1.0)\n",
      "Output Label: [2.0, 2.0, 2.0, 2.0, 2.0, 2.0, 2.0, 2.0, 2.0, 2.0, 2.0, 2.0, 2.0, 2.0, 2.0, 2.0, 2.0, 2.0, 2.0, 2.0, 2.0, 2.0, 2.0, 2.0, 2.0, 2.0, 2.0, 2.0, 3.0, 3.0, 3.0, 3.0, 3.0, 3.0, 3.0, 3.0, 3.0, 3.0, 3.0, 3.0, 3.0, 3.0, 3.0, 3.0, 3.0, 3.0, 3.0, 3.0, 3.0, 3.0, 3.0, 3.0, 3.0, 3.0, 3.0, 3.0, 3.0, 3.0, 3.0, 3.0, 3.0, 3.0, 3.0]\n",
      "Model Value: [[2.755143830434257], [3.6068442231354467], [4.753017373867763], [5.365602558019475], [6.201427078005594], [6.098632983380831], [5.0610852398134725], [3.4821857342911358], [4.403883630287737], [3.0850760905995145], [0.9997449702878072], [3.6812460470676243], [5.417791705765708], [6.294524894421869], [6.793383786839058], [5.214327072352454], [4.494700681903524], [5.347445920503887], [4.434208383814415], [2.3651014181841674], [3.909429058507328], [2.317664873041096], [1.000127116292063], [3.5139374797212923], [2.509534609449645], [1.450470753629105], [1.7438986657610656], [2.032191829285594], [-6.7795654096479865], [-4.914305223435264], [-4.129085650327653], [-3.8465899353054596], [-4.814836739510227], [-5.7065581639465535], [-5.418961564354774], [-5.685233124695515], [-5.422860394060891], [-3.9666868945487437], [-3.068437593639416], [-2.6713279499477807], [-2.507153920299004], [-3.749593289183082], [-4.427075092060633], [-4.801084422631419], [-4.432906404600857], [-4.433254686567253], [-2.241421714926858], [-2.033867178805366], [-2.197501853485619], [-1.1980426588192614], [-2.681720792089024], [-3.6062388078546803], [-5.075973551243507], [-7.143844597972432], [-5.370637382276826], [-5.17613859910135], [-2.9834518545638673], [-1.891939689380422], [-1.6367913991516048], [-0.9998699829776996], [-2.0079806099533073], [-2.003576289316541], [-3.033011955543202]]\n",
      "Yi(+1/-1): [ 1  1  1  1  1  1  1  1  1  1  1  1  1  1  1  1  1  1  1  1  1  1  1  1\n",
      "  1  1  1  1 -1 -1 -1 -1 -1 -1 -1 -1 -1 -1 -1 -1 -1 -1 -1 -1 -1 -1 -1 -1\n",
      " -1 -1 -1 -1 -1 -1 -1 -1 -1 -1 -1 -1 -1 -1 -1]\n"
     ]
    },
    {
     "name": "stdout",
     "output_type": "stream",
     "text": [
      "0.0029921531677246094\n",
      "Accuracy = 100% (63/63) (classification)\n"
     ]
    }
   ],
   "source": [
    "import time\n",
    "\n",
    "C_cost = 1000\n",
    "start_time = time.time()\n",
    "model = svm_train(label[:400], dataset[:400], '-s 0 -t 0 -c {}'.format(C_cost))\n",
    "end_time = time.time()\n",
    "print(end_time - start_time)\n",
    "\n",
    "#p_label, p_acc, p_val = svm_predict(y[200:], x[200:], model)\n",
    "# using the same data set as training, just for development stage\n",
    "p_label, p_acc, p_val = svm_predict(label[:400], dataset[:400], model)\n",
    "logging.debug(\"Accuracy: {}\".format(p_acc))\n",
    "logging.debug(\"Output Label: {}\".format(p_label))\n",
    "logging.debug(\"Model Value: {}\".format(p_val))\n",
    "\n",
    "yi =np.array([1 if val >= 0 else -1 for [val] in p_val])\n",
    "logging.debug(\"Yi(+1/-1): {}\".format(yi))"
   ]
  },
  {
   "cell_type": "code",
   "execution_count": 90,
   "metadata": {},
   "outputs": [
    {
     "name": "stderr",
     "output_type": "stream",
     "text": [
      "SVM Type: 0\n",
      "Number of Class: 2\n",
      "SVM Probability: 0.0\n",
      "Class Labels: [2, 3]\n",
      "Support Vectors Indices: [11, 23, 60]\n",
      "Number of Support Vectors: 3\n",
      "Is Probability Model: False\n",
      "Support Vector Coefficients: [(104.62659496012338,), (68.25101764319216,), (-172.87761260331555,)]\n",
      "Support Vectors: [{1: 0.3, 2: 0.514}, {1: 0.636, 2: 0.366}, {1: 0.476, 2: 0.554}]\n"
     ]
    }
   ],
   "source": [
    "svm_type = model.get_svm_type()\n",
    "logging.debug(\"SVM Type: {}\".format(svm_type))\n",
    "\n",
    "nr_class = model.get_nr_class()\n",
    "logging.debug(\"Number of Class: {}\".format(nr_class))\n",
    "\n",
    "svr_probability = model.get_svr_probability()\n",
    "logging.debug(\"SVM Probability: {}\".format(svr_probability))\n",
    "\n",
    "class_labels = model.get_labels()\n",
    "logging.debug(\"Class Labels: {}\".format(class_labels))\n",
    "\n",
    "sv_indices = model.get_sv_indices()\n",
    "logging.debug(\"Support Vectors Indices: {}\".format(sv_indices))\n",
    "\n",
    "nr_sv = model.get_nr_sv()\n",
    "logging.debug(\"Number of Support Vectors: {}\".format(nr_sv))\n",
    "\n",
    "is_prob_model = model.is_probability_model()\n",
    "logging.debug(\"Is Probability Model: {}\".format(is_prob_model))\n",
    "\n",
    "support_vector_coefficients = model.get_sv_coef()\n",
    "logging.debug(\"Support Vector Coefficients: {}\".format(support_vector_coefficients))\n",
    "\n",
    "support_vectors = model.get_SV()\n",
    "logging.debug(\"Support Vectors: {}\".format(support_vectors))"
   ]
  },
  {
   "cell_type": "code",
   "execution_count": 91,
   "metadata": {},
   "outputs": [],
   "source": [
    "for data_idx, _ in enumerate(support_vectors):\n",
    "    for dim_idx in range(maxdim):\n",
    "        if dim_idx + 1 not in support_vectors[data_idx]:\n",
    "            print(\"add key {} in support_vectors {}\".format(dim_idx+1, data_idx))\n",
    "            support_vectors[data_idx][dim_idx+1] = 0"
   ]
  },
  {
   "cell_type": "code",
   "execution_count": 92,
   "metadata": {},
   "outputs": [
    {
     "name": "stderr",
     "output_type": "stream",
     "text": [
      "Support Vector Indices: 0, Data Indices: 11\n",
      "Support Vectors from SV: {1: 0.3, 2: 0.514}, Support Vectors Coeff: (104.62659496012338,), Support Vectors from Data: {1: 0.3, 2: 0.514}, Yi: 1, Model Output: [0.9997449702878072]\n",
      "Support Vector Indices: 1, Data Indices: 23\n",
      "Support Vectors from SV: {1: 0.636, 2: 0.366}, Support Vectors Coeff: (68.25101764319216,), Support Vectors from Data: {1: 0.636, 2: 0.366}, Yi: 1, Model Output: [1.000127116292063]\n",
      "Support Vector Indices: 2, Data Indices: 60\n",
      "Support Vectors from SV: {1: 0.476, 2: 0.554}, Support Vectors Coeff: (-172.87761260331555,), Support Vectors from Data: {1: 0.476, 2: 0.554}, Yi: -1, Model Output: [-0.9998699829776996]\n",
      "Support Vectors from SV: {1: 0.3, 2: 0.514}\n",
      "Support Vectors from SV: {1: 0.636, 2: 0.366}\n",
      "Support Vectors from SV: {1: 0.476, 2: 0.554}\n",
      "Support Vectors Coeff: (104.62659496012338,)\n",
      "Support Vectors Coeff: (68.25101764319216,)\n",
      "Support Vectors Coeff: (-172.87761260331555,)\n"
     ]
    }
   ],
   "source": [
    "for sv_idx, data_idx in enumerate(sv_indices):\n",
    "    logging.debug(\"Support Vector Indices: {}, Data Indices: {}\".format(sv_idx, data_idx))\n",
    "    logging.debug(\"Support Vectors from SV: {}, Support Vectors Coeff: {}, Support Vectors from Data: {}, Yi: {}, Model Output: {}\".format(\n",
    "        support_vectors[sv_idx], support_vector_coefficients[sv_idx], dataset[data_idx-1], yi[data_idx-1], p_val[data_idx-1]))\n",
    "    \n",
    "for i in support_vectors:\n",
    "    logging.debug(\"Support Vectors from SV: {}\".format(i))\n",
    "\n",
    "for i in support_vector_coefficients:\n",
    "    logging.debug(\"Support Vectors Coeff: {}\".format(i))"
   ]
  },
  {
   "cell_type": "code",
   "execution_count": 93,
   "metadata": {},
   "outputs": [
    {
     "name": "stderr",
     "output_type": "stream",
     "text": [
      "w1: -7.494117890070967, w2: -17.016255115325066\n",
      "Yi: 1, WtXi: -10.994590496298375\n",
      "Yi: 1, WtXi: -10.994208350294109\n",
      "Yi: -1, WtXi: -12.994205449563868\n",
      "w0 = 11.994334765385451\n"
     ]
    }
   ],
   "source": [
    "w1, w2 = 0.0, 0.0\n",
    "for sv_idx, data_idx in enumerate(sv_indices):\n",
    "    w1 = w1 + support_vector_coefficients[sv_idx][0]*dataset[data_idx-1][1]\n",
    "    w2 = w2 + support_vector_coefficients[sv_idx][0]*dataset[data_idx-1][2]\n",
    "        \n",
    "logging.debug(\"w1: {}, w2: {}\".format(w1, w2))\n",
    "\n",
    "w0 = 0.0\n",
    "for sv_idx, data_idx in enumerate(sv_indices):\n",
    "    logging.debug(\"Yi: {}, WtXi: {}\".format(\n",
    "        1 if support_vector_coefficients[sv_idx][0] > 0 else -1,\n",
    "        (w1*support_vectors[sv_idx][1]+w2*support_vectors[sv_idx][2])))\n",
    "    w0 = w0 + (1 if support_vector_coefficients[sv_idx][0] > 0 else -1) - (w1*support_vectors[sv_idx][1]+w2*support_vectors[sv_idx][2])\n",
    "w0 = w0 / nr_sv\n",
    "logging.debug(\"w0 = {}\".format(w0))"
   ]
  },
  {
   "cell_type": "code",
   "execution_count": 104,
   "metadata": {},
   "outputs": [
    {
     "name": "stdout",
     "output_type": "stream",
     "text": [
      "[0.202 0.27  0.276 0.276 0.278 0.378 0.412 0.382 0.368 0.326 0.3   0.142\n",
      " 0.21  0.202 0.308 0.496 0.424 0.342 0.314 0.304 0.216 0.274 0.636 0.514\n",
      " 0.48  0.476 0.564 0.412]\n",
      "[0.454 0.374 0.304 0.268 0.218 0.18  0.226 0.332 0.284 0.38  0.514 0.426\n",
      " 0.294 0.246 0.17  0.18  0.254 0.24  0.306 0.432 0.38  0.448 0.366 0.272\n",
      " 0.346 0.41  0.354 0.404]\n",
      "[0.616 0.576 0.612 0.706 0.758 0.768 0.716 0.638 0.494 0.554 0.584 0.64\n",
      " 0.718 0.852 0.788 0.738 0.648 0.698 0.678 0.782 0.822 0.784 0.764 0.792\n",
      " 0.92  0.928 0.814 0.838 0.5   0.536 0.452 0.476 0.388 0.342 0.384]\n",
      "[0.832 0.74  0.678 0.62  0.654 0.702 0.708 0.758 0.806 0.694 0.628 0.58\n",
      " 0.536 0.55  0.618 0.662 0.68  0.658 0.538 0.48  0.472 0.43  0.526 0.568\n",
      " 0.598 0.716 0.662 0.64  0.66  0.58  0.602 0.554 0.652 0.672 0.714]\n"
     ]
    },
    {
     "data": {
      "image/png": "[encoded data removed]",
      "text/plain": [
       "<Figure size 432x288 with 1 Axes>"
      ]
     },
     "metadata": {
      "needs_background": "light"
     },
     "output_type": "display_data"
    },
    {
     "name": "stdout",
     "output_type": "stream",
     "text": [
      "Time: 0.011964797973632812 sec\n"
     ]
    }
   ],
   "source": [
    "import matplotlib.pyplot as plt\n",
    "\n",
    "xmin = np.min([data_list[feat_idx] for data_idx, data_list in enumerate(dataset) for dim_idx, feat_idx in enumerate(data_list) if dim_idx == 0])\n",
    "xmax = np.max([data_list[feat_idx] for data_idx, data_list in enumerate(dataset) for dim_idx, feat_idx in enumerate(data_list) if dim_idx == 0])\n",
    "ymin = np.min([data_list[feat_idx] for data_idx, data_list in enumerate(dataset) for dim_idx, feat_idx in enumerate(data_list) if dim_idx == 1])\n",
    "ymax = np.max([data_list[feat_idx] for data_idx, data_list in enumerate(dataset) for dim_idx, feat_idx in enumerate(data_list) if dim_idx == 1])\n",
    "   \n",
    "plt.axis([xmin, xmax, ymin, ymax])\n",
    "plot_x = np.arange(xmin, xmax, 0.01)\n",
    "plot_y = np.arange(ymin, ymax, 0.01)\n",
    "\n",
    "total_time = 0\n",
    "for x_point in plot_x:\n",
    "    for y_point in plot_y:\n",
    "        start_time = time.time()\n",
    "        fun_value = w1*x_point + w2*y_point + w0\n",
    "        total_time = total_time + time.time() - start_time\n",
    "        \n",
    "        if fun_value >= 1:\n",
    "            plt.plot(x_point, y_point, \"o\", color='#beffff')\n",
    "        elif fun_value >=0 and fun_value < 1:\n",
    "            plt.plot(x_point, y_point, \"o\", color='#b4dcaa')\n",
    "        elif fun_value >-1 and fun_value < 0:\n",
    "            plt.plot(x_point, y_point, \"o\", color='#96be96')\n",
    "        else:\n",
    "            plt.plot(x_point, y_point, \"o\", color='#ffe6aa')\n",
    "\n",
    "plot_x = np.array([data_list[feat_idx] for data_idx, data_list in enumerate(dataset) if yi[data_idx] == 1 for dim_idx, feat_idx in enumerate(data_list) if dim_idx == 0])\n",
    "plot_y = np.array([data_list[feat_idx] for data_idx, data_list in enumerate(dataset) if yi[data_idx] == 1 for dim_idx, feat_idx in enumerate(data_list) if dim_idx == 1])\n",
    "print(plot_x)\n",
    "print(plot_y)\n",
    "plt.plot(plot_x, plot_y, \".\")\n",
    "\n",
    "plot_x = np.array([data_list[feat_idx] for data_idx, data_list in enumerate(dataset) if yi[data_idx] == -1 for dim_idx, feat_idx in enumerate(data_list) if dim_idx == 0])\n",
    "plot_y = np.array([data_list[feat_idx] for data_idx, data_list in enumerate(dataset) if yi[data_idx] == -1 for dim_idx, feat_idx in enumerate(data_list) if dim_idx == 1])\n",
    "print(plot_x)\n",
    "print(plot_y)\n",
    "plt.plot(plot_x, plot_y, \"+\")\n",
    "\n",
    "plot_x = np.array([data_list[feat_idx] for data_idx, data_list in enumerate(support_vectors) if abs(support_vector_coefficients[data_idx][0]) == C_cost for dim_idx, feat_idx in enumerate(data_list) if dim_idx == 0])\n",
    "plot_y = np.array([data_list[feat_idx] for data_idx, data_list in enumerate(support_vectors) if abs(support_vector_coefficients[data_idx][0]) == C_cost for dim_idx, feat_idx in enumerate(data_list) if dim_idx == 1])\n",
    "#print(plot_x)\n",
    "#print(plot_y)\n",
    "plt.plot(plot_x, plot_y, \"og\")\n",
    "\n",
    "plot_x = np.array([data_list[feat_idx] for data_idx, data_list in enumerate(support_vectors) if abs(support_vector_coefficients[data_idx][0]) != C_cost for dim_idx, feat_idx in enumerate(data_list) if dim_idx == 0])\n",
    "plot_y = np.array([data_list[feat_idx] for data_idx, data_list in enumerate(support_vectors) if abs(support_vector_coefficients[data_idx][0]) != C_cost for dim_idx, feat_idx in enumerate(data_list) if dim_idx == 1])\n",
    "#print(plot_x)\n",
    "#print(plot_y)\n",
    "plt.plot(plot_x, plot_y, \"or\")\n",
    "\n",
    "plot_x = np.arange(\n",
    "    np.min([data_list[feat_idx] for data_idx, data_list in enumerate(dataset) for dim_idx, feat_idx in enumerate(data_list) if dim_idx == 0]),\n",
    "    np.max([data_list[feat_idx] for data_idx, data_list in enumerate(dataset) for dim_idx, feat_idx in enumerate(data_list) if dim_idx == 0]),\n",
    "    0.01)\n",
    "plot_y = (-w0-w1*plot_x)/w2\n",
    "plt.plot(plot_x, plot_y)\n",
    "\n",
    "plot_y = (1-w0-w1*plot_x)/w2\n",
    "plt.plot(plot_x, plot_y)\n",
    "\n",
    "plot_y = (-1-w0-w1*plot_x)/w2\n",
    "plt.plot(plot_x, plot_y)\n",
    "\n",
    "plt.show()\n",
    "print(\"Time: {} sec\".format(total_time))"
   ]
  },
  {
   "cell_type": "code",
   "execution_count": 95,
   "metadata": {},
   "outputs": [
    {
     "name": "stdout",
     "output_type": "stream",
     "text": [
      "[0.202 0.27  0.276 0.276 0.278 0.378 0.412 0.382 0.368 0.326 0.3   0.142\n",
      " 0.21  0.202 0.308 0.496 0.424 0.342 0.314 0.304 0.216 0.274 0.636 0.514\n",
      " 0.48  0.476 0.564 0.412]\n",
      "[0.454 0.374 0.304 0.268 0.218 0.18  0.226 0.332 0.284 0.38  0.514 0.426\n",
      " 0.294 0.246 0.17  0.18  0.254 0.24  0.306 0.432 0.38  0.448 0.366 0.272\n",
      " 0.346 0.41  0.354 0.404]\n",
      "[0.616 0.576 0.612 0.706 0.758 0.768 0.716 0.638 0.494 0.554 0.584 0.64\n",
      " 0.718 0.852 0.788 0.738 0.648 0.698 0.678 0.782 0.822 0.784 0.764 0.792\n",
      " 0.92  0.928 0.814 0.838 0.5   0.536 0.452 0.476 0.388 0.342 0.384]\n",
      "[0.832 0.74  0.678 0.62  0.654 0.702 0.708 0.758 0.806 0.694 0.628 0.58\n",
      " 0.536 0.55  0.618 0.662 0.68  0.658 0.538 0.48  0.472 0.43  0.526 0.568\n",
      " 0.598 0.716 0.662 0.64  0.66  0.58  0.602 0.554 0.652 0.672 0.714]\n"
     ]
    },
    {
     "data": {
      "image/png": "[encoded data removed]",
      "text/plain": [
       "<Figure size 432x288 with 1 Axes>"
      ]
     },
     "metadata": {
      "needs_background": "light"
     },
     "output_type": "display_data"
    }
   ],
   "source": [
    "import matplotlib.pyplot as plt\n",
    "\n",
    "plt.cla()\n",
    "plot_x = np.array([data_list[feat_idx] for data_idx, data_list in enumerate(dataset) if yi[data_idx] == 1 for dim_idx, feat_idx in enumerate(data_list) if dim_idx == 0])\n",
    "plot_y = np.array([data_list[feat_idx] for data_idx, data_list in enumerate(dataset) if yi[data_idx] == 1 for dim_idx, feat_idx in enumerate(data_list) if dim_idx == 1])\n",
    "print(plot_x)\n",
    "print(plot_y)\n",
    "plt.plot(plot_x, plot_y, \".\")\n",
    "\n",
    "plot_x = np.array([data_list[feat_idx] for data_idx, data_list in enumerate(dataset) if yi[data_idx] == -1 for dim_idx, feat_idx in enumerate(data_list) if dim_idx == 0])\n",
    "plot_y = np.array([data_list[feat_idx] for data_idx, data_list in enumerate(dataset) if yi[data_idx] == -1 for dim_idx, feat_idx in enumerate(data_list) if dim_idx == 1])\n",
    "print(plot_x)\n",
    "print(plot_y)\n",
    "plt.plot(plot_x, plot_y, \"+\")\n",
    "\n",
    "plt.show()"
   ]
  },
  {
   "cell_type": "code",
   "execution_count": 96,
   "metadata": {},
   "outputs": [
    {
     "name": "stdout",
     "output_type": "stream",
     "text": [
      "[ 2.75514313  3.60684352  4.75301667  5.36560186  6.20142638  6.09863228\n",
      "  5.06108454  3.48218503  4.40388293  3.08507539  0.99974427  3.68124535\n",
      "  5.417791    6.29452419  6.79338309  5.21432637  4.49469998  5.34744522\n",
      "  4.43420768  2.36510072  3.90942836  2.31766417  1.00012642  3.51393678\n",
      "  2.50953391  1.45047005  1.74389796  2.03219113 -6.77956611 -4.91430592\n",
      " -4.12908635 -3.84659064 -4.81483744 -5.70655887 -5.41896227 -5.68523383\n",
      " -5.4228611  -3.9666876  -3.06843829 -2.67132865 -2.50715462 -3.74959399\n",
      " -4.42707579 -4.80108512 -4.43290711 -4.43325539 -2.24142242 -2.03386788\n",
      " -2.19750255 -1.19804336 -2.68172149 -3.60623951 -5.07597425 -7.1438453\n",
      " -5.37063808 -5.1761393  -2.98345256 -1.89194039 -1.6367921  -0.99987068\n",
      " -2.00798131 -2.00357699 -3.03301266]\n"
     ]
    }
   ],
   "source": [
    "x1 = np.array([data_list[feat_idx] for data_idx, data_list in enumerate(dataset) for dim_idx, feat_idx in enumerate(data_list) if dim_idx == 0])\n",
    "x2 = np.array([data_list[feat_idx] for data_idx, data_list in enumerate(dataset) for dim_idx, feat_idx in enumerate(data_list) if dim_idx == 1])\n",
    "x = w1 * x1 + w2 * x2 + w0\n",
    "print(x)"
   ]
  },
  {
   "cell_type": "code",
   "execution_count": 97,
   "metadata": {},
   "outputs": [
    {
     "name": "stdout",
     "output_type": "stream",
     "text": [
      "[[2.755143830434257], [3.6068442231354467], [4.753017373867763], [5.365602558019475], [6.201427078005594], [6.098632983380831], [5.0610852398134725], [3.4821857342911358], [4.403883630287737], [3.0850760905995145], [0.9997449702878072], [3.6812460470676243], [5.417791705765708], [6.294524894421869], [6.793383786839058], [5.214327072352454], [4.494700681903524], [5.347445920503887], [4.434208383814415], [2.3651014181841674], [3.909429058507328], [2.317664873041096], [1.000127116292063], [3.5139374797212923], [2.509534609449645], [1.450470753629105], [1.7438986657610656], [2.032191829285594], [-6.7795654096479865], [-4.914305223435264], [-4.129085650327653], [-3.8465899353054596], [-4.814836739510227], [-5.7065581639465535], [-5.418961564354774], [-5.685233124695515], [-5.422860394060891], [-3.9666868945487437], [-3.068437593639416], [-2.6713279499477807], [-2.507153920299004], [-3.749593289183082], [-4.427075092060633], [-4.801084422631419], [-4.432906404600857], [-4.433254686567253], [-2.241421714926858], [-2.033867178805366], [-2.197501853485619], [-1.1980426588192614], [-2.681720792089024], [-3.6062388078546803], [-5.075973551243507], [-7.143844597972432], [-5.370637382276826], [-5.17613859910135], [-2.9834518545638673], [-1.891939689380422], [-1.6367913991516048], [-0.9998699829776996], [-2.0079806099533073], [-2.003576289316541], [-3.033011955543202]]\n"
     ]
    }
   ],
   "source": [
    "print(p_val)"
   ]
  },
  {
   "cell_type": "code",
   "execution_count": 98,
   "metadata": {},
   "outputs": [
    {
     "name": "stdout",
     "output_type": "stream",
     "text": [
      "28 28\n"
     ]
    },
    {
     "data": {
      "image/png": "[encoded data removed]",
      "text/plain": [
       "<Figure size 432x288 with 1 Axes>"
      ]
     },
     "metadata": {
      "needs_background": "light"
     },
     "output_type": "display_data"
    }
   ],
   "source": [
    "w1_correct = 0\n",
    "w2_correct = 0\n",
    "\n",
    "plot_x = []\n",
    "plot_y = []\n",
    "w1_total = sum([1 for [data] in p_val if data > 0])\n",
    "w2_total = sum([1 for [data] in p_val if data > 0])\n",
    "print(w1_total, w2_total)\n",
    "for bias in np.arange(np.min([x]), np.max([x]), 0.1):\n",
    "    y = x + bias\n",
    "    #print(x, y)\n",
    "    w1_correct = sum([1 for idx, _ in enumerate(y) if y[idx] > 0 and label[idx] == class_labels[0]])\n",
    "    w2_correct = sum([1 for idx, _ in enumerate(y) if y[idx] < 0 and label[idx] == class_labels[1]])\n",
    "\n",
    "    #print(w1_correct, w2_correct)\n",
    "    plot_x = plot_x + [(w2_total-w2_correct) / w2_total]\n",
    "    plot_y = plot_y + [w1_correct / w1_total]\n",
    "\n",
    "plt.plot(plot_x, plot_y)   \n",
    "plt.show()"
   ]
  },
  {
   "cell_type": "code",
   "execution_count": 99,
   "metadata": {},
   "outputs": [
    {
     "name": "stdout",
     "output_type": "stream",
     "text": [
      "Accuracy: 100.0%\n",
      "Time: 0.002020597457885742 sec\n"
     ]
    }
   ],
   "source": [
    "#def naive_bayesian_classifier:\n",
    "\n",
    "pw1 = np.sum([1 for l in label if l == class_labels[0]]) / len(dataset)\n",
    "pw2 = np.sum([1 for l in label if l == class_labels[1]]) / len(dataset)\n",
    "\n",
    "start_time = time.time()\n",
    "#print(pw1, pw2)\n",
    "\n",
    "c1f1_mean = np.mean(np.array([data_list[feat_idx] for data_idx, data_list in enumerate(dataset) if label[data_idx] == class_labels[0] for dim_idx, feat_idx in enumerate(data_list) if dim_idx == 0]))\n",
    "c1f1_var = np.var(np.array([data_list[feat_idx] for data_idx, data_list in enumerate(dataset) if label[data_idx] == class_labels[0] for dim_idx, feat_idx in enumerate(data_list) if dim_idx == 0]))\n",
    "c1f2_mean = np.mean(np.array([data_list[feat_idx] for data_idx, data_list in enumerate(dataset) if label[data_idx] == class_labels[0] for dim_idx, feat_idx in enumerate(data_list) if dim_idx == 1]))\n",
    "c1f2_var = np.var(np.array([data_list[feat_idx] for data_idx, data_list in enumerate(dataset) if label[data_idx] == class_labels[0] for dim_idx, feat_idx in enumerate(data_list) if dim_idx == 1]))\n",
    "\n",
    "c2f1_mean = np.mean(np.array([data_list[feat_idx] for data_idx, data_list in enumerate(dataset) if label[data_idx] == class_labels[1] for dim_idx, feat_idx in enumerate(data_list) if dim_idx == 0]))\n",
    "c2f1_var = np.var(np.array([data_list[feat_idx] for data_idx, data_list in enumerate(dataset) if label[data_idx] == class_labels[1] for dim_idx, feat_idx in enumerate(data_list) if dim_idx == 0]))\n",
    "c2f2_mean = np.mean(np.array([data_list[feat_idx] for data_idx, data_list in enumerate(dataset) if label[data_idx] == class_labels[1] for dim_idx, feat_idx in enumerate(data_list) if dim_idx == 1]))\n",
    "c2f2_var = np.var(np.array([data_list[feat_idx] for data_idx, data_list in enumerate(dataset) if label[data_idx] == class_labels[1] for dim_idx, feat_idx in enumerate(data_list) if dim_idx == 1]))\n",
    "\n",
    "#print(class1_mean, class1_var)\n",
    "#print(class2_mean, class2_var)\n",
    "\n",
    "result = np.arange(len(dataset))\n",
    "#print(result)\n",
    "\n",
    "correct = 0\n",
    "for data_idx, data in enumerate(dataset):\n",
    "    pw1x = - (data[1]-c1f1_mean)*(data[1]-c1f1_mean)/2/c1f1_var - (data[2]-c1f2_mean)*(data[2]-c1f2_mean)/2/c1f2_var + math.log(pw1)\n",
    "    pw2x = - (data[1]-c2f1_mean)*(data[1]-c2f1_mean)/2/c2f1_var - (data[2]-c2f2_mean)*(data[2]-c2f2_mean)/2/c2f2_var + math.log(pw2)\n",
    "    #pw1x = math.exp(- (data[1]-c1f1_mean)*(data[1]-c1f1_mean)/2/c1f1_var - (data[2]-c1f2_mean)*(data[2]-c1f2_mean)/2/c1f2_var)\n",
    "    #pw2x = math.exp(- (data[1]-c2f1_mean)*(data[1]-c2f1_mean)/2/c2f1_var - (data[2]-c2f2_mean)*(data[2]-c2f2_mean)/2/c2f2_var)\n",
    "\n",
    "    result[data_idx] = class_labels[0] if pw1x > pw2x else class_labels[1]\n",
    "    if result[data_idx] == label[data_idx]:\n",
    "        correct = correct + 1\n",
    "\n",
    "end_time = time.time()\n",
    "\n",
    "print(\"Accuracy: {}%\".format(correct / len(dataset) * 100))\n",
    "print(\"Time: {} sec\".format(end_time - start_time))\n"
   ]
  },
  {
   "cell_type": "code",
   "execution_count": 27,
   "metadata": {},
   "outputs": [
    {
     "data": {
      "image/png": "[encoded data removed]",
      "text/plain": [
       "<Figure size 432x288 with 1 Axes>"
      ]
     },
     "metadata": {
      "needs_background": "light"
     },
     "output_type": "display_data"
    }
   ],
   "source": [
    "import matplotlib.pyplot as plt\n",
    "\n",
    "#plt.figure(figsize=(20,15))\n",
    "plt.cla()\n",
    "\n",
    "plot_x = np.arange(\n",
    "    np.min([data_list[feat_idx] for data_idx, data_list in enumerate(dataset) for dim_idx, feat_idx in enumerate(data_list) if dim_idx == 0]),\n",
    "    np.max([data_list[feat_idx] for data_idx, data_list in enumerate(dataset) for dim_idx, feat_idx in enumerate(data_list) if dim_idx == 0]),\n",
    "    0.01)\n",
    "plot_y = np.arange(\n",
    "    np.min([data_list[feat_idx] for data_idx, data_list in enumerate(dataset) for dim_idx, feat_idx in enumerate(data_list) if dim_idx == 1]),\n",
    "    np.max([data_list[feat_idx] for data_idx, data_list in enumerate(dataset) for dim_idx, feat_idx in enumerate(data_list) if dim_idx == 1]),\n",
    "    0.01)\n",
    "\n",
    "for x_point in plot_x:\n",
    "    for y_point in plot_y:\n",
    "        pw1x = - (x_point-c1f1_mean)*(x_point-c1f1_mean)/2/c1f1_var - (y_point-c1f2_mean)*(y_point-c1f2_mean)/2/c1f2_var + math.log(pw1)\n",
    "        pw2x = - (x_point-c2f1_mean)*(x_point-c2f1_mean)/2/c2f1_var - (y_point-c2f2_mean)*(y_point-c2f2_mean)/2/c2f2_var + math.log(pw2)\n",
    "        \n",
    "        #pw1x = math.exp(- (x_point-c1f1_mean)*(x_point-c1f1_mean)/2/c1f1_var - (y_point-c1f2_mean)*(y_point-c1f2_mean)/2/c1f2_var)\n",
    "        #pw2x = math.exp(- (x_point-c2f1_mean)*(x_point-c2f1_mean)/2/c2f1_var - (y_point-c2f2_mean)*(y_point-c2f2_mean)/2/c2f2_var)\n",
    "        \n",
    "        if pw1x > pw2x:\n",
    "            plt.plot(x_point, y_point, \".\", color='#00FFFF')\n",
    "        else:\n",
    "            plt.plot(x_point, y_point, \".\", color='#00FF00')\n",
    "\n",
    "plot_x = np.array([data_list[feat_idx] for data_idx, data_list in enumerate(dataset) if yi[data_idx] == 1 for dim_idx, feat_idx in enumerate(data_list) if dim_idx == 0])\n",
    "plot_y = np.array([data_list[feat_idx] for data_idx, data_list in enumerate(dataset) if yi[data_idx] == 1 for dim_idx, feat_idx in enumerate(data_list) if dim_idx == 1])\n",
    "#print(plot_x)\n",
    "#print(plot_y)\n",
    "plt.plot(plot_x, plot_y, \".b\")\n",
    "\n",
    "plot_x = np.array([data_list[feat_idx] for data_idx, data_list in enumerate(dataset) if yi[data_idx] == -1 for dim_idx, feat_idx in enumerate(data_list) if dim_idx == 0])\n",
    "plot_y = np.array([data_list[feat_idx] for data_idx, data_list in enumerate(dataset) if yi[data_idx] == -1 for dim_idx, feat_idx in enumerate(data_list) if dim_idx == 1])\n",
    "#print(plot_x)\n",
    "#print(plot_y)\n",
    "plt.plot(plot_x, plot_y, \"+r\")\n",
    "\n",
    "plt.show()"
   ]
  },
  {
   "cell_type": "code",
   "execution_count": 78,
   "metadata": {},
   "outputs": [
    {
     "name": "stdout",
     "output_type": "stream",
     "text": [
      "Accuracy: 100.0%\n",
      "Time: 0.0029625892639160156 sec\n"
     ]
    }
   ],
   "source": [
    "#def bayesian_classifier:\n",
    "\n",
    "pw1 = np.sum([1 for l in label if l == class_labels[0]]) / len(dataset)\n",
    "pw2 = np.sum([1 for l in label if l == class_labels[1]]) / len(dataset)\n",
    "\n",
    "start_time = time.time()\n",
    "#print(pw1, pw2)\n",
    "\n",
    "c1 = np.array([\n",
    "    [data_list[feat_idx] for data_idx, data_list in enumerate(dataset) if label[data_idx] == class_labels[0] for dim_idx, feat_idx in enumerate(data_list) if dim_idx == 0],\n",
    "    [data_list[feat_idx] for data_idx, data_list in enumerate(dataset) if label[data_idx] == class_labels[0] for dim_idx, feat_idx in enumerate(data_list) if dim_idx == 1]])\n",
    "c1invcov = np.linalg.inv(np.cov(c1))\n",
    "c2 = np.array([\n",
    "    [data_list[feat_idx] for data_idx, data_list in enumerate(dataset) if label[data_idx] == class_labels[1] for dim_idx, feat_idx in enumerate(data_list) if dim_idx == 0],\n",
    "    [data_list[feat_idx] for data_idx, data_list in enumerate(dataset) if label[data_idx] == class_labels[1] for dim_idx, feat_idx in enumerate(data_list) if dim_idx == 1]])\n",
    "c2invcov = np.linalg.inv(np.cov(c2))\n",
    "\n",
    "#print(c1, c2)\n",
    "#print(c1invcov, c2invcov)\n",
    "\n",
    "result = np.arange(len(dataset))\n",
    "#print(result)\n",
    "\n",
    "correct = 0\n",
    "for data_idx, data in enumerate(dataset):\n",
    "    a = np.array([[data[1]-c1f1_mean, data[2]-c1f2_mean]])\n",
    "    pw1x = -np.dot(np.dot(a, c1invcov), a.T)/2 + math.log(pw1)\n",
    "    a = np.array([[data[1]-c2f1_mean, data[2]-c2f2_mean]])\n",
    "    pw2x = -np.dot(np.dot(a, c2invcov), a.T)/2 + math.log(pw2)\n",
    "\n",
    "    result[data_idx] = class_labels[0] if pw1x > pw2x else class_labels[1]\n",
    "    if result[data_idx] == label[data_idx]:\n",
    "        correct = correct + 1\n",
    "end_time = time.time()\n",
    "\n",
    "print(\"Accuracy: {}%\".format(correct / len(dataset) * 100))\n",
    "print(\"Time: {} sec\".format(end_time - start_time))"
   ]
  },
  {
   "cell_type": "code",
   "execution_count": 29,
   "metadata": {},
   "outputs": [
    {
     "data": {
      "image/png": "[encoded data removed]",
      "text/plain": [
       "<Figure size 432x288 with 1 Axes>"
      ]
     },
     "metadata": {
      "needs_background": "light"
     },
     "output_type": "display_data"
    }
   ],
   "source": [
    "import matplotlib.pyplot as plt\n",
    "\n",
    "#plt.figure(figsize=(20,15))\n",
    "plt.cla()\n",
    "\n",
    "plot_x = np.arange(\n",
    "    np.min([data_list[feat_idx] for data_idx, data_list in enumerate(dataset) for dim_idx, feat_idx in enumerate(data_list) if dim_idx == 0]),\n",
    "    np.max([data_list[feat_idx] for data_idx, data_list in enumerate(dataset) for dim_idx, feat_idx in enumerate(data_list) if dim_idx == 0]),\n",
    "    0.01)\n",
    "plot_y = np.arange(\n",
    "    np.min([data_list[feat_idx] for data_idx, data_list in enumerate(dataset) for dim_idx, feat_idx in enumerate(data_list) if dim_idx == 1]),\n",
    "    np.max([data_list[feat_idx] for data_idx, data_list in enumerate(dataset) for dim_idx, feat_idx in enumerate(data_list) if dim_idx == 1]),\n",
    "    0.01)\n",
    "\n",
    "for x_point in plot_x:\n",
    "    for y_point in plot_y:\n",
    "        a = np.array([[x_point-c1f1_mean, y_point-c1f2_mean]])\n",
    "        pw1x = -np.dot(np.dot(a, c1invcov), a.T)/2 + math.log(pw1)\n",
    "        a = np.array([[x_point-c2f1_mean, y_point-c2f2_mean]])\n",
    "        pw2x = -np.dot(np.dot(a, c2invcov), a.T)/2 + math.log(pw2)\n",
    "        \n",
    "        if pw1x > pw2x:\n",
    "            plt.plot(x_point, y_point, \".\", color='#00FFFF')\n",
    "        else:\n",
    "            plt.plot(x_point, y_point, \".\", color='#00FF00')\n",
    "\n",
    "plot_x = np.array([data_list[feat_idx] for data_idx, data_list in enumerate(dataset) if yi[data_idx] == 1 for dim_idx, feat_idx in enumerate(data_list) if dim_idx == 0])\n",
    "plot_y = np.array([data_list[feat_idx] for data_idx, data_list in enumerate(dataset) if yi[data_idx] == 1 for dim_idx, feat_idx in enumerate(data_list) if dim_idx == 1])\n",
    "#print(plot_x)\n",
    "#print(plot_y)\n",
    "plt.plot(plot_x, plot_y, \".b\")\n",
    "\n",
    "plot_x = np.array([data_list[feat_idx] for data_idx, data_list in enumerate(dataset) if yi[data_idx] == -1 for dim_idx, feat_idx in enumerate(data_list) if dim_idx == 0])\n",
    "plot_y = np.array([data_list[feat_idx] for data_idx, data_list in enumerate(dataset) if yi[data_idx] == -1 for dim_idx, feat_idx in enumerate(data_list) if dim_idx == 1])\n",
    "#print(plot_x)\n",
    "#print(plot_y)\n",
    "plt.plot(plot_x, plot_y, \"+r\")\n",
    "\n",
    "plt.show()"
   ]
  },
  {
   "cell_type": "code",
   "execution_count": 79,
   "metadata": {},
   "outputs": [
    {
     "name": "stdout",
     "output_type": "stream",
     "text": [
      "Iteration: 49, Accuracy: 100.0%\n",
      "Time: 0.007977724075317383 sec\n"
     ]
    }
   ],
   "source": [
    "#def Percepron_classifier:\n",
    "\n",
    "w0 = 1\n",
    "w1 = 1\n",
    "w2 = 1\n",
    "tou = 0.01\n",
    "\n",
    "start_time = time.time()\n",
    "for iter in range(50):\n",
    "    correct = 0\n",
    "    for data_idx, data in enumerate(dataset):\n",
    "        result[data_idx] = class_labels[0] if w1*data[1] + w2*data[2] + w0 > 0 else class_labels[1]\n",
    "        if result[data_idx] == label[data_idx]:\n",
    "            correct = correct + 1\n",
    "        else:\n",
    "            w1 = w1 + tou*data[1] if label[data_idx] == class_labels[0] else w1 - tou*data[1]\n",
    "            w2 = w2 + tou*data[2] if label[data_idx] == class_labels[0] else w2 - tou*data[2]\n",
    "            w0 = w0 + tou if label[data_idx] == class_labels[0] else w0 - tou\n",
    "        \n",
    "end_time = time.time()\n",
    "\n",
    "print(\"Iteration: {}, Accuracy: {}%\".format(iter, correct / len(dataset) * 100))\n",
    "print(\"Time: {} sec\".format(end_time - start_time))"
   ]
  },
  {
   "cell_type": "code",
   "execution_count": 150,
   "metadata": {},
   "outputs": [
    {
     "data": {
      "image/png": "[encoded data removed]",
      "text/plain": [
       "<Figure size 432x288 with 1 Axes>"
      ]
     },
     "metadata": {
      "needs_background": "light"
     },
     "output_type": "display_data"
    }
   ],
   "source": [
    "import matplotlib.pyplot as plt\n",
    "\n",
    "#plt.figure(figsize=(20,15))\n",
    "plt.cla()\n",
    "\n",
    "plot_x = np.arange(\n",
    "    np.min([data_list[feat_idx] for data_idx, data_list in enumerate(dataset) for dim_idx, feat_idx in enumerate(data_list) if dim_idx == 0]),\n",
    "    np.max([data_list[feat_idx] for data_idx, data_list in enumerate(dataset) for dim_idx, feat_idx in enumerate(data_list) if dim_idx == 0]),\n",
    "    0.01)\n",
    "plot_y = np.arange(\n",
    "    np.min([data_list[feat_idx] for data_idx, data_list in enumerate(dataset) for dim_idx, feat_idx in enumerate(data_list) if dim_idx == 1]),\n",
    "    np.max([data_list[feat_idx] for data_idx, data_list in enumerate(dataset) for dim_idx, feat_idx in enumerate(data_list) if dim_idx == 1]),\n",
    "    0.01)\n",
    "\n",
    "for x_point in plot_x:\n",
    "    for y_point in plot_y:\n",
    "        if w1*x_point + w2*y_point + w0 > 0:\n",
    "            plt.plot(x_point, y_point, \".\", color='#00FFFF')\n",
    "        else:\n",
    "            plt.plot(x_point, y_point, \".\", color='#00FF00')\n",
    "\n",
    "plot_x = np.array([data_list[feat_idx] for data_idx, data_list in enumerate(dataset) if yi[data_idx] == 1 for dim_idx, feat_idx in enumerate(data_list) if dim_idx == 0])\n",
    "plot_y = np.array([data_list[feat_idx] for data_idx, data_list in enumerate(dataset) if yi[data_idx] == 1 for dim_idx, feat_idx in enumerate(data_list) if dim_idx == 1])\n",
    "#print(plot_x)\n",
    "#print(plot_y)\n",
    "plt.plot(plot_x, plot_y, \".b\")\n",
    "\n",
    "plot_x = np.array([data_list[feat_idx] for data_idx, data_list in enumerate(dataset) if yi[data_idx] == -1 for dim_idx, feat_idx in enumerate(data_list) if dim_idx == 0])\n",
    "plot_y = np.array([data_list[feat_idx] for data_idx, data_list in enumerate(dataset) if yi[data_idx] == -1 for dim_idx, feat_idx in enumerate(data_list) if dim_idx == 1])\n",
    "#print(plot_x)\n",
    "#print(plot_y)\n",
    "plt.plot(plot_x, plot_y, \"+r\")\n",
    "\n",
    "plt.show()"
   ]
  },
  {
   "cell_type": "code",
   "execution_count": null,
   "metadata": {},
   "outputs": [],
   "source": []
  }
 ],
 "metadata": {
  "kernelspec": {
   "display_name": "Python 3",
   "language": "python",
   "name": "python3"
  },
  "language_info": {
   "codemirror_mode": {
    "name": "ipython",
    "version": 3
   },
   "file_extension": ".py",
   "mimetype": "text/x-python",
   "name": "python",
   "nbconvert_exporter": "python",
   "pygments_lexer": "ipython3",
   "version": "3.7.7"
  }
 },
 "nbformat": 4,
 "nbformat_minor": 4
}
