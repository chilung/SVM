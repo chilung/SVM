{
 "cells": [
  {
   "cell_type": "code",
   "execution_count": 3,
   "metadata": {},
   "outputs": [
    {
     "name": "stderr",
     "output_type": "stream",
     "text": [
      "Hello Debug\n",
      "Hello Info\n",
      "Hello Warning\n",
      "Hello Error\n",
      "Hello Critical\n"
     ]
    }
   ],
   "source": [
    "import logging\n",
    "\n",
    "logging.basicConfig(level=logging.DEBUG, format='%(message)s')\n",
    "\n",
    "logging.debug('Hello Debug')\n",
    "logging.info('Hello Info')\n",
    "logging.warning('Hello Warning')\n",
    "logging.error('Hello Error')\n",
    "logging.critical('Hello Critical')"
   ]
  },
  {
   "cell_type": "code",
   "execution_count": 4,
   "metadata": {},
   "outputs": [],
   "source": [
    "from svm import *\n",
    "from svmutil import *\n",
    "import numpy as np\n",
    "import math"
   ]
  },
  {
   "cell_type": "code",
   "execution_count": 5,
   "metadata": {},
   "outputs": [],
   "source": [
    "#label, dataset = svm_read_problem('../heart_scale')"
   ]
  },
  {
   "cell_type": "code",
   "execution_count": 6,
   "metadata": {},
   "outputs": [
    {
     "name": "stderr",
     "output_type": "stream",
     "text": [
      "Length of label: 87\n",
      "Label: [2.0, 2.0, 2.0, 2.0, 2.0, 2.0, 2.0, 2.0, 2.0, 2.0, 2.0, 2.0, 2.0, 2.0, 2.0, 2.0, 2.0, 2.0, 2.0, 2.0, 2.0, 2.0, 2.0, 2.0, 2.0, 2.0, 2.0, 2.0, 3.0, 3.0, 3.0, 3.0, 3.0, 3.0, 3.0, 3.0, 3.0, 3.0, 3.0, 3.0, 3.0, 3.0, 3.0, 3.0, 3.0, 3.0, 3.0, 3.0, 3.0, 3.0, 3.0, 3.0, 3.0, 3.0, 3.0, 3.0, 3.0, 3.0, 3.0, 3.0, 3.0, 3.0, 3.0, 2.0, 2.0, 2.0, 2.0, 2.0, 2.0, 2.0, 2.0, 2.0, 2.0, 2.0, 2.0, 3.0, 3.0, 3.0, 3.0, 3.0, 3.0, 3.0, 3.0, 3.0, 3.0, 3.0, 3.0]\n",
      "Length of data: 87\n",
      "Data: [{1: 0.202, 2: 0.454}, {1: 0.27, 2: 0.374}, {1: 0.276, 2: 0.304}, {1: 0.276, 2: 0.268}, {1: 0.278, 2: 0.218}, {1: 0.378, 2: 0.18}, {1: 0.412, 2: 0.226}, {1: 0.382, 2: 0.332}, {1: 0.368, 2: 0.284}, {1: 0.326, 2: 0.38}, {1: 0.3, 2: 0.514}, {1: 0.142, 2: 0.426}, {1: 0.21, 2: 0.294}, {1: 0.202, 2: 0.246}, {1: 0.308, 2: 0.17}, {1: 0.496, 2: 0.18}, {1: 0.424, 2: 0.254}, {1: 0.342, 2: 0.24}, {1: 0.314, 2: 0.306}, {1: 0.304, 2: 0.432}, {1: 0.216, 2: 0.38}, {1: 0.274, 2: 0.448}, {1: 0.636, 2: 0.366}, {1: 0.514, 2: 0.272}, {1: 0.48, 2: 0.346}, {1: 0.476, 2: 0.41}, {1: 0.564, 2: 0.354}, {1: 0.412, 2: 0.404}, {1: 0.616, 2: 0.832}, {1: 0.576, 2: 0.74}, {1: 0.612, 2: 0.678}, {1: 0.706, 2: 0.62}, {1: 0.758, 2: 0.654}, {1: 0.768, 2: 0.702}, {1: 0.716, 2: 0.708}, {1: 0.638, 2: 0.758}, {1: 0.494, 2: 0.806}, {1: 0.554, 2: 0.694}, {1: 0.584, 2: 0.628}, {1: 0.64, 2: 0.58}, {1: 0.718, 2: 0.536}, {1: 0.852, 2: 0.55}, {1: 0.788, 2: 0.618}, {1: 0.738, 2: 0.662}, {1: 0.648, 2: 0.68}, {1: 0.698, 2: 0.658}, {1: 0.678, 2: 0.538}, {1: 0.782, 2: 0.48}, {1: 0.822, 2: 0.472}, {1: 0.784, 2: 0.43}, {1: 0.764, 2: 0.526}, {1: 0.792, 2: 0.568}, {1: 0.92, 2: 0.598}, {1: 0.928, 2: 0.716}, {1: 0.814, 2: 0.662}, {1: 0.838, 2: 0.64}, {1: 0.5, 2: 0.66}, {1: 0.536, 2: 0.58}, {1: 0.452, 2: 0.602}, {1: 0.476, 2: 0.554}, {1: 0.388, 2: 0.652}, {1: 0.342, 2: 0.672}, {1: 0.384, 2: 0.714}, {1: 0.2, 2: 0.556}, {1: 0.134, 2: 0.582}, {1: 0.18, 2: 0.708}, {1: 0.24, 2: 0.634}, {1: 0.27, 2: 0.788}, {1: 0.342, 2: 0.844}, {1: 0.164, 2: 0.85}, {1: 0.18, 2: 0.76}, {1: 0.088, 2: 0.74}, {1: 0.204, 2: 0.884}, {1: 0.686, 2: 0.244}, {1: 0.566, 2: 0.208}, {1: 0.782, 2: 0.292}, {1: 0.83, 2: 0.318}, {1: 0.792, 2: 0.204}, {1: 0.688, 2: 0.132}, {1: 0.748, 2: 0.098}, {1: 0.84, 2: 0.116}, {1: 0.858, 2: 0.23}, {1: 0.888, 2: 0.282}, {1: 0.842, 2: 0.378}, {1: 0.868, 2: 0.396}, {1: 0.916, 2: 0.476}, {1: 0.86, 2: 0.142}]\n"
     ]
    }
   ],
   "source": [
    "label, dataset = svm_read_problem('toydatarbf.dat')\n",
    "\n",
    "logging.debug(\"Length of label: {}\".format(len(label)))\n",
    "logging.debug(\"Label: {}\".format(label))\n",
    "logging.debug(\"Length of data: {}\".format(len(dataset)))\n",
    "logging.debug(\"Data: {}\".format(dataset))"
   ]
  },
  {
   "cell_type": "code",
   "execution_count": 7,
   "metadata": {},
   "outputs": [],
   "source": [
    "maxdim = np.max(np.array([len(d_item) for d_item in dataset]))\n",
    "for data_idx, _ in enumerate(dataset):\n",
    "    for dim_idx in range(maxdim):\n",
    "        if dim_idx + 1 not in dataset[data_idx]:\n",
    "            print(\"add key {} in data {}\".format(dim_idx+1, data_idx))\n",
    "            dataset[data_idx][dim_idx+1] = 0"
   ]
  },
  {
   "cell_type": "code",
   "execution_count": 8,
   "metadata": {},
   "outputs": [
    {
     "name": "stderr",
     "output_type": "stream",
     "text": [
      "Length of Data: 87, Dimension of Data: 2\n"
     ]
    }
   ],
   "source": [
    "logging.debug(\"Length of Data: {}, Dimension of Data: {}\".format(len(dataset), len(dataset[0])))\n",
    "#logging.debug(\"Read Data in One Line:\\n{}\".format(\n",
    "#    np.array([data_list[feat_idx] for data_idx, data_list in enumerate(dataset) \n",
    "#              for dim_idx, feat_idx in enumerate(data_list)]).reshape(len(dataset), len(dataset[0]))))"
   ]
  },
  {
   "cell_type": "raw",
   "metadata": {},
   "source": [
    "Usage: svm-train [options] training_set_file [model_file]\n",
    "options:\n",
    "-s svm_type : set type of SVM (default 0)\n",
    "\t0 -- C-SVC\t\t(multi-class classification)\n",
    "\t1 -- nu-SVC\t\t(multi-class classification)\n",
    "\t2 -- one-class SVM\n",
    "\t3 -- epsilon-SVR\t(regression)\n",
    "\t4 -- nu-SVR\t\t(regression)\n",
    "-t kernel_type : set type of kernel function (default 2)\n",
    "\t0 -- linear: u'*v\n",
    "\t1 -- polynomial: (gamma*u'*v + coef0)^degree\n",
    "\t2 -- radial basis function: exp(-gamma*|u-v|^2)\n",
    "\t3 -- sigmoid: tanh(gamma*u'*v + coef0)\n",
    "\t4 -- precomputed kernel (kernel values in training_set_file)\n",
    "-d degree : set degree in kernel function (default 3)\n",
    "-g gamma : set gamma in kernel function (default 1/num_features)\n",
    "-r coef0 : set coef0 in kernel function (default 0)\n",
    "-c cost : set the parameter C of C-SVC, epsilon-SVR, and nu-SVR (default 1)\n",
    "-n nu : set the parameter nu of nu-SVC, one-class SVM, and nu-SVR (default 0.5)\n",
    "-p epsilon : set the epsilon in loss function of epsilon-SVR (default 0.1)\n",
    "-m cachesize : set cache memory size in MB (default 100)\n",
    "-e epsilon : set tolerance of termination criterion (default 0.001)\n",
    "-h shrinking : whether to use the shrinking heuristics, 0 or 1 (default 1)\n",
    "-b probability_estimates : whether to train a SVC or SVR model for probability estimates, 0 or 1 (default 0)\n",
    "-wi weight : set the parameter C of class i to weight*C, for C-SVC (default 1)\n",
    "-v n: n-fold cross validation mode\n",
    "-q : quiet mode (no outputs)"
   ]
  },
  {
   "cell_type": "code",
   "execution_count": 101,
   "metadata": {},
   "outputs": [
    {
     "name": "stderr",
     "output_type": "stream",
     "text": [
      "Accuracy: (100.0, 0.0, 1.0)\n",
      "Output Label: [2.0, 2.0, 2.0, 2.0, 2.0, 2.0, 2.0, 2.0, 2.0, 2.0, 2.0, 2.0, 2.0, 2.0, 2.0, 2.0, 2.0, 2.0, 2.0, 2.0, 2.0, 2.0, 2.0, 2.0, 2.0, 2.0, 2.0, 2.0, 3.0, 3.0, 3.0, 3.0, 3.0, 3.0, 3.0, 3.0, 3.0, 3.0, 3.0, 3.0, 3.0, 3.0, 3.0, 3.0, 3.0, 3.0, 3.0, 3.0, 3.0, 3.0, 3.0, 3.0, 3.0, 3.0, 3.0, 3.0, 3.0, 3.0, 3.0, 3.0, 3.0, 3.0, 3.0, 2.0, 2.0, 2.0, 2.0, 2.0, 2.0, 2.0, 2.0, 2.0, 2.0, 2.0, 2.0, 3.0, 3.0, 3.0, 3.0, 3.0, 3.0, 3.0, 3.0, 3.0, 3.0, 3.0, 3.0]\n",
      "Model Value: [[2.726665515743606], [3.125796072646723], [3.947341238947652], [4.327055282946711], [4.730299244365819], [4.129394585939034], [3.586352212175663], [2.81325045748313], [3.4832576382339453], [2.607149573308129], [1.0624685654455148], [3.5670908158722425], [4.483036779449785], [4.969095303313582], [4.766037952096264], [2.818501578422038], [3.2753047100761505], [4.098045440771779], [3.6534079446005534], [2.065390585254755], [3.4670297334163904], [2.1196369603463565], [0.2377544786581267], [2.237280972096664], [1.8262543770943522], [0.9998337639201309], [1.0002348273531623], [1.5831643730946126], [-2.5607419337830977], [-2.7620798575925876], [-2.8157267280362164], [-2.6907156308324987], [-2.954880409332637], [-3.1428472031308474], [-3.1518939943873776], [-3.0231898248353475], [-1.8004120614602983], [-2.592943184157987], [-2.389070435969663], [-2.1699153207103223], [-1.981591268344053], [-2.416146665747496], [-2.758292940541955], [-2.988631903873119], [-2.940699006657431], [-2.929158750791521], [-1.8648534497710103], [-1.74406286538987], [-1.8798045502160705], [-1.418362594703956], [-2.0377730440544526], [-2.4291868511476395], [-2.6681374162171836], [-2.8780974422423626], [-2.9760308897514265], [-2.8666709241129795], [-2.097015702461681], [-1.6905096587597996], [-1.31295791241986], [-1.0005220312317662], [-0.9995311801105218], [-0.4782469367581883], [-1.0001067651612616], [1.8553499682341665], [2.6216593824985224], [2.1216527629861033], [1.0002322703680107], [1.2543559360983543], [0.741651017318103], [4.041673798219241], [2.5465267539753653], [3.930663929105916], [3.8910048639161494], [0.2235912771665709], [1.8799082489098793], [-1.0001464875316572], [-1.5289687796273257], [-1.4766403188346033], [-0.3136752273718231], [-1.7249226594261047], [-3.1022339680811712], [-2.246257444230898], [-2.300965725938957], [-1.6576043604944801], [-1.8906681568753982], [-2.3102473621626474], [-3.10984416066747]]\n",
      "Yi(+1/-1): [ 1  1  1  1  1  1  1  1  1  1  1  1  1  1  1  1  1  1  1  1  1  1  1  1\n",
      "  1  1  1  1 -1 -1 -1 -1 -1 -1 -1 -1 -1 -1 -1 -1 -1 -1 -1 -1 -1 -1 -1 -1\n",
      " -1 -1 -1 -1 -1 -1 -1 -1 -1 -1 -1 -1 -1 -1 -1  1  1  1  1  1  1  1  1  1\n",
      "  1  1  1 -1 -1 -1 -1 -1 -1 -1 -1 -1 -1 -1 -1]\n"
     ]
    },
    {
     "name": "stdout",
     "output_type": "stream",
     "text": [
      "Time = 0.010779142379760742 sec\n",
      "Accuracy = 100% (87/87) (classification)\n"
     ]
    }
   ],
   "source": [
    "import time\n",
    "\n",
    "gamma = 2\n",
    "C_cost = 100\n",
    "start_time = time.time()\n",
    "model = svm_train(label[:400], dataset[:400], '-s 0 -t 2 -g {} -c {}'.format(gamma, C_cost))\n",
    "end_time = time.time()\n",
    "print(\"Time = {} sec\".format(end_time - start_time))\n",
    "\n",
    "#p_label, p_acc, p_val = svm_predict(y[200:], x[200:], model)\n",
    "# using the same data set as training, just for development stage\n",
    "p_label, p_acc, p_val = svm_predict(label[:400], dataset[:400], model)\n",
    "logging.debug(\"Accuracy: {}\".format(p_acc))\n",
    "logging.debug(\"Output Label: {}\".format(p_label))\n",
    "logging.debug(\"Model Value: {}\".format(p_val))\n",
    "\n",
    "yi =np.array([1 if val >= 0 else -1 for [val] in p_val])\n",
    "logging.debug(\"Yi(+1/-1): {}\".format(yi))"
   ]
  },
  {
   "cell_type": "code",
   "execution_count": 102,
   "metadata": {},
   "outputs": [
    {
     "name": "stderr",
     "output_type": "stream",
     "text": [
      "SVM Type: 0\n",
      "Number of Class: 2\n",
      "SVM Probability: 0.0\n",
      "Class Labels: [2, 3]\n",
      "Support Vectors Indices: [23, 26, 27, 67, 69, 74, 60, 61, 62, 63, 76, 79]\n",
      "Number of Support Vectors: 12\n",
      "Is Probability Model: False\n",
      "Support Vector Coefficients: [(100.0,), (50.84651768709266,), (22.150110642132468,), (72.04389319804261,), (100.0,), (100.0,), (-79.67895209435864,), (-95.40447406406483,), (-100.0,), (-2.220674146540539,), (-67.7364212223038,), (-100.0,)]\n",
      "Support Vectors: [{1: 0.636, 2: 0.366}, {1: 0.476, 2: 0.41}, {1: 0.564, 2: 0.354}, {1: 0.24, 2: 0.634}, {1: 0.342, 2: 0.844}, {1: 0.686, 2: 0.244}, {1: 0.476, 2: 0.554}, {1: 0.388, 2: 0.652}, {1: 0.342, 2: 0.672}, {1: 0.384, 2: 0.714}, {1: 0.782, 2: 0.292}, {1: 0.688, 2: 0.132}]\n"
     ]
    }
   ],
   "source": [
    "svm_type = model.get_svm_type()\n",
    "logging.debug(\"SVM Type: {}\".format(svm_type))\n",
    "\n",
    "nr_class = model.get_nr_class()\n",
    "logging.debug(\"Number of Class: {}\".format(nr_class))\n",
    "\n",
    "svr_probability = model.get_svr_probability()\n",
    "logging.debug(\"SVM Probability: {}\".format(svr_probability))\n",
    "\n",
    "class_labels = model.get_labels()\n",
    "logging.debug(\"Class Labels: {}\".format(class_labels))\n",
    "\n",
    "sv_indices = model.get_sv_indices()\n",
    "logging.debug(\"Support Vectors Indices: {}\".format(sv_indices))\n",
    "\n",
    "nr_sv = model.get_nr_sv()\n",
    "logging.debug(\"Number of Support Vectors: {}\".format(nr_sv))\n",
    "\n",
    "is_prob_model = model.is_probability_model()\n",
    "logging.debug(\"Is Probability Model: {}\".format(is_prob_model))\n",
    "\n",
    "support_vector_coefficients = model.get_sv_coef()\n",
    "logging.debug(\"Support Vector Coefficients: {}\".format(support_vector_coefficients))\n",
    "\n",
    "support_vectors = model.get_SV()\n",
    "logging.debug(\"Support Vectors: {}\".format(support_vectors))"
   ]
  },
  {
   "cell_type": "code",
   "execution_count": 103,
   "metadata": {},
   "outputs": [],
   "source": [
    "for data_idx, _ in enumerate(support_vectors):\n",
    "    for dim_idx in range(maxdim):\n",
    "        if dim_idx + 1 not in support_vectors[data_idx]:\n",
    "            print(\"add key {} in support_vectors {}\".format(dim_idx+1, data_idx))\n",
    "            support_vectors[data_idx][dim_idx+1] = 0"
   ]
  },
  {
   "cell_type": "code",
   "execution_count": 104,
   "metadata": {},
   "outputs": [
    {
     "name": "stderr",
     "output_type": "stream",
     "text": [
      "Support Vector Indices: 0, Data Indices: 23\n",
      "Support Vectors from SV: {1: 0.636, 2: 0.366}, Support Vectors Coeff: (100.0,), Support Vectors from Data: {1: 0.636, 2: 0.366}, Yi: 1, Model Output: [0.2377544786581267]\n",
      "Support Vector Indices: 1, Data Indices: 26\n",
      "Support Vectors from SV: {1: 0.476, 2: 0.41}, Support Vectors Coeff: (50.84651768709266,), Support Vectors from Data: {1: 0.476, 2: 0.41}, Yi: 1, Model Output: [0.9998337639201309]\n",
      "Support Vector Indices: 2, Data Indices: 27\n",
      "Support Vectors from SV: {1: 0.564, 2: 0.354}, Support Vectors Coeff: (22.150110642132468,), Support Vectors from Data: {1: 0.564, 2: 0.354}, Yi: 1, Model Output: [1.0002348273531623]\n",
      "Support Vector Indices: 3, Data Indices: 67\n",
      "Support Vectors from SV: {1: 0.24, 2: 0.634}, Support Vectors Coeff: (72.04389319804261,), Support Vectors from Data: {1: 0.24, 2: 0.634}, Yi: 1, Model Output: [1.0002322703680107]\n",
      "Support Vector Indices: 4, Data Indices: 69\n",
      "Support Vectors from SV: {1: 0.342, 2: 0.844}, Support Vectors Coeff: (100.0,), Support Vectors from Data: {1: 0.342, 2: 0.844}, Yi: 1, Model Output: [0.741651017318103]\n",
      "Support Vector Indices: 5, Data Indices: 74\n",
      "Support Vectors from SV: {1: 0.686, 2: 0.244}, Support Vectors Coeff: (100.0,), Support Vectors from Data: {1: 0.686, 2: 0.244}, Yi: 1, Model Output: [0.2235912771665709]\n",
      "Support Vector Indices: 6, Data Indices: 60\n",
      "Support Vectors from SV: {1: 0.476, 2: 0.554}, Support Vectors Coeff: (-79.67895209435864,), Support Vectors from Data: {1: 0.476, 2: 0.554}, Yi: -1, Model Output: [-1.0005220312317662]\n",
      "Support Vector Indices: 7, Data Indices: 61\n",
      "Support Vectors from SV: {1: 0.388, 2: 0.652}, Support Vectors Coeff: (-95.40447406406483,), Support Vectors from Data: {1: 0.388, 2: 0.652}, Yi: -1, Model Output: [-0.9995311801105218]\n",
      "Support Vector Indices: 8, Data Indices: 62\n",
      "Support Vectors from SV: {1: 0.342, 2: 0.672}, Support Vectors Coeff: (-100.0,), Support Vectors from Data: {1: 0.342, 2: 0.672}, Yi: -1, Model Output: [-0.4782469367581883]\n",
      "Support Vector Indices: 9, Data Indices: 63\n",
      "Support Vectors from SV: {1: 0.384, 2: 0.714}, Support Vectors Coeff: (-2.220674146540539,), Support Vectors from Data: {1: 0.384, 2: 0.714}, Yi: -1, Model Output: [-1.0001067651612616]\n",
      "Support Vector Indices: 10, Data Indices: 76\n",
      "Support Vectors from SV: {1: 0.782, 2: 0.292}, Support Vectors Coeff: (-67.7364212223038,), Support Vectors from Data: {1: 0.782, 2: 0.292}, Yi: -1, Model Output: [-1.0001464875316572]\n",
      "Support Vector Indices: 11, Data Indices: 79\n",
      "Support Vectors from SV: {1: 0.688, 2: 0.132}, Support Vectors Coeff: (-100.0,), Support Vectors from Data: {1: 0.688, 2: 0.132}, Yi: -1, Model Output: [-0.3136752273718231]\n",
      "Support Vectors from SV: {1: 0.636, 2: 0.366}\n",
      "Support Vectors from SV: {1: 0.476, 2: 0.41}\n",
      "Support Vectors from SV: {1: 0.564, 2: 0.354}\n",
      "Support Vectors from SV: {1: 0.24, 2: 0.634}\n",
      "Support Vectors from SV: {1: 0.342, 2: 0.844}\n",
      "Support Vectors from SV: {1: 0.686, 2: 0.244}\n",
      "Support Vectors from SV: {1: 0.476, 2: 0.554}\n",
      "Support Vectors from SV: {1: 0.388, 2: 0.652}\n",
      "Support Vectors from SV: {1: 0.342, 2: 0.672}\n",
      "Support Vectors from SV: {1: 0.384, 2: 0.714}\n",
      "Support Vectors from SV: {1: 0.782, 2: 0.292}\n",
      "Support Vectors from SV: {1: 0.688, 2: 0.132}\n",
      "Support Vectors Coeff: (100.0,)\n",
      "Support Vectors Coeff: (50.84651768709266,)\n",
      "Support Vectors Coeff: (22.150110642132468,)\n",
      "Support Vectors Coeff: (72.04389319804261,)\n",
      "Support Vectors Coeff: (100.0,)\n",
      "Support Vectors Coeff: (100.0,)\n",
      "Support Vectors Coeff: (-79.67895209435864,)\n",
      "Support Vectors Coeff: (-95.40447406406483,)\n",
      "Support Vectors Coeff: (-100.0,)\n",
      "Support Vectors Coeff: (-2.220674146540539,)\n",
      "Support Vectors Coeff: (-67.7364212223038,)\n",
      "Support Vectors Coeff: (-100.0,)\n"
     ]
    }
   ],
   "source": [
    "for sv_idx, data_idx in enumerate(sv_indices):\n",
    "    logging.debug(\"Support Vector Indices: {}, Data Indices: {}\".format(sv_idx, data_idx))\n",
    "    logging.debug(\"Support Vectors from SV: {}, Support Vectors Coeff: {}, Support Vectors from Data: {}, Yi: {}, Model Output: {}\".format(\n",
    "        support_vectors[sv_idx], support_vector_coefficients[sv_idx], dataset[data_idx-1], yi[data_idx-1], p_val[data_idx-1]))\n",
    "    \n",
    "for i in support_vectors:\n",
    "    logging.debug(\"Support Vectors from SV: {}\".format(i))\n",
    "\n",
    "for i in support_vector_coefficients:\n",
    "    logging.debug(\"Support Vectors Coeff: {}\".format(i))"
   ]
  },
  {
   "cell_type": "code",
   "execution_count": 105,
   "metadata": {},
   "outputs": [
    {
     "name": "stdout",
     "output_type": "stream",
     "text": [
      "feature 1 mean: 0.5316321839080459\n",
      "feature 2 mean: 0.483816091954023\n"
     ]
    }
   ],
   "source": [
    "f1mean = np.mean(np.array([data_list[feat_idx] for data_idx, data_list in enumerate(dataset) for dim_idx, feat_idx in enumerate(data_list) if dim_idx == 0]))\n",
    "f2mean = np.mean(np.array([data_list[feat_idx] for data_idx, data_list in enumerate(dataset) for dim_idx, feat_idx in enumerate(data_list) if dim_idx == 1]))\n",
    "\n",
    "print(\"feature 1 mean: {}\".format(f1mean))\n",
    "print(\"feature 2 mean: {}\".format(f2mean))"
   ]
  },
  {
   "cell_type": "code",
   "execution_count": 106,
   "metadata": {},
   "outputs": [
    {
     "name": "stderr",
     "output_type": "stream",
     "text": [
      "w1: -1.2416880062287134, w2: -1.096196967191446\n",
      "Yi: 1, WtXi: -1.3132160515999658\n",
      "Yi: 1, WtXi: -0.5511367663379616\n",
      "Yi: 1, WtXi: -0.5507357029049302\n",
      "Yi: 1, WtXi: -0.5507382598900818\n",
      "Yi: 1, WtXi: -0.8093195129399895\n",
      "Yi: 1, WtXi: -1.3273792530915216\n",
      "Yi: -1, WtXi: -2.5514925614898587\n",
      "Yi: -1, WtXi: -2.5505017103686143\n",
      "Yi: -1, WtXi: -2.029217467016281\n",
      "Yi: -1, WtXi: -2.551077295419354\n"
     ]
    },
    {
     "name": "stdout",
     "output_type": "stream",
     "text": [
      "2.313216051599966\n",
      "3.8643528179379274\n",
      "5.415088520842858\n",
      "6.9658267807329395\n",
      "8.775146293672929\n",
      "11.10252554676445\n",
      "12.65401810825431\n",
      "14.204519818622924\n",
      "15.233737285639204\n"
     ]
    },
    {
     "name": "stderr",
     "output_type": "stream",
     "text": [
      "Yi: -1, WtXi: -2.5511170177897498\n",
      "Yi: -1, WtXi: -1.8646457576299156\n",
      "w0 = 1.600048113039852\n"
     ]
    },
    {
     "name": "stdout",
     "output_type": "stream",
     "text": [
      "16.78481458105856\n",
      "18.33593159884831\n",
      "19.200577356478224\n",
      "12\n"
     ]
    }
   ],
   "source": [
    "def rfb(vec_x1, vec_x2):\n",
    "    return(math.exp(-(gamma * np.dot(vec_x1-vec_x2, vec_x1-vec_x2))))\n",
    "\n",
    "def wtxrbf(value):\n",
    "    result = 0\n",
    "    for sv_idx, data_idx in enumerate(sv_indices):\n",
    "        #logging.debug(\"Coeff: {:30}, SV: {:20}, {:20}\".format(support_vector_coefficients[sv_idx][0], support_vectors[sv_idx][1], support_vectors[sv_idx][2]))\n",
    "        result = result + support_vector_coefficients[sv_idx][0]*rfb(np.array([support_vectors[sv_idx][1], support_vectors[sv_idx][2]]), value)\n",
    "    return result\n",
    "\n",
    "w1, w2 = 0.0, 0.0\n",
    "for sv_idx, data_idx in enumerate(sv_indices):\n",
    "    w1 = w1 + support_vector_coefficients[sv_idx][0]*rfb(support_vectors[sv_idx][1], f1mean)\n",
    "    w2 = w2 + support_vector_coefficients[sv_idx][0]*rfb(support_vectors[sv_idx][2], f2mean)\n",
    "    \n",
    "logging.debug(\"w1: {}, w2: {}\".format(w1, w2))\n",
    "\n",
    "w0 = 0.0\n",
    "for sv_idx, data_idx in enumerate(sv_indices):\n",
    "    sign_flag = 1 if support_vector_coefficients[sv_idx][0] > 0 else -1\n",
    "    logging.debug(\"Yi: {}, WtXi: {}\".format(\n",
    "        sign_flag,\n",
    "        wtxrbf(np.array([support_vectors[sv_idx][1], support_vectors[sv_idx][2]]))))\n",
    "    w0 = w0 + sign_flag - wtxrbf(np.array([support_vectors[sv_idx][1], support_vectors[sv_idx][2]]))\n",
    "    print(w0)\n",
    "    \n",
    "print(nr_sv)\n",
    "w0 = w0 / nr_sv\n",
    "logging.debug(\"w0 = {}\".format(w0))"
   ]
  },
  {
   "cell_type": "code",
   "execution_count": 107,
   "metadata": {},
   "outputs": [
    {
     "data": {
      "image/png": "[encoded data removed]",
      "text/plain": [
       "<Figure size 432x288 with 1 Axes>"
      ]
     },
     "metadata": {
      "needs_background": "light"
     },
     "output_type": "display_data"
    }
   ],
   "source": [
    "import matplotlib.pyplot as plt\n",
    "\n",
    "#plt.figure(figsize=(20,15))\n",
    "plt.cla()\n",
    "\n",
    "plot_x = np.arange(\n",
    "    np.min([data_list[feat_idx] for data_idx, data_list in enumerate(dataset) for dim_idx, feat_idx in enumerate(data_list) if dim_idx == 0]),\n",
    "    np.max([data_list[feat_idx] for data_idx, data_list in enumerate(dataset) for dim_idx, feat_idx in enumerate(data_list) if dim_idx == 0]),\n",
    "    0.01)\n",
    "plot_y = np.arange(\n",
    "    np.min([data_list[feat_idx] for data_idx, data_list in enumerate(dataset) for dim_idx, feat_idx in enumerate(data_list) if dim_idx == 1]),\n",
    "    np.max([data_list[feat_idx] for data_idx, data_list in enumerate(dataset) for dim_idx, feat_idx in enumerate(data_list) if dim_idx == 1]),\n",
    "    0.01)\n",
    "\n",
    "for x_point in plot_x:\n",
    "    for y_point in plot_y:\n",
    "        fun_value = wtxrbf(np.array([x_point, y_point])) + w0\n",
    "        if fun_value >= 1:\n",
    "            plt.plot(x_point, y_point, \"o\", color='#beffff')\n",
    "        elif fun_value >=0 and fun_value < 1:\n",
    "            plt.plot(x_point, y_point, \"o\", color='#b4dcaa')\n",
    "        elif fun_value >-1 and fun_value < 0:\n",
    "            plt.plot(x_point, y_point, \"o\", color='#96be96')\n",
    "        else:\n",
    "            plt.plot(x_point, y_point, \"o\", color='#ffe6aa')\n",
    "\n",
    "plot_x = np.array([data_list[feat_idx] for data_idx, data_list in enumerate(dataset) if yi[data_idx] == 1 for dim_idx, feat_idx in enumerate(data_list) if dim_idx == 0])\n",
    "plot_y = np.array([data_list[feat_idx] for data_idx, data_list in enumerate(dataset) if yi[data_idx] == 1 for dim_idx, feat_idx in enumerate(data_list) if dim_idx == 1])\n",
    "#print(plot_x)\n",
    "#print(plot_y)\n",
    "plt.plot(plot_x, plot_y, \".b\")\n",
    "\n",
    "plot_x = np.array([data_list[feat_idx] for data_idx, data_list in enumerate(dataset) if yi[data_idx] == -1 for dim_idx, feat_idx in enumerate(data_list) if dim_idx == 0])\n",
    "plot_y = np.array([data_list[feat_idx] for data_idx, data_list in enumerate(dataset) if yi[data_idx] == -1 for dim_idx, feat_idx in enumerate(data_list) if dim_idx == 1])\n",
    "#print(plot_x)\n",
    "#print(plot_y)\n",
    "plt.plot(plot_x, plot_y, \"+r\")\n",
    "\n",
    "plot_x = np.array([data_list[feat_idx] for data_idx, data_list in enumerate(support_vectors) if abs(support_vector_coefficients[data_idx][0]) == C_cost for dim_idx, feat_idx in enumerate(data_list) if dim_idx == 0])\n",
    "plot_y = np.array([data_list[feat_idx] for data_idx, data_list in enumerate(support_vectors) if abs(support_vector_coefficients[data_idx][0]) == C_cost for dim_idx, feat_idx in enumerate(data_list) if dim_idx == 1])\n",
    "#print(plot_x)\n",
    "#print(plot_y)\n",
    "plt.plot(plot_x, plot_y, \"og\")\n",
    "\n",
    "plot_x = np.array([data_list[feat_idx] for data_idx, data_list in enumerate(support_vectors) if abs(support_vector_coefficients[data_idx][0]) != C_cost for dim_idx, feat_idx in enumerate(data_list) if dim_idx == 0])\n",
    "plot_y = np.array([data_list[feat_idx] for data_idx, data_list in enumerate(support_vectors) if abs(support_vector_coefficients[data_idx][0]) != C_cost for dim_idx, feat_idx in enumerate(data_list) if dim_idx == 1])\n",
    "#print(plot_x)\n",
    "#print(plot_y)\n",
    "plt.plot(plot_x, plot_y, \"or\")\n",
    "\n",
    "#plot_y = (1-w0-w1*plot_x)/w2\n",
    "#plt.plot(plot_x, plot_y)\n",
    "\n",
    "#plot_y = (-1-w0-w1*plot_x)/w2\n",
    "#plt.plot(plot_x, plot_y)\n",
    "\n",
    "plt.show()"
   ]
  },
  {
   "cell_type": "code",
   "execution_count": 100,
   "metadata": {},
   "outputs": [
    {
     "name": "stdout",
     "output_type": "stream",
     "text": [
      "#ffe6aa\n"
     ]
    }
   ],
   "source": [
    "color = '#{:2x}{:2x}{:2x}'.format(255, 230, 170)\n",
    "print(color)"
   ]
  },
  {
   "cell_type": "code",
   "execution_count": 84,
   "metadata": {},
   "outputs": [
    {
     "data": {
      "image/png": "[encoded data removed]",
      "text/plain": [
       "<Figure size 432x288 with 1 Axes>"
      ]
     },
     "metadata": {
      "needs_background": "light"
     },
     "output_type": "display_data"
    }
   ],
   "source": [
    "import matplotlib.pyplot as plt\n",
    "\n",
    "#plt.figure(figsize=(20,15))\n",
    "plt.cla()\n",
    "\n",
    "plot_x = np.array([data_list[feat_idx] for data_idx, data_list in enumerate(dataset) if yi[data_idx] == 1 for dim_idx, feat_idx in enumerate(data_list) if dim_idx == 0])\n",
    "plot_y = np.array([data_list[feat_idx] for data_idx, data_list in enumerate(dataset) if yi[data_idx] == 1 for dim_idx, feat_idx in enumerate(data_list) if dim_idx == 1])\n",
    "#print(plot_x)\n",
    "#print(plot_y)\n",
    "plt.plot(plot_x, plot_y, \".b\")\n",
    "\n",
    "plot_x = np.array([data_list[feat_idx] for data_idx, data_list in enumerate(dataset) if yi[data_idx] == -1 for dim_idx, feat_idx in enumerate(data_list) if dim_idx == 0])\n",
    "plot_y = np.array([data_list[feat_idx] for data_idx, data_list in enumerate(dataset) if yi[data_idx] == -1 for dim_idx, feat_idx in enumerate(data_list) if dim_idx == 1])\n",
    "#print(plot_x)\n",
    "#print(plot_y)\n",
    "plt.plot(plot_x, plot_y, \"+r\")\n",
    "\n",
    "plt.show()"
   ]
  },
  {
   "cell_type": "code",
   "execution_count": 17,
   "metadata": {},
   "outputs": [
    {
     "name": "stdout",
     "output_type": "stream",
     "text": [
      "[ 2.98792733  2.81038864  3.16292589  3.36709336  3.62188737  2.8984405\n",
      "  2.32257357  1.98534331  2.40826276  2.23644145  1.68286745  3.70013822\n",
      "  3.82234474  4.15065116  3.59901752  1.77289699  2.0459452   2.9088836\n",
      "  2.79398571  2.1350447   3.28262188  2.33147177 -0.66761389  1.06920553\n",
      "  0.94396114  0.58008457  0.08310583  1.24644497 -3.02832338 -2.28575742\n",
      " -2.30961989 -2.81330013 -3.40721391 -3.7177648  -3.3451852  -2.92368741\n",
      " -1.79009357 -1.85616692 -1.78449514 -2.02014943 -2.43503243 -3.53894555\n",
      " -3.44636307 -3.29290841 -2.63890751 -2.94983089 -2.10689044 -2.62247138\n",
      " -2.88273641 -2.34098522 -2.75021871 -3.20520643 -4.22577295 -4.80785085\n",
      " -3.85772829 -3.91439404 -1.15869821 -1.05552543 -0.36087356 -0.31617601\n",
      "  0.00609668  0.37191059 -0.27096906  2.43260441  2.93367258  1.86296395\n",
      "  1.61480901  0.58468558 -0.38478186  1.47125922  1.63745788  2.64837813\n",
      "  0.94484724 -0.38580293  0.94484074 -1.50537052 -2.04603992 -1.09594069\n",
      "  0.20813075 -0.1707988  -1.05512157 -1.77784412 -2.28970689 -2.48589942\n",
      " -2.78282713 -3.56093506 -1.34438688]\n"
     ]
    }
   ],
   "source": [
    "x1 = np.array([data_list[feat_idx] for data_idx, data_list in enumerate(dataset) for dim_idx, feat_idx in enumerate(data_list) if dim_idx == 0])\n",
    "x2 = np.array([data_list[feat_idx] for data_idx, data_list in enumerate(dataset) for dim_idx, feat_idx in enumerate(data_list) if dim_idx == 1])\n",
    "x = np.array([data_list[feat_idx] for data_idx, data_list in enumerate(dataset) for dim_idx, feat_idx in enumerate(data_list) if dim_idx == 0])\n",
    "\n",
    "for x1_idx, _ in enumerate(x1):\n",
    "    x_idx = x1_idx\n",
    "    x2_idx = x1_idx\n",
    "    x[x_idx] = wtxrbf(np.array([x1[x1_idx], x2[x2_idx]])) + w0\n",
    "        \n",
    "print(x)"
   ]
  },
  {
   "cell_type": "code",
   "execution_count": 356,
   "metadata": {},
   "outputs": [
    {
     "name": "stdout",
     "output_type": "stream",
     "text": [
      "7.509530781601435\n",
      "-7.476930953508989\n"
     ]
    }
   ],
   "source": [
    "print(max(x))\n",
    "print(min(x))"
   ]
  },
  {
   "cell_type": "code",
   "execution_count": 357,
   "metadata": {},
   "outputs": [
    {
     "name": "stdout",
     "output_type": "stream",
     "text": [
      "40 40\n"
     ]
    },
    {
     "data": {
      "image/png": "[encoded data removed]",
      "text/plain": [
       "<Figure size 432x288 with 1 Axes>"
      ]
     },
     "metadata": {
      "needs_background": "light"
     },
     "output_type": "display_data"
    }
   ],
   "source": [
    "w1_correct = 0\n",
    "w2_correct = 0\n",
    "\n",
    "plot_x = []\n",
    "plot_y = []\n",
    "w1_total = sum([1 for [data] in p_val if data > 0])\n",
    "w2_total = sum([1 for [data] in p_val if data > 0])\n",
    "print(w1_total, w2_total)\n",
    "for bias in np.arange(np.min([x]), np.max([x]), 0.1):\n",
    "    y = x + bias\n",
    "    #print(x, y)\n",
    "    w1_correct = sum([1 for idx, _ in enumerate(y) if y[idx] > 0 and label[idx] == class_labels[0]])\n",
    "    w2_correct = sum([1 for idx, _ in enumerate(y) if y[idx] < 0 and label[idx] == class_labels[1]])\n",
    "\n",
    "    #print(w1_correct, w2_correct)\n",
    "    plot_x = plot_x + [(w2_total-w2_correct) / w2_total]\n",
    "    plot_y = plot_y + [w1_correct / w1_total]\n",
    "\n",
    "plt.plot(plot_x, plot_y)   \n",
    "plt.show()"
   ]
  },
  {
   "cell_type": "code",
   "execution_count": 346,
   "metadata": {},
   "outputs": [
    {
     "name": "stdout",
     "output_type": "stream",
     "text": [
      "[[3.127663498985642], [3.4404298558659168], [4.489955146953692], [5.02724684939338], [5.660265929917189], [4.630472607431587], [3.839799367841154], [2.9087516753818665], [3.7212044210339474], [2.7190335568869006], [0.999982454545064], [4.497395599935119], [5.5070918936710616], [6.346931087533706], [5.716829387842411], [2.9039613798888997], [3.441894788045177], [4.568969048972834], [4.011299508873238], [2.121839980174885], [4.039985831734414], [2.2242187256272548], [0.43254936069596006], [2.2832986529049624], [1.8448862963034873], [1.0003545569509544], [1.0892047566333378], [1.5564890551097808], [-2.445145746407176], [-2.668997817527922], [-2.5962355110229662], [-2.2664858845079987], [-2.5140188398833896], [-2.7632598080460564], [-2.817766304544163], [-2.8493734027722137], [-1.823603151880631], [-2.5009474051064142], [-2.184837517124576], [-1.833084319738843], [-1.5172253747266193], [-1.9150485996994728], [-2.2665418492449287], [-2.572171801872825], [-2.6602013979515657], [-2.5507175756990517], [-1.4590554393623432], [-1.258547185369677], [-1.4111307678983547], [-1.0001560991174454], [-1.5312089301785061], [-1.9086901080069918], [-2.28443668838983], [-2.632050918210295], [-2.5316392185020202], [-2.4033869463016497], [-2.0892953699373873], [-1.5715134792287397], [-1.3690127428150998], [-1.000240177511584], [-1.161856173110861], [-0.6556417975159246], [-1.16428539833643], [2.060209629571803], [3.2603672719945127], [2.5875207831570908], [1.0001895333237218], [1.5001110971873306], [1.0006533528087704], [5.865400324134756], [3.273925334708368], [5.646009024534836], [5.672684142560032], [0.17232205927055766], [1.8587510288764708], [-1.0001247015568122], [-1.5294938601616348], [-2.082969493795387], [-0.9995089628807516], [-3.1811220785500307], [-5.228257729981776], [-3.02630822768762], [-2.8180859946457684], [-1.43517212034814], [-1.6721708708134582], [-2.014568215196702], [-5.039517497343438]]\n"
     ]
    }
   ],
   "source": [
    "print(p_val)"
   ]
  },
  {
   "cell_type": "code",
   "execution_count": null,
   "metadata": {},
   "outputs": [],
   "source": []
  },
  {
   "cell_type": "code",
   "execution_count": 399,
   "metadata": {},
   "outputs": [
    {
     "name": "stdout",
     "output_type": "stream",
     "text": [
      "Accuracy: 89.65517241379311%\n"
     ]
    }
   ],
   "source": [
    "#def naive_bayesian_classifier:\n",
    "\n",
    "pw1 = np.sum([1 for l in label if l == class_labels[0]]) / len(dataset)\n",
    "pw2 = np.sum([1 for l in label if l == class_labels[1]]) / len(dataset)\n",
    "\n",
    "#print(pw1, pw2)\n",
    "\n",
    "c1f1_mean = np.mean(np.array([data_list[feat_idx] for data_idx, data_list in enumerate(dataset) if label[data_idx] == class_labels[0] for dim_idx, feat_idx in enumerate(data_list) if dim_idx == 0]))\n",
    "c1f1_var = np.var(np.array([data_list[feat_idx] for data_idx, data_list in enumerate(dataset) if label[data_idx] == class_labels[0] for dim_idx, feat_idx in enumerate(data_list) if dim_idx == 0]))\n",
    "c1f2_mean = np.mean(np.array([data_list[feat_idx] for data_idx, data_list in enumerate(dataset) if label[data_idx] == class_labels[0] for dim_idx, feat_idx in enumerate(data_list) if dim_idx == 1]))\n",
    "c1f2_var = np.var(np.array([data_list[feat_idx] for data_idx, data_list in enumerate(dataset) if label[data_idx] == class_labels[0] for dim_idx, feat_idx in enumerate(data_list) if dim_idx == 1]))\n",
    "\n",
    "c2f1_mean = np.mean(np.array([data_list[feat_idx] for data_idx, data_list in enumerate(dataset) if label[data_idx] == class_labels[1] for dim_idx, feat_idx in enumerate(data_list) if dim_idx == 0]))\n",
    "c2f1_var = np.var(np.array([data_list[feat_idx] for data_idx, data_list in enumerate(dataset) if label[data_idx] == class_labels[1] for dim_idx, feat_idx in enumerate(data_list) if dim_idx == 0]))\n",
    "c2f2_mean = np.mean(np.array([data_list[feat_idx] for data_idx, data_list in enumerate(dataset) if label[data_idx] == class_labels[1] for dim_idx, feat_idx in enumerate(data_list) if dim_idx == 1]))\n",
    "c2f2_var = np.var(np.array([data_list[feat_idx] for data_idx, data_list in enumerate(dataset) if label[data_idx] == class_labels[1] for dim_idx, feat_idx in enumerate(data_list) if dim_idx == 1]))\n",
    "\n",
    "#print(class1_mean, class1_var)\n",
    "#print(class2_mean, class2_var)\n",
    "\n",
    "result = np.arange(len(dataset))\n",
    "#print(result)\n",
    "\n",
    "correct = 0\n",
    "for data_idx, data in enumerate(dataset):\n",
    "    pw1x = - (data[1]-c1f1_mean)*(data[1]-c1f1_mean)/2/c1f1_var - (data[2]-c1f2_mean)*(data[2]-c1f2_mean)/2/c1f2_var + math.log(pw1)\n",
    "    pw2x = - (data[1]-c2f1_mean)*(data[1]-c2f1_mean)/2/c2f1_var - (data[2]-c2f2_mean)*(data[2]-c2f2_mean)/2/c2f2_var + math.log(pw2)\n",
    "\n",
    "    result[data_idx] = class_labels[0] if pw1x > pw2x else class_labels[1]\n",
    "    if result[data_idx] == label[data_idx]:\n",
    "        correct = correct + 1\n",
    "\n",
    "print(\"Accuracy: {}%\".format(correct / len(dataset) * 100))\n"
   ]
  },
  {
   "cell_type": "code",
   "execution_count": 400,
   "metadata": {},
   "outputs": [
    {
     "data": {
      "image/png": "[encoded data removed]",
      "text/plain": [
       "<Figure size 432x288 with 1 Axes>"
      ]
     },
     "metadata": {
      "needs_background": "light"
     },
     "output_type": "display_data"
    }
   ],
   "source": [
    "import matplotlib.pyplot as plt\n",
    "\n",
    "#plt.figure(figsize=(20,15))\n",
    "plt.cla()\n",
    "\n",
    "plot_x = np.arange(\n",
    "    np.min([data_list[feat_idx] for data_idx, data_list in enumerate(dataset) for dim_idx, feat_idx in enumerate(data_list) if dim_idx == 0]),\n",
    "    np.max([data_list[feat_idx] for data_idx, data_list in enumerate(dataset) for dim_idx, feat_idx in enumerate(data_list) if dim_idx == 0]),\n",
    "    0.01)\n",
    "plot_y = np.arange(\n",
    "    np.min([data_list[feat_idx] for data_idx, data_list in enumerate(dataset) for dim_idx, feat_idx in enumerate(data_list) if dim_idx == 1]),\n",
    "    np.max([data_list[feat_idx] for data_idx, data_list in enumerate(dataset) for dim_idx, feat_idx in enumerate(data_list) if dim_idx == 1]),\n",
    "    0.01)\n",
    "\n",
    "for x_point in plot_x:\n",
    "    for y_point in plot_y:\n",
    "        pw1x = - (x_point-c1f1_mean)*(x_point-c1f1_mean)/2/c1f1_var - (y_point-c1f2_mean)*(y_point-c1f2_mean)/2/c1f2_var + math.log(pw1)\n",
    "        pw2x = - (x_point-c2f1_mean)*(x_point-c2f1_mean)/2/c2f1_var - (y_point-c2f2_mean)*(y_point-c2f2_mean)/2/c2f2_var + math.log(pw2)\n",
    "        \n",
    "        if pw1x > pw2x:\n",
    "            plt.plot(x_point, y_point, \".\", color='#00FFFF')\n",
    "        else:\n",
    "            plt.plot(x_point, y_point, \".\", color='#00FF00')\n",
    "\n",
    "plot_x = np.array([data_list[feat_idx] for data_idx, data_list in enumerate(dataset) if yi[data_idx] == 1 for dim_idx, feat_idx in enumerate(data_list) if dim_idx == 0])\n",
    "plot_y = np.array([data_list[feat_idx] for data_idx, data_list in enumerate(dataset) if yi[data_idx] == 1 for dim_idx, feat_idx in enumerate(data_list) if dim_idx == 1])\n",
    "#print(plot_x)\n",
    "#print(plot_y)\n",
    "plt.plot(plot_x, plot_y, \".b\")\n",
    "\n",
    "plot_x = np.array([data_list[feat_idx] for data_idx, data_list in enumerate(dataset) if yi[data_idx] == -1 for dim_idx, feat_idx in enumerate(data_list) if dim_idx == 0])\n",
    "plot_y = np.array([data_list[feat_idx] for data_idx, data_list in enumerate(dataset) if yi[data_idx] == -1 for dim_idx, feat_idx in enumerate(data_list) if dim_idx == 1])\n",
    "#print(plot_x)\n",
    "#print(plot_y)\n",
    "plt.plot(plot_x, plot_y, \"+r\")\n",
    "\n",
    "plt.show()"
   ]
  },
  {
   "cell_type": "code",
   "execution_count": 421,
   "metadata": {},
   "outputs": [
    {
     "name": "stdout",
     "output_type": "stream",
     "text": [
      "Accuracy: 91.95402298850574%\n"
     ]
    }
   ],
   "source": [
    "#def bayesian_classifier:\n",
    "\n",
    "pw1 = np.sum([1 for l in label if l == class_labels[0]]) / len(dataset)\n",
    "pw2 = np.sum([1 for l in label if l == class_labels[1]]) / len(dataset)\n",
    "\n",
    "#print(pw1, pw2)\n",
    "\n",
    "\n",
    "c1 = np.array([\n",
    "    [data_list[feat_idx] for data_idx, data_list in enumerate(dataset) if label[data_idx] == class_labels[0] for dim_idx, feat_idx in enumerate(data_list) if dim_idx == 0],\n",
    "    [data_list[feat_idx] for data_idx, data_list in enumerate(dataset) if label[data_idx] == class_labels[0] for dim_idx, feat_idx in enumerate(data_list) if dim_idx == 1]])\n",
    "c1invcov = np.linalg.inv(np.cov(c1))\n",
    "c2 = np.array([\n",
    "    [data_list[feat_idx] for data_idx, data_list in enumerate(dataset) if label[data_idx] == class_labels[1] for dim_idx, feat_idx in enumerate(data_list) if dim_idx == 0],\n",
    "    [data_list[feat_idx] for data_idx, data_list in enumerate(dataset) if label[data_idx] == class_labels[1] for dim_idx, feat_idx in enumerate(data_list) if dim_idx == 1]])\n",
    "c2invcov = np.linalg.inv(np.cov(c2))\n",
    "\n",
    "#print(c1, c2)\n",
    "#print(c1invcov, c2invcov)\n",
    "\n",
    "result = np.arange(len(dataset))\n",
    "#print(result)\n",
    "\n",
    "correct = 0\n",
    "for data_idx, data in enumerate(dataset):\n",
    "    a = np.array([[data[1]-c1f1_mean, data[2]-c1f2_mean]])\n",
    "    pw1x = -np.dot(np.dot(a, c1invcov), a.T)/2 + math.log(pw1)\n",
    "    a = np.array([[data[1]-c2f1_mean, data[2]-c2f2_mean]])\n",
    "    pw2x = -np.dot(np.dot(a, c2invcov), a.T)/2 + math.log(pw2)\n",
    "\n",
    "    result[data_idx] = class_labels[0] if pw1x > pw2x else class_labels[1]\n",
    "    if result[data_idx] == label[data_idx]:\n",
    "        correct = correct + 1\n",
    "\n",
    "print(\"Accuracy: {}%\".format(correct / len(dataset) * 100))"
   ]
  },
  {
   "cell_type": "code",
   "execution_count": 422,
   "metadata": {},
   "outputs": [
    {
     "data": {
      "image/png": "[encoded data removed]",
      "text/plain": [
       "<Figure size 432x288 with 1 Axes>"
      ]
     },
     "metadata": {
      "needs_background": "light"
     },
     "output_type": "display_data"
    }
   ],
   "source": [
    "import matplotlib.pyplot as plt\n",
    "\n",
    "#plt.figure(figsize=(20,15))\n",
    "plt.cla()\n",
    "\n",
    "plot_x = np.arange(\n",
    "    np.min([data_list[feat_idx] for data_idx, data_list in enumerate(dataset) for dim_idx, feat_idx in enumerate(data_list) if dim_idx == 0]),\n",
    "    np.max([data_list[feat_idx] for data_idx, data_list in enumerate(dataset) for dim_idx, feat_idx in enumerate(data_list) if dim_idx == 0]),\n",
    "    0.01)\n",
    "plot_y = np.arange(\n",
    "    np.min([data_list[feat_idx] for data_idx, data_list in enumerate(dataset) for dim_idx, feat_idx in enumerate(data_list) if dim_idx == 1]),\n",
    "    np.max([data_list[feat_idx] for data_idx, data_list in enumerate(dataset) for dim_idx, feat_idx in enumerate(data_list) if dim_idx == 1]),\n",
    "    0.01)\n",
    "\n",
    "for x_point in plot_x:\n",
    "    for y_point in plot_y:\n",
    "        a = np.array([[x_point-c1f1_mean, y_point-c1f2_mean]])\n",
    "        pw1x = -np.dot(np.dot(a, c1invcov), a.T)/2 + math.log(pw1)\n",
    "        a = np.array([[x_point-c2f1_mean, y_point-c2f2_mean]])\n",
    "        pw2x = -np.dot(np.dot(a, c2invcov), a.T)/2 + math.log(pw2)\n",
    "        \n",
    "        if pw1x > pw2x:\n",
    "            plt.plot(x_point, y_point, \".\", color='#00FFFF')\n",
    "        else:\n",
    "            plt.plot(x_point, y_point, \".\", color='#00FF00')\n",
    "\n",
    "plot_x = np.array([data_list[feat_idx] for data_idx, data_list in enumerate(dataset) if yi[data_idx] == 1 for dim_idx, feat_idx in enumerate(data_list) if dim_idx == 0])\n",
    "plot_y = np.array([data_list[feat_idx] for data_idx, data_list in enumerate(dataset) if yi[data_idx] == 1 for dim_idx, feat_idx in enumerate(data_list) if dim_idx == 1])\n",
    "#print(plot_x)\n",
    "#print(plot_y)\n",
    "plt.plot(plot_x, plot_y, \".b\")\n",
    "\n",
    "plot_x = np.array([data_list[feat_idx] for data_idx, data_list in enumerate(dataset) if yi[data_idx] == -1 for dim_idx, feat_idx in enumerate(data_list) if dim_idx == 0])\n",
    "plot_y = np.array([data_list[feat_idx] for data_idx, data_list in enumerate(dataset) if yi[data_idx] == -1 for dim_idx, feat_idx in enumerate(data_list) if dim_idx == 1])\n",
    "#print(plot_x)\n",
    "#print(plot_y)\n",
    "plt.plot(plot_x, plot_y, \"+r\")\n",
    "\n",
    "plt.show()"
   ]
  },
  {
   "cell_type": "code",
   "execution_count": 428,
   "metadata": {},
   "outputs": [
    {
     "name": "stdout",
     "output_type": "stream",
     "text": [
      "Iteration: 299, Accuracy: 93.10344827586206%\n"
     ]
    }
   ],
   "source": [
    "#def Percepron_classifier:\n",
    "\n",
    "w0 = 1\n",
    "w1 = 1\n",
    "w2 = 1\n",
    "tou = 0.01\n",
    "for iter in range(300):\n",
    "    correct = 0\n",
    "    if iter == 100 or iter == 200:\n",
    "        tou = tou * 0.1\n",
    "    for data_idx, data in enumerate(dataset):\n",
    "        result[data_idx] = class_labels[0] if w1*data[1] + w2*data[2] + w0 > 0 else class_labels[1]\n",
    "        if result[data_idx] == label[data_idx]:\n",
    "            correct = correct + 1\n",
    "        else:\n",
    "            w1 = w1 + tou*data[1] if label[data_idx] == class_labels[0] else w1 - tou*data[1]\n",
    "            w2 = w2 + tou*data[2] if label[data_idx] == class_labels[0] else w2 - tou*data[2]\n",
    "            w0 = w0 + tou if label[data_idx] == class_labels[0] else w0 - tou\n",
    "print(\"Iteration: {}, Accuracy: {}%\".format(iter, correct / len(dataset) * 100))"
   ]
  },
  {
   "cell_type": "code",
   "execution_count": 427,
   "metadata": {},
   "outputs": [
    {
     "data": {
      "image/png": "[encoded data removed]",
      "text/plain": [
       "<Figure size 432x288 with 1 Axes>"
      ]
     },
     "metadata": {
      "needs_background": "light"
     },
     "output_type": "display_data"
    }
   ],
   "source": [
    "import matplotlib.pyplot as plt\n",
    "\n",
    "#plt.figure(figsize=(20,15))\n",
    "plt.cla()\n",
    "\n",
    "plot_x = np.arange(\n",
    "    np.min([data_list[feat_idx] for data_idx, data_list in enumerate(dataset) for dim_idx, feat_idx in enumerate(data_list) if dim_idx == 0]),\n",
    "    np.max([data_list[feat_idx] for data_idx, data_list in enumerate(dataset) for dim_idx, feat_idx in enumerate(data_list) if dim_idx == 0]),\n",
    "    0.01)\n",
    "plot_y = np.arange(\n",
    "    np.min([data_list[feat_idx] for data_idx, data_list in enumerate(dataset) for dim_idx, feat_idx in enumerate(data_list) if dim_idx == 1]),\n",
    "    np.max([data_list[feat_idx] for data_idx, data_list in enumerate(dataset) for dim_idx, feat_idx in enumerate(data_list) if dim_idx == 1]),\n",
    "    0.01)\n",
    "\n",
    "for x_point in plot_x:\n",
    "    for y_point in plot_y:\n",
    "        if w1*x_point + w2*y_point + w0 > 0:\n",
    "            plt.plot(x_point, y_point, \".\", color='#00FFFF')\n",
    "        else:\n",
    "            plt.plot(x_point, y_point, \".\", color='#00FF00')\n",
    "\n",
    "plot_x = np.array([data_list[feat_idx] for data_idx, data_list in enumerate(dataset) if yi[data_idx] == 1 for dim_idx, feat_idx in enumerate(data_list) if dim_idx == 0])\n",
    "plot_y = np.array([data_list[feat_idx] for data_idx, data_list in enumerate(dataset) if yi[data_idx] == 1 for dim_idx, feat_idx in enumerate(data_list) if dim_idx == 1])\n",
    "#print(plot_x)\n",
    "#print(plot_y)\n",
    "plt.plot(plot_x, plot_y, \".b\")\n",
    "\n",
    "plot_x = np.array([data_list[feat_idx] for data_idx, data_list in enumerate(dataset) if yi[data_idx] == -1 for dim_idx, feat_idx in enumerate(data_list) if dim_idx == 0])\n",
    "plot_y = np.array([data_list[feat_idx] for data_idx, data_list in enumerate(dataset) if yi[data_idx] == -1 for dim_idx, feat_idx in enumerate(data_list) if dim_idx == 1])\n",
    "#print(plot_x)\n",
    "#print(plot_y)\n",
    "plt.plot(plot_x, plot_y, \"+r\")\n",
    "\n",
    "plt.show()"
   ]
  },
  {
   "cell_type": "code",
   "execution_count": 420,
   "metadata": {},
   "outputs": [
    {
     "name": "stdout",
     "output_type": "stream",
     "text": [
      "[[0 1 2]\n",
      " [2 1 0]]\n",
      "[[ 1. -1.]\n",
      " [-1.  1.]]\n"
     ]
    }
   ],
   "source": [
    "x = np.array([[0, 1, 2],\n",
    "            [2, 1, 0]])\n",
    "print(x)\n",
    "print(np.cov(x))"
   ]
  },
  {
   "cell_type": "code",
   "execution_count": 417,
   "metadata": {},
   "outputs": [
    {
     "data": {
      "image/png": "[encoded data removed]",
      "text/plain": [
       "<Figure size 432x288 with 1 Axes>"
      ]
     },
     "metadata": {
      "needs_background": "light"
     },
     "output_type": "display_data"
    }
   ],
   "source": [
    "import matplotlib.pyplot as plt\n",
    "\n",
    "#plt.figure(figsize=(20,15))\n",
    "plt.cla()\n",
    "\n",
    "plot_x = np.arange(100)\n",
    "plot_y = np.arange(100)\n",
    "\n",
    "for x_point in plot_x:\n",
    "    for y_point in plot_y:\n",
    "        a = np.array([[x_point-60, y_point-30]])\n",
    "        pw1x = -np.dot(np.dot(a, np.linalg.inv(np.array([[400, 0], [0, 200]]))), a.T)/2 + math.log(0.5)\n",
    "        a = np.array([[x_point-30, y_point-60]])\n",
    "        pw2x = -np.dot(np.dot(a, np.linalg.inv(np.array([[400, 0], [0, 200]]))), a.T)/2 + math.log(0.5)\n",
    "        \n",
    "        if pw1x > pw2x:\n",
    "            plt.plot(x_point, y_point, \".\", color='#00FFFF')\n",
    "        else:\n",
    "            plt.plot(x_point, y_point, \".\", color='#00FF00')\n",
    "\n",
    "plt.show()"
   ]
  },
  {
   "cell_type": "code",
   "execution_count": 371,
   "metadata": {},
   "outputs": [
    {
     "name": "stdout",
     "output_type": "stream",
     "text": [
      "[[1 2]\n",
      " [3 4]]\n"
     ]
    }
   ],
   "source": [
    "a = np.array([[1, 2],[3, 4]])\n",
    "print(a)"
   ]
  },
  {
   "cell_type": "code",
   "execution_count": null,
   "metadata": {},
   "outputs": [],
   "source": []
  }
 ],
 "metadata": {
  "kernelspec": {
   "display_name": "Python 3",
   "language": "python",
   "name": "python3"
  },
  "language_info": {
   "codemirror_mode": {
    "name": "ipython",
    "version": 3
   },
   "file_extension": ".py",
   "mimetype": "text/x-python",
   "name": "python",
   "nbconvert_exporter": "python",
   "pygments_lexer": "ipython3",
   "version": "3.7.7"
  }
 },
 "nbformat": 4,
 "nbformat_minor": 4
}
