{
 "cells": [
  {
   "cell_type": "code",
   "execution_count": 3,
   "metadata": {},
   "outputs": [
    {
     "name": "stderr",
     "output_type": "stream",
     "text": [
      "Hello Debug\n",
      "Hello Info\n",
      "Hello Warning\n",
      "Hello Error\n",
      "Hello Critical\n"
     ]
    }
   ],
   "source": [
    "import logging\n",
    "\n",
    "logging.basicConfig(level=logging.DEBUG, format='%(message)s')\n",
    "\n",
    "logging.debug('Hello Debug')\n",
    "logging.info('Hello Info')\n",
    "logging.warning('Hello Warning')\n",
    "logging.error('Hello Error')\n",
    "logging.critical('Hello Critical')"
   ]
  },
  {
   "cell_type": "code",
   "execution_count": 8,
   "metadata": {},
   "outputs": [],
   "source": [
    "from svm import *\n",
    "from svmutil import *"
   ]
  },
  {
   "cell_type": "code",
   "execution_count": 9,
   "metadata": {},
   "outputs": [],
   "source": [
    "#y, x = svm_read_problem('../heart_scale')"
   ]
  },
  {
   "cell_type": "code",
   "execution_count": 11,
   "metadata": {},
   "outputs": [],
   "source": [
    "y, x = svm_read_problem('data')\n",
    "logging.debug(\"Length of label: {}\".format(len(y)))\n",
    "logging.debug(\"Label: {}\".format(y))\n",
    "logging.debug(\"Length of data: {}\".format(len(x)))\n",
    "logging.debug(\"Data: {}\".format(x))"
   ]
  },
  {
   "cell_type": "raw",
   "metadata": {},
   "source": [
    "Usage: svm-train [options] training_set_file [model_file]\n",
    "options:\n",
    "-s svm_type : set type of SVM (default 0)\n",
    "\t0 -- C-SVC\t\t(multi-class classification)\n",
    "\t1 -- nu-SVC\t\t(multi-class classification)\n",
    "\t2 -- one-class SVM\n",
    "\t3 -- epsilon-SVR\t(regression)\n",
    "\t4 -- nu-SVR\t\t(regression)\n",
    "-t kernel_type : set type of kernel function (default 2)\n",
    "\t0 -- linear: u'*v\n",
    "\t1 -- polynomial: (gamma*u'*v + coef0)^degree\n",
    "\t2 -- radial basis function: exp(-gamma*|u-v|^2)\n",
    "\t3 -- sigmoid: tanh(gamma*u'*v + coef0)\n",
    "\t4 -- precomputed kernel (kernel values in training_set_file)\n",
    "-d degree : set degree in kernel function (default 3)\n",
    "-g gamma : set gamma in kernel function (default 1/num_features)\n",
    "-r coef0 : set coef0 in kernel function (default 0)\n",
    "-c cost : set the parameter C of C-SVC, epsilon-SVR, and nu-SVR (default 1)\n",
    "-n nu : set the parameter nu of nu-SVC, one-class SVM, and nu-SVR (default 0.5)\n",
    "-p epsilon : set the epsilon in loss function of epsilon-SVR (default 0.1)\n",
    "-m cachesize : set cache memory size in MB (default 100)\n",
    "-e epsilon : set tolerance of termination criterion (default 0.001)\n",
    "-h shrinking : whether to use the shrinking heuristics, 0 or 1 (default 1)\n",
    "-b probability_estimates : whether to train a SVC or SVR model for probability estimates, 0 or 1 (default 0)\n",
    "-wi weight : set the parameter C of class i to weight*C, for C-SVC (default 1)\n",
    "-v n: n-fold cross validation mode\n",
    "-q : quiet mode (no outputs)"
   ]
  },
  {
   "cell_type": "code",
   "execution_count": 13,
   "metadata": {},
   "outputs": [
    {
     "name": "stderr",
     "output_type": "stream",
     "text": [
      "Accuracy: (100.0, 0.0, 1.0)\n",
      "Output Label: [2.0, 2.0, 2.0, 2.0, 2.0, 2.0, 2.0, 2.0, 2.0, 2.0, 2.0, 2.0, 2.0, 2.0, 2.0, 2.0, 2.0, 2.0, 2.0, 2.0, 2.0, 2.0, 2.0, 2.0, 2.0, 2.0, 2.0, 2.0, 3.0, 3.0, 3.0, 3.0, 3.0, 3.0, 3.0, 3.0, 3.0, 3.0, 3.0, 3.0, 3.0, 3.0, 3.0, 3.0, 3.0, 3.0, 3.0, 3.0, 3.0, 3.0, 3.0, 3.0, 3.0, 3.0, 3.0, 3.0, 3.0, 3.0, 3.0, 3.0, 3.0, 3.0, 3.0]\n",
      "Model Value: [[2.6835390163547803], [3.4547047683022587], [4.4983478312585365], [5.041885106735117], [5.763299894868505], [5.695581860549533], [4.792359393531024], [3.338266643154066], [4.192997637056942], [2.9652801391114227], [1.0004246640755474], [3.5316047079202466], [5.069698912901751], [5.81313571744449], [6.26547447757215], [4.931790821262405], [4.281433471480193], [5.038598346964273], [4.215207242844196], [2.2898376760245984], [3.7323919152583134], [2.2539772162813225], [0.9995617128014607], [3.3812671986310594], [2.418240738978705], [1.3887345865955985], [1.6939774179713487], [1.9539927578138878], [-6.148120789537989], [-4.6248827853516215], [-3.9412239592843488], [-3.6266760049881466], [-4.437845735423386], [-5.198554668938817], [-5.016149413337024], [-5.282139105835688], [-4.9747098518238655], [-3.7908988330207816], [-2.9755278763714212], [-2.581260818691936], [-2.3536666700805196], [-3.2958208163288756], [-4.042535817251922], [-4.452660222845884], [-4.20175610542376], [-4.167900532583905], [-2.140789954396075], [-1.8096552081004995], [-1.8979964278711259], [-0.9995816408879443], [-2.4579948738648394], [-3.2825761246132625], [-4.317350464568497], [-6.022058792211203], [-4.831317760456619], [-4.612224325472345], [-2.8783195347418538], [-1.8665041778884637], [-1.5980072283203464], [-1.0004100341022075], [-1.889701408639757], [-1.8276114861815012], [-2.803100838380834]]\n",
      "Yi(+1/-1): [1, 1, 1, 1, 1, 1, 1, 1, 1, 1, 1, 1, 1, 1, 1, 1, 1, 1, 1, 1, 1, 1, 1, 1, 1, 1, 1, 1, -1, -1, -1, -1, -1, -1, -1, -1, -1, -1, -1, -1, -1, -1, -1, -1, -1, -1, -1, -1, -1, -1, -1, -1, -1, -1, -1, -1, -1, -1, -1, -1, -1, -1, -1]\n"
     ]
    },
    {
     "name": "stdout",
     "output_type": "stream",
     "text": [
      "Accuracy = 100% (63/63) (classification)\n"
     ]
    }
   ],
   "source": [
    "model = svm_train(y[:200], x[:200], '-s 0 -t 2 -c 100000')\n",
    "#p_label, p_acc, p_val = svm_predict(y[200:], x[200:], model)\n",
    "# using the same data set as training, just for development stage\n",
    "p_label, p_acc, p_val = svm_predict(y[:200], x[:200], model)\n",
    "logging.debug(\"Accuracy: {}\".format(p_acc))\n",
    "logging.debug(\"Output Label: {}\".format(p_label))\n",
    "logging.debug(\"Model Value: {}\".format(p_val))\n",
    "\n",
    "yi = [1 if val > 0 else -1 for [val] in p_val]\n",
    "logging.debug(\"Yi(+1/-1): {}\".format(yi))"
   ]
  },
  {
   "cell_type": "code",
   "execution_count": 1,
   "metadata": {},
   "outputs": [],
   "source": []
  },
  {
   "cell_type": "code",
   "execution_count": 16,
   "metadata": {},
   "outputs": [
    {
     "name": "stderr",
     "output_type": "stream",
     "text": [
      "SVM Type: 0\n",
      "Number of Class: 2\n",
      "SVM Probability: 0.0\n",
      "Class Labels: [2, 3]\n",
      "Support Vectors Indices: [11, 23, 50, 60]\n",
      "Number of Support Vectors:m 4\n",
      "Is Probability Model: False\n",
      "Support Vector Coefficients: [(74.10341590505647,), (94.4199395971309,), (-31.938336847342367,), (-136.5850186548451,)]\n",
      "Support Vectors: [{1: 0.3, 2: 0.514}, {1: 0.636, 2: 0.366}, {1: 0.784, 2: 0.43}, {1: 0.476, 2: 0.554}]\n"
     ]
    }
   ],
   "source": [
    "svm_type = model.get_svm_type()\n",
    "logging.debug(\"SVM Type: {}\".format(svm_type))\n",
    "\n",
    "nr_class = model.get_nr_class()\n",
    "logging.debug(\"Number of Class: {}\".format(nr_class))\n",
    "\n",
    "svr_probability = model.get_svr_probability()\n",
    "logging.debug(\"SVM Probability: {}\".format(svr_probability))\n",
    "\n",
    "class_labels = model.get_labels()\n",
    "logging.debug(\"Class Labels: {}\".format(class_labels))\n",
    "\n",
    "sv_indices = model.get_sv_indices()\n",
    "logging.debug(\"Support Vectors Indices: {}\".format(sv_indices))\n",
    "\n",
    "nr_sv = model.get_nr_sv()\n",
    "logging.debug(\"Number of Support Vectors:m {}\".format(nr_sv))\n",
    "\n",
    "is_prob_model = model.is_probability_model()\n",
    "logging.debug(\"Is Probability Model: {}\".format(is_prob_model))\n",
    "\n",
    "support_vector_coefficients = model.get_sv_coef()\n",
    "logging.debug(\"Support Vector Coefficients: {}\".format(support_vector_coefficients))\n",
    "\n",
    "support_vectors = model.get_SV()\n",
    "logging.debug(\"Support Vectors: {}\".format(support_vectors))"
   ]
  },
  {
   "cell_type": "code",
   "execution_count": 40,
   "metadata": {},
   "outputs": [
    {
     "name": "stdout",
     "output_type": "stream",
     "text": [
      "[11, 23, 50, 60]\n",
      "4\n",
      "4\n",
      "[(74.10341590505647,), (94.4199395971309,), (-31.938336847342367,), (-136.5850186548451,)]\n",
      "[{1: 0.3, 2: 0.514}, {1: 0.636, 2: 0.366}, {1: 0.784, 2: 0.43}, {1: 0.476, 2: 0.554}]\n"
     ]
    }
   ],
   "source": []
  },
  {
   "cell_type": "code",
   "execution_count": 54,
   "metadata": {},
   "outputs": [
    {
     "name": "stdout",
     "output_type": "stream",
     "text": [
      "0 11\n",
      "1 23\n",
      "2 50\n",
      "3 60\n",
      "0.3 0.514\n",
      "0.636 0.366\n",
      "0.784 0.43\n",
      "0.476 0.554\n"
     ]
    }
   ],
   "source": [
    "w = [0, 0]\n",
    "for sv_idx, data_idx in enumerate(sv_indices):\n",
    "    print(sv_idx, data_idx)\n",
    "    w = w + [support_vector_coefficients[sv_idx]*i[1], support_vector_coefficients[sv_idx]*i[2]]    \n",
    "for i in support_vectors:\n",
    "    print(i[1], i[2])\n"
   ]
  },
  {
   "cell_type": "code",
   "execution_count": null,
   "metadata": {},
   "outputs": [],
   "source": []
  }
 ],
 "metadata": {
  "kernelspec": {
   "display_name": "Python 3",
   "language": "python",
   "name": "python3"
  },
  "language_info": {
   "codemirror_mode": {
    "name": "ipython",
    "version": 3
   },
   "file_extension": ".py",
   "mimetype": "text/x-python",
   "name": "python",
   "nbconvert_exporter": "python",
   "pygments_lexer": "ipython3",
   "version": "3.7.7"
  }
 },
 "nbformat": 4,
 "nbformat_minor": 4
}
