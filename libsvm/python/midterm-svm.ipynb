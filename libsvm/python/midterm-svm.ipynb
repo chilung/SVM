{
 "cells": [
  {
   "cell_type": "code",
   "execution_count": 1,
   "metadata": {},
   "outputs": [
    {
     "name": "stderr",
     "output_type": "stream",
     "text": [
      "Hello Debug\n",
      "Hello Info\n",
      "Hello Warning\n",
      "Hello Error\n",
      "Hello Critical\n"
     ]
    }
   ],
   "source": [
    "import logging\n",
    "\n",
    "logging.basicConfig(level=logging.DEBUG, format='%(message)s')\n",
    "\n",
    "logging.debug('Hello Debug')\n",
    "logging.info('Hello Info')\n",
    "logging.warning('Hello Warning')\n",
    "logging.error('Hello Error')\n",
    "logging.critical('Hello Critical')"
   ]
  },
  {
   "cell_type": "code",
   "execution_count": 25,
   "metadata": {},
   "outputs": [],
   "source": [
    "from svm import *\n",
    "from svmutil import *\n",
    "import numpy as np"
   ]
  },
  {
   "cell_type": "code",
   "execution_count": 26,
   "metadata": {},
   "outputs": [],
   "source": [
    "#y, x = svm_read_problem('../heart_scale')"
   ]
  },
  {
   "cell_type": "code",
   "execution_count": 27,
   "metadata": {},
   "outputs": [
    {
     "name": "stderr",
     "output_type": "stream",
     "text": [
      "Length of label: 63\n",
      "Label: [2.0, 2.0, 2.0, 2.0, 2.0, 2.0, 2.0, 2.0, 2.0, 2.0, 2.0, 2.0, 2.0, 2.0, 2.0, 2.0, 2.0, 2.0, 2.0, 2.0, 2.0, 2.0, 2.0, 2.0, 2.0, 2.0, 2.0, 2.0, 3.0, 3.0, 3.0, 3.0, 3.0, 3.0, 3.0, 3.0, 3.0, 3.0, 3.0, 3.0, 3.0, 3.0, 3.0, 3.0, 3.0, 3.0, 3.0, 3.0, 3.0, 3.0, 3.0, 3.0, 3.0, 3.0, 3.0, 3.0, 3.0, 3.0, 3.0, 3.0, 3.0, 3.0, 3.0]\n",
      "Length of data: 63\n",
      "Data: [{1: 0.202, 2: 0.454}, {1: 0.27, 2: 0.374}, {1: 0.276, 2: 0.304}, {1: 0.276, 2: 0.268}, {1: 0.278, 2: 0.218}, {1: 0.378, 2: 0.18}, {1: 0.412, 2: 0.226}, {1: 0.382, 2: 0.332}, {1: 0.368, 2: 0.284}, {1: 0.326, 2: 0.38}, {1: 0.3, 2: 0.514}, {1: 0.142, 2: 0.426}, {1: 0.21, 2: 0.294}, {1: 0.202, 2: 0.246}, {1: 0.308, 2: 0.17}, {1: 0.496, 2: 0.18}, {1: 0.424, 2: 0.254}, {1: 0.342, 2: 0.24}, {1: 0.314, 2: 0.306}, {1: 0.304, 2: 0.432}, {1: 0.216, 2: 0.38}, {1: 0.274, 2: 0.448}, {1: 0.636, 2: 0.366}, {1: 0.514, 2: 0.272}, {1: 0.48, 2: 0.346}, {1: 0.476, 2: 0.41}, {1: 0.564, 2: 0.354}, {1: 0.412, 2: 0.404}, {1: 0.616, 2: 0.832}, {1: 0.576, 2: 0.74}, {1: 0.612, 2: 0.678}, {1: 0.706, 2: 0.62}, {1: 0.758, 2: 0.654}, {1: 0.768, 2: 0.702}, {1: 0.716, 2: 0.708}, {1: 0.638, 2: 0.758}, {1: 0.494, 2: 0.806}, {1: 0.554, 2: 0.694}, {1: 0.584, 2: 0.628}, {1: 0.64, 2: 0.58}, {1: 0.718, 2: 0.536}, {1: 0.852, 2: 0.55}, {1: 0.788, 2: 0.618}, {1: 0.738, 2: 0.662}, {1: 0.648, 2: 0.68}, {1: 0.698, 2: 0.658}, {1: 0.678, 2: 0.538}, {1: 0.782, 2: 0.48}, {1: 0.822, 2: 0.472}, {1: 0.784, 2: 0.43}, {1: 0.764, 2: 0.526}, {1: 0.792, 2: 0.568}, {1: 0.92, 2: 0.598}, {1: 0.928, 2: 0.716}, {1: 0.814, 2: 0.662}, {1: 0.838, 2: 0.64}, {1: 0.5, 2: 0.66}, {1: 0.536, 2: 0.58}, {1: 0.452, 2: 0.602}, {1: 0.476, 2: 0.554}, {1: 0.388, 2: 0.652}, {1: 0.342, 2: 0.672}, {1: 0.384, 2: 0.714}]\n"
     ]
    }
   ],
   "source": [
    "y, x = svm_read_problem('data')\n",
    "logging.debug(\"Length of label: {}\".format(len(y)))\n",
    "logging.debug(\"Label: {}\".format(y))\n",
    "logging.debug(\"Length of data: {}\".format(len(x)))\n",
    "logging.debug(\"Data: {}\".format(x))"
   ]
  },
  {
   "cell_type": "code",
   "execution_count": 74,
   "metadata": {},
   "outputs": [
    {
     "name": "stderr",
     "output_type": "stream",
     "text": [
      "Length of Data: 63, Dimension of Data: 2\n",
      "Data Source:\n",
      "[{1: 0.202, 2: 0.454}, {1: 0.27, 2: 0.374}, {1: 0.276, 2: 0.304}, {1: 0.276, 2: 0.268}, {1: 0.278, 2: 0.218}, {1: 0.378, 2: 0.18}, {1: 0.412, 2: 0.226}, {1: 0.382, 2: 0.332}, {1: 0.368, 2: 0.284}, {1: 0.326, 2: 0.38}, {1: 0.3, 2: 0.514}, {1: 0.142, 2: 0.426}, {1: 0.21, 2: 0.294}, {1: 0.202, 2: 0.246}, {1: 0.308, 2: 0.17}, {1: 0.496, 2: 0.18}, {1: 0.424, 2: 0.254}, {1: 0.342, 2: 0.24}, {1: 0.314, 2: 0.306}, {1: 0.304, 2: 0.432}, {1: 0.216, 2: 0.38}, {1: 0.274, 2: 0.448}, {1: 0.636, 2: 0.366}, {1: 0.514, 2: 0.272}, {1: 0.48, 2: 0.346}, {1: 0.476, 2: 0.41}, {1: 0.564, 2: 0.354}, {1: 0.412, 2: 0.404}, {1: 0.616, 2: 0.832}, {1: 0.576, 2: 0.74}, {1: 0.612, 2: 0.678}, {1: 0.706, 2: 0.62}, {1: 0.758, 2: 0.654}, {1: 0.768, 2: 0.702}, {1: 0.716, 2: 0.708}, {1: 0.638, 2: 0.758}, {1: 0.494, 2: 0.806}, {1: 0.554, 2: 0.694}, {1: 0.584, 2: 0.628}, {1: 0.64, 2: 0.58}, {1: 0.718, 2: 0.536}, {1: 0.852, 2: 0.55}, {1: 0.788, 2: 0.618}, {1: 0.738, 2: 0.662}, {1: 0.648, 2: 0.68}, {1: 0.698, 2: 0.658}, {1: 0.678, 2: 0.538}, {1: 0.782, 2: 0.48}, {1: 0.822, 2: 0.472}, {1: 0.784, 2: 0.43}, {1: 0.764, 2: 0.526}, {1: 0.792, 2: 0.568}, {1: 0.92, 2: 0.598}, {1: 0.928, 2: 0.716}, {1: 0.814, 2: 0.662}, {1: 0.838, 2: 0.64}, {1: 0.5, 2: 0.66}, {1: 0.536, 2: 0.58}, {1: 0.452, 2: 0.602}, {1: 0.476, 2: 0.554}, {1: 0.388, 2: 0.652}, {1: 0.342, 2: 0.672}, {1: 0.384, 2: 0.714}]\n",
      "Data Array:\n",
      "[[0.202 0.454]\n",
      " [0.27  0.374]\n",
      " [0.276 0.304]\n",
      " [0.276 0.268]\n",
      " [0.278 0.218]\n",
      " [0.378 0.18 ]\n",
      " [0.412 0.226]\n",
      " [0.382 0.332]\n",
      " [0.368 0.284]\n",
      " [0.326 0.38 ]\n",
      " [0.3   0.514]\n",
      " [0.142 0.426]\n",
      " [0.21  0.294]\n",
      " [0.202 0.246]\n",
      " [0.308 0.17 ]\n",
      " [0.496 0.18 ]\n",
      " [0.424 0.254]\n",
      " [0.342 0.24 ]\n",
      " [0.314 0.306]\n",
      " [0.304 0.432]\n",
      " [0.216 0.38 ]\n",
      " [0.274 0.448]\n",
      " [0.636 0.366]\n",
      " [0.514 0.272]\n",
      " [0.48  0.346]\n",
      " [0.476 0.41 ]\n",
      " [0.564 0.354]\n",
      " [0.412 0.404]\n",
      " [0.616 0.832]\n",
      " [0.576 0.74 ]\n",
      " [0.612 0.678]\n",
      " [0.706 0.62 ]\n",
      " [0.758 0.654]\n",
      " [0.768 0.702]\n",
      " [0.716 0.708]\n",
      " [0.638 0.758]\n",
      " [0.494 0.806]\n",
      " [0.554 0.694]\n",
      " [0.584 0.628]\n",
      " [0.64  0.58 ]\n",
      " [0.718 0.536]\n",
      " [0.852 0.55 ]\n",
      " [0.788 0.618]\n",
      " [0.738 0.662]\n",
      " [0.648 0.68 ]\n",
      " [0.698 0.658]\n",
      " [0.678 0.538]\n",
      " [0.782 0.48 ]\n",
      " [0.822 0.472]\n",
      " [0.784 0.43 ]\n",
      " [0.764 0.526]\n",
      " [0.792 0.568]\n",
      " [0.92  0.598]\n",
      " [0.928 0.716]\n",
      " [0.814 0.662]\n",
      " [0.838 0.64 ]\n",
      " [0.5   0.66 ]\n",
      " [0.536 0.58 ]\n",
      " [0.452 0.602]\n",
      " [0.476 0.554]\n",
      " [0.388 0.652]\n",
      " [0.342 0.672]\n",
      " [0.384 0.714]]\n"
     ]
    }
   ],
   "source": [
    "logging.debug(\"Length of Data: {}, Dimension of Data: {}\".format(len(x), len(x[0])))\n",
    "data = np.array([data_list[feat_idx] for data_idx, data_list in enumerate(x) for dim_idx, feat_idx in enumerate(data_list)]).reshape(len(x), len(x[0]))\n",
    "logging.debug(\"Data Source:\\n{}\".format(x))\n",
    "logging.debug(\"Data Array:\\n{}\".format(data))"
   ]
  },
  {
   "cell_type": "raw",
   "metadata": {},
   "source": [
    "Usage: svm-train [options] training_set_file [model_file]\n",
    "options:\n",
    "-s svm_type : set type of SVM (default 0)\n",
    "\t0 -- C-SVC\t\t(multi-class classification)\n",
    "\t1 -- nu-SVC\t\t(multi-class classification)\n",
    "\t2 -- one-class SVM\n",
    "\t3 -- epsilon-SVR\t(regression)\n",
    "\t4 -- nu-SVR\t\t(regression)\n",
    "-t kernel_type : set type of kernel function (default 2)\n",
    "\t0 -- linear: u'*v\n",
    "\t1 -- polynomial: (gamma*u'*v + coef0)^degree\n",
    "\t2 -- radial basis function: exp(-gamma*|u-v|^2)\n",
    "\t3 -- sigmoid: tanh(gamma*u'*v + coef0)\n",
    "\t4 -- precomputed kernel (kernel values in training_set_file)\n",
    "-d degree : set degree in kernel function (default 3)\n",
    "-g gamma : set gamma in kernel function (default 1/num_features)\n",
    "-r coef0 : set coef0 in kernel function (default 0)\n",
    "-c cost : set the parameter C of C-SVC, epsilon-SVR, and nu-SVR (default 1)\n",
    "-n nu : set the parameter nu of nu-SVC, one-class SVM, and nu-SVR (default 0.5)\n",
    "-p epsilon : set the epsilon in loss function of epsilon-SVR (default 0.1)\n",
    "-m cachesize : set cache memory size in MB (default 100)\n",
    "-e epsilon : set tolerance of termination criterion (default 0.001)\n",
    "-h shrinking : whether to use the shrinking heuristics, 0 or 1 (default 1)\n",
    "-b probability_estimates : whether to train a SVC or SVR model for probability estimates, 0 or 1 (default 0)\n",
    "-wi weight : set the parameter C of class i to weight*C, for C-SVC (default 1)\n",
    "-v n: n-fold cross validation mode\n",
    "-q : quiet mode (no outputs)"
   ]
  },
  {
   "cell_type": "code",
   "execution_count": 75,
   "metadata": {},
   "outputs": [
    {
     "name": "stderr",
     "output_type": "stream",
     "text": [
      "Accuracy: (100.0, 0.0, 1.0)\n",
      "Output Label: [2.0, 2.0, 2.0, 2.0, 2.0, 2.0, 2.0, 2.0, 2.0, 2.0, 2.0, 2.0, 2.0, 2.0, 2.0, 2.0, 2.0, 2.0, 2.0, 2.0, 2.0, 2.0, 2.0, 2.0, 2.0, 2.0, 2.0, 2.0, 3.0, 3.0, 3.0, 3.0, 3.0, 3.0, 3.0, 3.0, 3.0, 3.0, 3.0, 3.0, 3.0, 3.0, 3.0, 3.0, 3.0, 3.0, 3.0, 3.0, 3.0, 3.0, 3.0, 3.0, 3.0, 3.0, 3.0, 3.0, 3.0, 3.0, 3.0, 3.0, 3.0, 3.0, 3.0]\n",
      "Model Value: [[2.6835390163547803], [3.4547047683022587], [4.4983478312585365], [5.041885106735117], [5.763299894868505], [5.695581860549533], [4.792359393531024], [3.338266643154066], [4.192997637056942], [2.9652801391114227], [1.0004246640755474], [3.5316047079202466], [5.069698912901751], [5.81313571744449], [6.26547447757215], [4.931790821262405], [4.281433471480193], [5.038598346964273], [4.215207242844196], [2.2898376760245984], [3.7323919152583134], [2.2539772162813225], [0.9995617128014607], [3.3812671986310594], [2.418240738978705], [1.3887345865955985], [1.6939774179713487], [1.9539927578138878], [-6.148120789537989], [-4.6248827853516215], [-3.9412239592843488], [-3.6266760049881466], [-4.437845735423386], [-5.198554668938817], [-5.016149413337024], [-5.282139105835688], [-4.9747098518238655], [-3.7908988330207816], [-2.9755278763714212], [-2.581260818691936], [-2.3536666700805196], [-3.2958208163288756], [-4.042535817251922], [-4.452660222845884], [-4.20175610542376], [-4.167900532583905], [-2.140789954396075], [-1.8096552081004995], [-1.8979964278711259], [-0.9995816408879443], [-2.4579948738648394], [-3.2825761246132625], [-4.317350464568497], [-6.022058792211203], [-4.831317760456619], [-4.612224325472345], [-2.8783195347418538], [-1.8665041778884637], [-1.5980072283203464], [-1.0004100341022075], [-1.889701408639757], [-1.8276114861815012], [-2.803100838380834]]\n",
      "Yi(+1/-1): [ 1  1  1  1  1  1  1  1  1  1  1  1  1  1  1  1  1  1  1  1  1  1  1  1\n",
      "  1  1  1  1 -1 -1 -1 -1 -1 -1 -1 -1 -1 -1 -1 -1 -1 -1 -1 -1 -1 -1 -1 -1\n",
      " -1 -1 -1 -1 -1 -1 -1 -1 -1 -1 -1 -1 -1 -1 -1]\n"
     ]
    },
    {
     "name": "stdout",
     "output_type": "stream",
     "text": [
      "Accuracy = 100% (63/63) (classification)\n"
     ]
    }
   ],
   "source": [
    "model = svm_train(y[:200], x[:200], '-s 0 -t 2 -c 100000')\n",
    "#p_label, p_acc, p_val = svm_predict(y[200:], x[200:], model)\n",
    "# using the same data set as training, just for development stage\n",
    "p_label, p_acc, p_val = svm_predict(y[:200], x[:200], model)\n",
    "logging.debug(\"Accuracy: {}\".format(p_acc))\n",
    "logging.debug(\"Output Label: {}\".format(p_label))\n",
    "logging.debug(\"Model Value: {}\".format(p_val))\n",
    "\n",
    "yi =np.array([1 if val > 0 else -1 for [val] in p_val])\n",
    "logging.debug(\"Yi(+1/-1): {}\".format(yi))"
   ]
  },
  {
   "cell_type": "code",
   "execution_count": null,
   "metadata": {},
   "outputs": [],
   "source": []
  },
  {
   "cell_type": "code",
   "execution_count": 7,
   "metadata": {},
   "outputs": [
    {
     "name": "stderr",
     "output_type": "stream",
     "text": [
      "SVM Type: 0\n",
      "Number of Class: 2\n",
      "SVM Probability: 0.0\n",
      "Class Labels: [2, 3]\n",
      "Support Vectors Indices: [11, 23, 50, 60]\n",
      "Number of Support Vectors: 4\n",
      "Is Probability Model: False\n",
      "Support Vector Coefficients: [(74.10341590505647,), (94.4199395971309,), (-31.938336847342367,), (-136.5850186548451,)]\n",
      "Support Vectors: [{1: 0.3, 2: 0.514}, {1: 0.636, 2: 0.366}, {1: 0.784, 2: 0.43}, {1: 0.476, 2: 0.554}]\n"
     ]
    }
   ],
   "source": [
    "svm_type = model.get_svm_type()\n",
    "logging.debug(\"SVM Type: {}\".format(svm_type))\n",
    "\n",
    "nr_class = model.get_nr_class()\n",
    "logging.debug(\"Number of Class: {}\".format(nr_class))\n",
    "\n",
    "svr_probability = model.get_svr_probability()\n",
    "logging.debug(\"SVM Probability: {}\".format(svr_probability))\n",
    "\n",
    "class_labels = model.get_labels()\n",
    "logging.debug(\"Class Labels: {}\".format(class_labels))\n",
    "\n",
    "sv_indices = model.get_sv_indices()\n",
    "logging.debug(\"Support Vectors Indices: {}\".format(sv_indices))\n",
    "\n",
    "nr_sv = model.get_nr_sv()\n",
    "logging.debug(\"Number of Support Vectors: {}\".format(nr_sv))\n",
    "\n",
    "is_prob_model = model.is_probability_model()\n",
    "logging.debug(\"Is Probability Model: {}\".format(is_prob_model))\n",
    "\n",
    "support_vector_coefficients = model.get_sv_coef()\n",
    "logging.debug(\"Support Vector Coefficients: {}\".format(support_vector_coefficients))\n",
    "\n",
    "support_vectors = model.get_SV()\n",
    "logging.debug(\"Support Vectors: {}\".format(support_vectors))"
   ]
  },
  {
   "cell_type": "code",
   "execution_count": 15,
   "metadata": {},
   "outputs": [
    {
     "name": "stderr",
     "output_type": "stream",
     "text": [
      "Support Vector Indices: 0, Data Indices: 11\n",
      "Support Vectors from SV: {1: 0.3, 2: 0.514}, Support Vectors Coeff: (74.10341590505647,), Support Vectors from Data: {1: 0.3, 2: 0.514}, Yi: 1, Model Output: [1.0004246640755474]\n",
      "Support Vector Indices: 1, Data Indices: 23\n",
      "Support Vectors from SV: {1: 0.636, 2: 0.366}, Support Vectors Coeff: (94.4199395971309,), Support Vectors from Data: {1: 0.636, 2: 0.366}, Yi: 1, Model Output: [0.9995617128014607]\n",
      "Support Vector Indices: 2, Data Indices: 50\n",
      "Support Vectors from SV: {1: 0.784, 2: 0.43}, Support Vectors Coeff: (-31.938336847342367,), Support Vectors from Data: {1: 0.784, 2: 0.43}, Yi: -1, Model Output: [-0.9995816408879443]\n",
      "Support Vector Indices: 3, Data Indices: 60\n",
      "Support Vectors from SV: {1: 0.476, 2: 0.554}, Support Vectors Coeff: (-136.5850186548451,), Support Vectors from Data: {1: 0.476, 2: 0.554}, Yi: -1, Model Output: [-1.0004100341022075]\n",
      "Support Vectors from SV: {1: 0.3, 2: 0.514}\n",
      "Support Vectors from SV: {1: 0.636, 2: 0.366}\n",
      "Support Vectors from SV: {1: 0.784, 2: 0.43}\n",
      "Support Vectors from SV: {1: 0.476, 2: 0.554}\n",
      "Support Vectors Coeff: (74.10341590505647,)\n",
      "Support Vectors Coeff: (94.4199395971309,)\n",
      "Support Vectors Coeff: (-31.938336847342367,)\n",
      "Support Vectors Coeff: (-136.5850186548451,)\n"
     ]
    }
   ],
   "source": [
    "for sv_idx, data_idx in enumerate(sv_indices):\n",
    "    logging.debug(\"Support Vector Indices: {}, Data Indices: {}\".format(sv_idx, data_idx))\n",
    "    logging.debug(\"Support Vectors from SV: {}, Support Vectors Coeff: {}, Support Vectors from Data: {}, Yi: {}, Model Output: {}\".format(\n",
    "        support_vectors[sv_idx], support_vector_coefficients[sv_idx], x[data_idx-1], yi[data_idx-1], p_val[data_idx-1]))\n",
    "    \n",
    "for i in support_vectors:\n",
    "    logging.debug(\"Support Vectors from SV: {}\".format(i))\n",
    "\n",
    "for i in support_vector_coefficients:\n",
    "    logging.debug(\"Support Vectors Coeff: {}\".format(i))"
   ]
  },
  {
   "cell_type": "code",
   "execution_count": 81,
   "metadata": {},
   "outputs": [
    {
     "name": "stderr",
     "output_type": "stream",
     "text": [
      "W: 172.3362313233149, 162.04843884689035\n"
     ]
    },
    {
     "name": "stdout",
     "output_type": "stream",
     "text": [
      "172.3362313233149 162.04843884689035\n",
      "-133.9937669642961\n",
      "-133.9937669642961\n",
      "-167.91557173959015\n",
      "-167.91557173959015\n",
      "-205.79243406164173\n",
      "-205.79243406164173\n",
      "-172.80688123107515\n",
      "-172.80688123107515\n"
     ]
    }
   ],
   "source": [
    "w1, w2 = 0.0, 0.0\n",
    "for sv_idx, data_idx in enumerate(sv_indices):\n",
    "    w1 = w1 + support_vector_coefficients[sv_idx][0]*yi[data_idx-1]*x[data_idx-1][1]\n",
    "    w2 = w2 + support_vector_coefficients[sv_idx][0]*yi[data_idx-1]*x[data_idx-1][2]\n",
    "logging.debug(\"W: {}, {}\".format(w1, w2))\n",
    "print(w1, w2)\n",
    "\n",
    "for sv_idx, data_idx in enumerate(sv_indices):\n",
    "    print(yi[data_idx-1] - (w1*x[data_idx-1][1]+w2*x[data_idx-1][2]))\n",
    "    print(yi[data_idx-1] - (w1*support_vectors[sv_idx][1]+w2*support_vectors[sv_idx][2]))\n"
   ]
  },
  {
   "cell_type": "code",
   "execution_count": null,
   "metadata": {},
   "outputs": [],
   "source": []
  }
 ],
 "metadata": {
  "kernelspec": {
   "display_name": "Python 3",
   "language": "python",
   "name": "python3"
  },
  "language_info": {
   "codemirror_mode": {
    "name": "ipython",
    "version": 3
   },
   "file_extension": ".py",
   "mimetype": "text/x-python",
   "name": "python",
   "nbconvert_exporter": "python",
   "pygments_lexer": "ipython3",
   "version": "3.7.7"
  }
 },
 "nbformat": 4,
 "nbformat_minor": 4
}
