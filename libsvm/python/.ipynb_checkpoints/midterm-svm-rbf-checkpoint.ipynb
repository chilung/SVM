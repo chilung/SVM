{
 "cells": [
  {
   "cell_type": "code",
   "execution_count": 222,
   "metadata": {},
   "outputs": [
    {
     "name": "stderr",
     "output_type": "stream",
     "text": [
      "Hello Debug\n",
      "Hello Info\n",
      "Hello Warning\n",
      "Hello Error\n",
      "Hello Critical\n"
     ]
    }
   ],
   "source": [
    "import logging\n",
    "\n",
    "logging.basicConfig(level=logging.DEBUG, format='%(message)s')\n",
    "\n",
    "logging.debug('Hello Debug')\n",
    "logging.info('Hello Info')\n",
    "logging.warning('Hello Warning')\n",
    "logging.error('Hello Error')\n",
    "logging.critical('Hello Critical')"
   ]
  },
  {
   "cell_type": "code",
   "execution_count": 223,
   "metadata": {},
   "outputs": [],
   "source": [
    "from svm import *\n",
    "from svmutil import *\n",
    "import numpy as np\n",
    "import math"
   ]
  },
  {
   "cell_type": "code",
   "execution_count": 224,
   "metadata": {},
   "outputs": [],
   "source": [
    "#label, dataset = svm_read_problem('../heart_scale')"
   ]
  },
  {
   "cell_type": "code",
   "execution_count": 225,
   "metadata": {},
   "outputs": [
    {
     "name": "stderr",
     "output_type": "stream",
     "text": [
      "Length of label: 87\n",
      "Label: [2.0, 2.0, 2.0, 2.0, 2.0, 2.0, 2.0, 2.0, 2.0, 2.0, 2.0, 2.0, 2.0, 2.0, 2.0, 2.0, 2.0, 2.0, 2.0, 2.0, 2.0, 2.0, 2.0, 2.0, 2.0, 2.0, 2.0, 2.0, 3.0, 3.0, 3.0, 3.0, 3.0, 3.0, 3.0, 3.0, 3.0, 3.0, 3.0, 3.0, 3.0, 3.0, 3.0, 3.0, 3.0, 3.0, 3.0, 3.0, 3.0, 3.0, 3.0, 3.0, 3.0, 3.0, 3.0, 3.0, 3.0, 3.0, 3.0, 3.0, 3.0, 3.0, 3.0, 2.0, 2.0, 2.0, 2.0, 2.0, 2.0, 2.0, 2.0, 2.0, 2.0, 2.0, 2.0, 3.0, 3.0, 3.0, 3.0, 3.0, 3.0, 3.0, 3.0, 3.0, 3.0, 3.0, 3.0]\n",
      "Length of data: 87\n",
      "Data: [{1: 0.202, 2: 0.454}, {1: 0.27, 2: 0.374}, {1: 0.276, 2: 0.304}, {1: 0.276, 2: 0.268}, {1: 0.278, 2: 0.218}, {1: 0.378, 2: 0.18}, {1: 0.412, 2: 0.226}, {1: 0.382, 2: 0.332}, {1: 0.368, 2: 0.284}, {1: 0.326, 2: 0.38}, {1: 0.3, 2: 0.514}, {1: 0.142, 2: 0.426}, {1: 0.21, 2: 0.294}, {1: 0.202, 2: 0.246}, {1: 0.308, 2: 0.17}, {1: 0.496, 2: 0.18}, {1: 0.424, 2: 0.254}, {1: 0.342, 2: 0.24}, {1: 0.314, 2: 0.306}, {1: 0.304, 2: 0.432}, {1: 0.216, 2: 0.38}, {1: 0.274, 2: 0.448}, {1: 0.636, 2: 0.366}, {1: 0.514, 2: 0.272}, {1: 0.48, 2: 0.346}, {1: 0.476, 2: 0.41}, {1: 0.564, 2: 0.354}, {1: 0.412, 2: 0.404}, {1: 0.616, 2: 0.832}, {1: 0.576, 2: 0.74}, {1: 0.612, 2: 0.678}, {1: 0.706, 2: 0.62}, {1: 0.758, 2: 0.654}, {1: 0.768, 2: 0.702}, {1: 0.716, 2: 0.708}, {1: 0.638, 2: 0.758}, {1: 0.494, 2: 0.806}, {1: 0.554, 2: 0.694}, {1: 0.584, 2: 0.628}, {1: 0.64, 2: 0.58}, {1: 0.718, 2: 0.536}, {1: 0.852, 2: 0.55}, {1: 0.788, 2: 0.618}, {1: 0.738, 2: 0.662}, {1: 0.648, 2: 0.68}, {1: 0.698, 2: 0.658}, {1: 0.678, 2: 0.538}, {1: 0.782, 2: 0.48}, {1: 0.822, 2: 0.472}, {1: 0.784, 2: 0.43}, {1: 0.764, 2: 0.526}, {1: 0.792, 2: 0.568}, {1: 0.92, 2: 0.598}, {1: 0.928, 2: 0.716}, {1: 0.814, 2: 0.662}, {1: 0.838, 2: 0.64}, {1: 0.5, 2: 0.66}, {1: 0.536, 2: 0.58}, {1: 0.452, 2: 0.602}, {1: 0.476, 2: 0.554}, {1: 0.388, 2: 0.652}, {1: 0.342, 2: 0.672}, {1: 0.384, 2: 0.714}, {1: 0.2, 2: 0.556}, {1: 0.134, 2: 0.582}, {1: 0.18, 2: 0.708}, {1: 0.24, 2: 0.634}, {1: 0.27, 2: 0.788}, {1: 0.342, 2: 0.844}, {1: 0.164, 2: 0.85}, {1: 0.18, 2: 0.76}, {1: 0.088, 2: 0.74}, {1: 0.204, 2: 0.884}, {1: 0.686, 2: 0.244}, {1: 0.566, 2: 0.208}, {1: 0.782, 2: 0.292}, {1: 0.83, 2: 0.318}, {1: 0.792, 2: 0.204}, {1: 0.688, 2: 0.132}, {1: 0.748, 2: 0.098}, {1: 0.84, 2: 0.116}, {1: 0.858, 2: 0.23}, {1: 0.888, 2: 0.282}, {1: 0.842, 2: 0.378}, {1: 0.868, 2: 0.396}, {1: 0.916, 2: 0.476}, {1: 0.86, 2: 0.142}]\n"
     ]
    }
   ],
   "source": [
    "label, dataset = svm_read_problem('toydatarbf.dat')\n",
    "\n",
    "logging.debug(\"Length of label: {}\".format(len(label)))\n",
    "logging.debug(\"Label: {}\".format(label))\n",
    "logging.debug(\"Length of data: {}\".format(len(dataset)))\n",
    "logging.debug(\"Data: {}\".format(dataset))"
   ]
  },
  {
   "cell_type": "code",
   "execution_count": 226,
   "metadata": {},
   "outputs": [],
   "source": [
    "maxdim = np.max(np.array([len(d_item) for d_item in dataset]))\n",
    "for data_idx, _ in enumerate(dataset):\n",
    "    for dim_idx in range(maxdim):\n",
    "        if dim_idx + 1 not in dataset[data_idx]:\n",
    "            print(\"add key {} in data {}\".format(dim_idx+1, data_idx))\n",
    "            dataset[data_idx][dim_idx+1] = 0"
   ]
  },
  {
   "cell_type": "code",
   "execution_count": 227,
   "metadata": {},
   "outputs": [
    {
     "name": "stderr",
     "output_type": "stream",
     "text": [
      "Length of Data: 87, Dimension of Data: 2\n"
     ]
    }
   ],
   "source": [
    "logging.debug(\"Length of Data: {}, Dimension of Data: {}\".format(len(dataset), len(dataset[0])))\n",
    "#logging.debug(\"Read Data in One Line:\\n{}\".format(\n",
    "#    np.array([data_list[feat_idx] for data_idx, data_list in enumerate(dataset) \n",
    "#              for dim_idx, feat_idx in enumerate(data_list)]).reshape(len(dataset), len(dataset[0]))))"
   ]
  },
  {
   "cell_type": "raw",
   "metadata": {},
   "source": [
    "Usage: svm-train [options] training_set_file [model_file]\n",
    "options:\n",
    "-s svm_type : set type of SVM (default 0)\n",
    "\t0 -- C-SVC\t\t(multi-class classification)\n",
    "\t1 -- nu-SVC\t\t(multi-class classification)\n",
    "\t2 -- one-class SVM\n",
    "\t3 -- epsilon-SVR\t(regression)\n",
    "\t4 -- nu-SVR\t\t(regression)\n",
    "-t kernel_type : set type of kernel function (default 2)\n",
    "\t0 -- linear: u'*v\n",
    "\t1 -- polynomial: (gamma*u'*v + coef0)^degree\n",
    "\t2 -- radial basis function: exp(-gamma*|u-v|^2)\n",
    "\t3 -- sigmoid: tanh(gamma*u'*v + coef0)\n",
    "\t4 -- precomputed kernel (kernel values in training_set_file)\n",
    "-d degree : set degree in kernel function (default 3)\n",
    "-g gamma : set gamma in kernel function (default 1/num_features)\n",
    "-r coef0 : set coef0 in kernel function (default 0)\n",
    "-c cost : set the parameter C of C-SVC, epsilon-SVR, and nu-SVR (default 1)\n",
    "-n nu : set the parameter nu of nu-SVC, one-class SVM, and nu-SVR (default 0.5)\n",
    "-p epsilon : set the epsilon in loss function of epsilon-SVR (default 0.1)\n",
    "-m cachesize : set cache memory size in MB (default 100)\n",
    "-e epsilon : set tolerance of termination criterion (default 0.001)\n",
    "-h shrinking : whether to use the shrinking heuristics, 0 or 1 (default 1)\n",
    "-b probability_estimates : whether to train a SVC or SVR model for probability estimates, 0 or 1 (default 0)\n",
    "-wi weight : set the parameter C of class i to weight*C, for C-SVC (default 1)\n",
    "-v n: n-fold cross validation mode\n",
    "-q : quiet mode (no outputs)"
   ]
  },
  {
   "cell_type": "code",
   "execution_count": 347,
   "metadata": {},
   "outputs": [
    {
     "name": "stderr",
     "output_type": "stream",
     "text": [
      "Accuracy: (100.0, 0.0, 1.0)\n",
      "Output Label: [2.0, 2.0, 2.0, 2.0, 2.0, 2.0, 2.0, 2.0, 2.0, 2.0, 2.0, 2.0, 2.0, 2.0, 2.0, 2.0, 2.0, 2.0, 2.0, 2.0, 2.0, 2.0, 2.0, 2.0, 2.0, 2.0, 2.0, 2.0, 3.0, 3.0, 3.0, 3.0, 3.0, 3.0, 3.0, 3.0, 3.0, 3.0, 3.0, 3.0, 3.0, 3.0, 3.0, 3.0, 3.0, 3.0, 3.0, 3.0, 3.0, 3.0, 3.0, 3.0, 3.0, 3.0, 3.0, 3.0, 3.0, 3.0, 3.0, 3.0, 3.0, 3.0, 3.0, 2.0, 2.0, 2.0, 2.0, 2.0, 2.0, 2.0, 2.0, 2.0, 2.0, 2.0, 2.0, 3.0, 3.0, 3.0, 3.0, 3.0, 3.0, 3.0, 3.0, 3.0, 3.0, 3.0, 3.0]\n",
      "Model Value: [[3.6041411547935964], [4.380298993591696], [5.648523639779869], [6.226057174347789], [6.829402040798941], [5.979020946213113], [5.389433609901589], [4.29467966764385], [5.192637655849085], [3.7849492982073385], [1.338003176873444], [4.937410633788732], [6.427909845345839], [7.237865846898403], [6.834488471427521], [4.301026663537032], [5.034825215901565], [5.9842968892076716], [5.293064179626144], [2.888559871114539], [4.797553874519126], [2.855970971171318], [1.4052743354983064], [3.877871331909391], [3.275152701705865], [2.0842961252215715], [2.379196782963463], [2.6503203883344937], [-4.724615541529074], [-4.346362647011501], [-4.0962871726209595], [-3.859464048421087], [-4.859664092271869], [-5.648411174288794], [-5.293392346932178], [-5.05390509402825], [-3.1127486036934173], [-3.792344889685792], [-3.132809272656614], [-2.621239544984219], [-2.3631684095111454], [-4.165202472695837], [-4.528386815016729], [-4.821991906319836], [-4.399925822419773], [-4.447133144340496], [-2.0566236329890857], [-2.1208653236684953], [-2.618475614487052], [-1.4944891882191045], [-2.6493138280060706], [-3.6998119857948226], [-5.86802818943981], [-7.476499377095406], [-5.494613380228129], [-5.403139617138022], [-2.921635679278934], [-1.9275452253427106], [-1.6742238579721929], [-1.0002276813433313], [-1.5824553105652925], [-0.9994646363015094], [-1.74677284639658], [2.2396579225383717], [3.4941455262574705], [2.927429852868572], [1.0006241936258262], [1.6947306028083218], [1.0014930158191233], [7.509962358015018], [3.9004726739290887], [6.747232489734943], [7.369214467336478], [0.9991754958078487], [3.2253469439543365], [-0.9998452553722204], [-2.1069421555788908], [-2.5465235972791747], [-0.9987340973406575], [-4.310395337137761], [-7.40636551921345], [-4.2451985078227334], [-4.2717945463377145], [-2.300473123801949], [-2.9542567149659775], [-4.454177887090209], [-7.166574011759094]]\n",
      "Yi(+1/-1): [ 1  1  1  1  1  1  1  1  1  1  1  1  1  1  1  1  1  1  1  1  1  1  1  1\n",
      "  1  1  1  1 -1 -1 -1 -1 -1 -1 -1 -1 -1 -1 -1 -1 -1 -1 -1 -1 -1 -1 -1 -1\n",
      " -1 -1 -1 -1 -1 -1 -1 -1 -1 -1 -1 -1 -1 -1 -1  1  1  1  1  1  1  1  1  1\n",
      "  1  1  1 -1 -1 -1 -1 -1 -1 -1 -1 -1 -1 -1 -1]\n"
     ]
    },
    {
     "name": "stdout",
     "output_type": "stream",
     "text": [
      "Time = 0.010115623474121094 sec\n",
      "Accuracy = 100% (87/87) (classification)\n"
     ]
    }
   ],
   "source": [
    "import time\n",
    "\n",
    "gamma = 1/2\n",
    "start_time = time.time()\n",
    "model = svm_train(label[:400], dataset[:400], '-s 0 -t 2 -g {} -c 1000000'.format(gamma))\n",
    "end_time = time.time()\n",
    "print(\"Time = {} sec\".format(end_time - start_time))\n",
    "\n",
    "#p_label, p_acc, p_val = svm_predict(y[200:], x[200:], model)\n",
    "# using the same data set as training, just for development stage\n",
    "p_label, p_acc, p_val = svm_predict(label[:400], dataset[:400], model)\n",
    "logging.debug(\"Accuracy: {}\".format(p_acc))\n",
    "logging.debug(\"Output Label: {}\".format(p_label))\n",
    "logging.debug(\"Model Value: {}\".format(p_val))\n",
    "\n",
    "yi =np.array([1 if val >= 0 else -1 for [val] in p_val])\n",
    "logging.debug(\"Yi(+1/-1): {}\".format(yi))"
   ]
  },
  {
   "cell_type": "code",
   "execution_count": 348,
   "metadata": {},
   "outputs": [
    {
     "name": "stderr",
     "output_type": "stream",
     "text": [
      "SVM Type: 0\n",
      "Number of Class: 2\n",
      "SVM Probability: 0.0\n",
      "Class Labels: [2, 3]\n",
      "Support Vectors Indices: [67, 69, 74, 60, 62, 76, 79]\n",
      "Number of Support Vectors: 7\n",
      "Is Probability Model: False\n",
      "Support Vector Coefficients: [(9043.991181746696,), (8799.577042254403,), (32271.261787285483,), (-1147.3382827559851,), (-22090.863518075905,), (-10294.8240718831,), (-16581.80413857158,)]\n",
      "Support Vectors: [{1: 0.24, 2: 0.634}, {1: 0.342, 2: 0.844}, {1: 0.686, 2: 0.244}, {1: 0.476, 2: 0.554}, {1: 0.342, 2: 0.672}, {1: 0.782, 2: 0.292}, {1: 0.688, 2: 0.132}]\n"
     ]
    }
   ],
   "source": [
    "svm_type = model.get_svm_type()\n",
    "logging.debug(\"SVM Type: {}\".format(svm_type))\n",
    "\n",
    "nr_class = model.get_nr_class()\n",
    "logging.debug(\"Number of Class: {}\".format(nr_class))\n",
    "\n",
    "svr_probability = model.get_svr_probability()\n",
    "logging.debug(\"SVM Probability: {}\".format(svr_probability))\n",
    "\n",
    "class_labels = model.get_labels()\n",
    "logging.debug(\"Class Labels: {}\".format(class_labels))\n",
    "\n",
    "sv_indices = model.get_sv_indices()\n",
    "logging.debug(\"Support Vectors Indices: {}\".format(sv_indices))\n",
    "\n",
    "nr_sv = model.get_nr_sv()\n",
    "logging.debug(\"Number of Support Vectors: {}\".format(nr_sv))\n",
    "\n",
    "is_prob_model = model.is_probability_model()\n",
    "logging.debug(\"Is Probability Model: {}\".format(is_prob_model))\n",
    "\n",
    "support_vector_coefficients = model.get_sv_coef()\n",
    "logging.debug(\"Support Vector Coefficients: {}\".format(support_vector_coefficients))\n",
    "\n",
    "support_vectors = model.get_SV()\n",
    "logging.debug(\"Support Vectors: {}\".format(support_vectors))"
   ]
  },
  {
   "cell_type": "code",
   "execution_count": 349,
   "metadata": {},
   "outputs": [],
   "source": [
    "for data_idx, _ in enumerate(support_vectors):\n",
    "    for dim_idx in range(maxdim):\n",
    "        if dim_idx + 1 not in support_vectors[data_idx]:\n",
    "            print(\"add key {} in support_vectors {}\".format(dim_idx+1, data_idx))\n",
    "            support_vectors[data_idx][dim_idx+1] = 0"
   ]
  },
  {
   "cell_type": "code",
   "execution_count": 350,
   "metadata": {},
   "outputs": [
    {
     "name": "stderr",
     "output_type": "stream",
     "text": [
      "Support Vector Indices: 0, Data Indices: 67\n",
      "Support Vectors from SV: {1: 0.24, 2: 0.634}, Support Vectors Coeff: (9043.991181746696,), Support Vectors from Data: {1: 0.24, 2: 0.634}, Yi: 1, Model Output: [1.0006241936258262]\n",
      "Support Vector Indices: 1, Data Indices: 69\n",
      "Support Vectors from SV: {1: 0.342, 2: 0.844}, Support Vectors Coeff: (8799.577042254403,), Support Vectors from Data: {1: 0.342, 2: 0.844}, Yi: 1, Model Output: [1.0014930158191233]\n",
      "Support Vector Indices: 2, Data Indices: 74\n",
      "Support Vectors from SV: {1: 0.686, 2: 0.244}, Support Vectors Coeff: (32271.261787285483,), Support Vectors from Data: {1: 0.686, 2: 0.244}, Yi: 1, Model Output: [0.9991754958078487]\n",
      "Support Vector Indices: 3, Data Indices: 60\n",
      "Support Vectors from SV: {1: 0.476, 2: 0.554}, Support Vectors Coeff: (-1147.3382827559851,), Support Vectors from Data: {1: 0.476, 2: 0.554}, Yi: -1, Model Output: [-1.0002276813433313]\n",
      "Support Vector Indices: 4, Data Indices: 62\n",
      "Support Vectors from SV: {1: 0.342, 2: 0.672}, Support Vectors Coeff: (-22090.863518075905,), Support Vectors from Data: {1: 0.342, 2: 0.672}, Yi: -1, Model Output: [-0.9994646363015094]\n",
      "Support Vector Indices: 5, Data Indices: 76\n",
      "Support Vectors from SV: {1: 0.782, 2: 0.292}, Support Vectors Coeff: (-10294.8240718831,), Support Vectors from Data: {1: 0.782, 2: 0.292}, Yi: -1, Model Output: [-0.9998452553722204]\n",
      "Support Vector Indices: 6, Data Indices: 79\n",
      "Support Vectors from SV: {1: 0.688, 2: 0.132}, Support Vectors Coeff: (-16581.80413857158,), Support Vectors from Data: {1: 0.688, 2: 0.132}, Yi: -1, Model Output: [-0.9987340973406575]\n",
      "Support Vectors from SV: {1: 0.24, 2: 0.634}\n",
      "Support Vectors from SV: {1: 0.342, 2: 0.844}\n",
      "Support Vectors from SV: {1: 0.686, 2: 0.244}\n",
      "Support Vectors from SV: {1: 0.476, 2: 0.554}\n",
      "Support Vectors from SV: {1: 0.342, 2: 0.672}\n",
      "Support Vectors from SV: {1: 0.782, 2: 0.292}\n",
      "Support Vectors from SV: {1: 0.688, 2: 0.132}\n",
      "Support Vectors Coeff: (9043.991181746696,)\n",
      "Support Vectors Coeff: (8799.577042254403,)\n",
      "Support Vectors Coeff: (32271.261787285483,)\n",
      "Support Vectors Coeff: (-1147.3382827559851,)\n",
      "Support Vectors Coeff: (-22090.863518075905,)\n",
      "Support Vectors Coeff: (-10294.8240718831,)\n",
      "Support Vectors Coeff: (-16581.80413857158,)\n"
     ]
    }
   ],
   "source": [
    "for sv_idx, data_idx in enumerate(sv_indices):\n",
    "    logging.debug(\"Support Vector Indices: {}, Data Indices: {}\".format(sv_idx, data_idx))\n",
    "    logging.debug(\"Support Vectors from SV: {}, Support Vectors Coeff: {}, Support Vectors from Data: {}, Yi: {}, Model Output: {}\".format(\n",
    "        support_vectors[sv_idx], support_vector_coefficients[sv_idx], dataset[data_idx-1], yi[data_idx-1], p_val[data_idx-1]))\n",
    "    \n",
    "for i in support_vectors:\n",
    "    logging.debug(\"Support Vectors from SV: {}\".format(i))\n",
    "\n",
    "for i in support_vector_coefficients:\n",
    "    logging.debug(\"Support Vectors Coeff: {}\".format(i))"
   ]
  },
  {
   "cell_type": "code",
   "execution_count": 351,
   "metadata": {},
   "outputs": [
    {
     "name": "stdout",
     "output_type": "stream",
     "text": [
      "feature 1 mean: 0.5316321839080459\n",
      "feature 2 mean: 0.483816091954023\n"
     ]
    }
   ],
   "source": [
    "f1mean = np.mean(np.array([data_list[feat_idx] for data_idx, data_list in enumerate(dataset) for dim_idx, feat_idx in enumerate(data_list) if dim_idx == 0]))\n",
    "f2mean = np.mean(np.array([data_list[feat_idx] for data_idx, data_list in enumerate(dataset) for dim_idx, feat_idx in enumerate(data_list) if dim_idx == 1]))\n",
    "\n",
    "print(\"feature 1 mean: {}\".format(f1mean))\n",
    "print(\"feature 2 mean: {}\".format(f2mean))"
   ]
  },
  {
   "cell_type": "code",
   "execution_count": 352,
   "metadata": {},
   "outputs": [
    {
     "name": "stderr",
     "output_type": "stream",
     "text": [
      "w1: -0.990618762009035, w2: 4.415301893253854\n",
      "Yi: 1, WtXi: 4.409799033343006\n",
      "Yi: 1, WtXi: 4.410667855536303\n"
     ]
    },
    {
     "name": "stdout",
     "output_type": "stream",
     "text": [
      "-3.409799033343006\n"
     ]
    },
    {
     "name": "stderr",
     "output_type": "stream",
     "text": [
      "Yi: 1, WtXi: 4.408350335525029\n",
      "Yi: -1, WtXi: 2.4089471583738487\n",
      "Yi: -1, WtXi: 2.4097102034156705\n",
      "Yi: -1, WtXi: 2.4093295843449596\n",
      "Yi: -1, WtXi: 2.4104407423765224\n",
      "w0 = -3.409606416130763\n"
     ]
    },
    {
     "name": "stdout",
     "output_type": "stream",
     "text": [
      "-6.820466888879309\n",
      "-10.228817224404338\n",
      "-13.637764382778187\n",
      "-17.047474586193857\n",
      "-20.456804170538817\n",
      "-23.86724491291534\n",
      "7\n"
     ]
    }
   ],
   "source": [
    "def rfb(vec_x1, vec_x2):\n",
    "    return(math.exp(-(gamma * np.dot(vec_x1-vec_x2, vec_x1-vec_x2))))\n",
    "\n",
    "def wtxrbf(value):\n",
    "    result = 0\n",
    "    for sv_idx, data_idx in enumerate(sv_indices):\n",
    "        #logging.debug(\"Coeff: {:30}, SV: {:20}, {:20}\".format(support_vector_coefficients[sv_idx][0], support_vectors[sv_idx][1], support_vectors[sv_idx][2]))\n",
    "        result = result + support_vector_coefficients[sv_idx][0]*rfb(np.array([support_vectors[sv_idx][1], support_vectors[sv_idx][2]]), value)\n",
    "    return result\n",
    "\n",
    "w1, w2 = 0.0, 0.0\n",
    "for sv_idx, data_idx in enumerate(sv_indices):\n",
    "    w1 = w1 + support_vector_coefficients[sv_idx][0]*rfb(support_vectors[sv_idx][1], f1mean)\n",
    "    w2 = w2 + support_vector_coefficients[sv_idx][0]*rfb(support_vectors[sv_idx][2], f2mean)\n",
    "    \n",
    "logging.debug(\"w1: {}, w2: {}\".format(w1, w2))\n",
    "\n",
    "w0 = 0.0\n",
    "for sv_idx, data_idx in enumerate(sv_indices):\n",
    "    sign_flag = 1 if support_vector_coefficients[sv_idx][0] > 0 else -1\n",
    "    logging.debug(\"Yi: {}, WtXi: {}\".format(\n",
    "        sign_flag,\n",
    "        wtxrbf(np.array([support_vectors[sv_idx][1], support_vectors[sv_idx][2]]))))\n",
    "    w0 = w0 + sign_flag - wtxrbf(np.array([support_vectors[sv_idx][1], support_vectors[sv_idx][2]]))\n",
    "    print(w0)\n",
    "    \n",
    "print(nr_sv)\n",
    "w0 = w0 / nr_sv\n",
    "logging.debug(\"w0 = {}\".format(w0))"
   ]
  },
  {
   "cell_type": "code",
   "execution_count": 353,
   "metadata": {},
   "outputs": [
    {
     "data": {
      "image/png": "[encoded data removed]",
      "text/plain": [
       "<Figure size 432x288 with 1 Axes>"
      ]
     },
     "metadata": {
      "needs_background": "light"
     },
     "output_type": "display_data"
    }
   ],
   "source": [
    "import matplotlib.pyplot as plt\n",
    "\n",
    "#plt.figure(figsize=(20,15))\n",
    "plt.cla()\n",
    "\n",
    "plot_x = np.arange(\n",
    "    np.min([data_list[feat_idx] for data_idx, data_list in enumerate(dataset) for dim_idx, feat_idx in enumerate(data_list) if dim_idx == 0]),\n",
    "    np.max([data_list[feat_idx] for data_idx, data_list in enumerate(dataset) for dim_idx, feat_idx in enumerate(data_list) if dim_idx == 0]),\n",
    "    0.01)\n",
    "plot_y = np.arange(\n",
    "    np.min([data_list[feat_idx] for data_idx, data_list in enumerate(dataset) for dim_idx, feat_idx in enumerate(data_list) if dim_idx == 1]),\n",
    "    np.max([data_list[feat_idx] for data_idx, data_list in enumerate(dataset) for dim_idx, feat_idx in enumerate(data_list) if dim_idx == 1]),\n",
    "    0.01)\n",
    "\n",
    "for x_point in plot_x:\n",
    "    for y_point in plot_y:\n",
    "        if wtxrbf(np.array([x_point, y_point])) + w0 > 0:\n",
    "            plt.plot(x_point, y_point, \".\", color='#00FFFF')\n",
    "        else:\n",
    "            plt.plot(x_point, y_point, \".\", color='#00FF00')\n",
    "\n",
    "plot_x = np.array([data_list[feat_idx] for data_idx, data_list in enumerate(dataset) if yi[data_idx] == 1 for dim_idx, feat_idx in enumerate(data_list) if dim_idx == 0])\n",
    "plot_y = np.array([data_list[feat_idx] for data_idx, data_list in enumerate(dataset) if yi[data_idx] == 1 for dim_idx, feat_idx in enumerate(data_list) if dim_idx == 1])\n",
    "#print(plot_x)\n",
    "#print(plot_y)\n",
    "plt.plot(plot_x, plot_y, \".b\")\n",
    "\n",
    "plot_x = np.array([data_list[feat_idx] for data_idx, data_list in enumerate(dataset) if yi[data_idx] == -1 for dim_idx, feat_idx in enumerate(data_list) if dim_idx == 0])\n",
    "plot_y = np.array([data_list[feat_idx] for data_idx, data_list in enumerate(dataset) if yi[data_idx] == -1 for dim_idx, feat_idx in enumerate(data_list) if dim_idx == 1])\n",
    "#print(plot_x)\n",
    "#print(plot_y)\n",
    "plt.plot(plot_x, plot_y, \"+r\")\n",
    "\n",
    "plot_x = np.array([data_list[feat_idx] for data_idx, data_list in enumerate(support_vectors) for dim_idx, feat_idx in enumerate(data_list) if dim_idx == 0])\n",
    "plot_y = np.array([data_list[feat_idx] for data_idx, data_list in enumerate(support_vectors) for dim_idx, feat_idx in enumerate(data_list) if dim_idx == 1])\n",
    "#print(plot_x)\n",
    "#print(plot_y)\n",
    "plt.plot(plot_x, plot_y, \"og\")\n",
    "\n",
    "#plot_y = (1-w0-w1*plot_x)/w2\n",
    "#plt.plot(plot_x, plot_y)\n",
    "\n",
    "#plot_y = (-1-w0-w1*plot_x)/w2\n",
    "#plt.plot(plot_x, plot_y)\n",
    "\n",
    "plt.show()"
   ]
  },
  {
   "cell_type": "code",
   "execution_count": 354,
   "metadata": {},
   "outputs": [
    {
     "data": {
      "image/png": "[encoded data removed]",
      "text/plain": [
       "<Figure size 432x288 with 1 Axes>"
      ]
     },
     "metadata": {
      "needs_background": "light"
     },
     "output_type": "display_data"
    }
   ],
   "source": [
    "import matplotlib.pyplot as plt\n",
    "\n",
    "#plt.figure(figsize=(20,15))\n",
    "plt.cla()\n",
    "\n",
    "plot_x = np.array([data_list[feat_idx] for data_idx, data_list in enumerate(dataset) if yi[data_idx] == 1 for dim_idx, feat_idx in enumerate(data_list) if dim_idx == 0])\n",
    "plot_y = np.array([data_list[feat_idx] for data_idx, data_list in enumerate(dataset) if yi[data_idx] == 1 for dim_idx, feat_idx in enumerate(data_list) if dim_idx == 1])\n",
    "#print(plot_x)\n",
    "#print(plot_y)\n",
    "plt.plot(plot_x, plot_y, \".b\")\n",
    "\n",
    "plot_x = np.array([data_list[feat_idx] for data_idx, data_list in enumerate(dataset) if yi[data_idx] == -1 for dim_idx, feat_idx in enumerate(data_list) if dim_idx == 0])\n",
    "plot_y = np.array([data_list[feat_idx] for data_idx, data_list in enumerate(dataset) if yi[data_idx] == -1 for dim_idx, feat_idx in enumerate(data_list) if dim_idx == 1])\n",
    "#print(plot_x)\n",
    "#print(plot_y)\n",
    "plt.plot(plot_x, plot_y, \"+r\")\n",
    "\n",
    "plt.show()"
   ]
  },
  {
   "cell_type": "code",
   "execution_count": 355,
   "metadata": {},
   "outputs": [
    {
     "name": "stdout",
     "output_type": "stream",
     "text": [
      "[ 3.60370958  4.37986742  5.64809206  6.2256256   6.82897046  5.97858937\n",
      "  5.38900203  4.29424809  5.19220608  3.78451772  1.3375716   4.93697906\n",
      "  6.42747827  7.23743427  6.8340569   4.30059509  5.03439364  5.98386531\n",
      "  5.2926326   2.88812829  4.7971223   2.85553939  1.40484276  3.87743976\n",
      "  3.27472113  2.08386455  2.37876521  2.64988881 -4.72504712 -4.34679422\n",
      " -4.09671875 -3.85989562 -4.86009567 -5.64884275 -5.29382392 -5.05433667\n",
      " -3.11318018 -3.79277647 -3.13324085 -2.62167112 -2.36359999 -4.16563405\n",
      " -4.52881839 -4.82242348 -4.4003574  -4.44756472 -2.05705521 -2.1212969\n",
      " -2.61890719 -1.49492076 -2.6497454  -3.70024356 -5.86845977 -7.47693095\n",
      " -5.49504496 -5.40357119 -2.92206726 -1.9279768  -1.67465543 -1.00065926\n",
      " -1.58288689 -0.99989621 -1.74720442  2.23922635  3.49371395  2.92699828\n",
      "  1.00019262  1.69429903  1.00106144  7.50953078  3.9000411   6.74680091\n",
      "  7.36878289  0.99874392  3.22491537 -1.00027683 -2.10737373 -2.54695517\n",
      " -0.99916567 -4.31082691 -7.4067971  -4.24563008 -4.27222612 -2.3009047\n",
      " -2.95468829 -4.45460946 -7.16700559]\n"
     ]
    }
   ],
   "source": [
    "x1 = np.array([data_list[feat_idx] for data_idx, data_list in enumerate(dataset) for dim_idx, feat_idx in enumerate(data_list) if dim_idx == 0])\n",
    "x2 = np.array([data_list[feat_idx] for data_idx, data_list in enumerate(dataset) for dim_idx, feat_idx in enumerate(data_list) if dim_idx == 1])\n",
    "x = np.array([data_list[feat_idx] for data_idx, data_list in enumerate(dataset) for dim_idx, feat_idx in enumerate(data_list) if dim_idx == 0])\n",
    "\n",
    "for x1_idx, _ in enumerate(x1):\n",
    "    x_idx = x1_idx\n",
    "    x2_idx = x1_idx\n",
    "    x[x_idx] = wtxrbf(np.array([x1[x1_idx], x2[x2_idx]])) + w0\n",
    "        \n",
    "print(x)"
   ]
  },
  {
   "cell_type": "code",
   "execution_count": 356,
   "metadata": {},
   "outputs": [
    {
     "name": "stdout",
     "output_type": "stream",
     "text": [
      "7.509530781601435\n",
      "-7.476930953508989\n"
     ]
    }
   ],
   "source": [
    "print(max(x))\n",
    "print(min(x))"
   ]
  },
  {
   "cell_type": "code",
   "execution_count": 357,
   "metadata": {},
   "outputs": [
    {
     "name": "stdout",
     "output_type": "stream",
     "text": [
      "40 40\n"
     ]
    },
    {
     "data": {
      "image/png": "[encoded data removed]",
      "text/plain": [
       "<Figure size 432x288 with 1 Axes>"
      ]
     },
     "metadata": {
      "needs_background": "light"
     },
     "output_type": "display_data"
    }
   ],
   "source": [
    "w1_correct = 0\n",
    "w2_correct = 0\n",
    "\n",
    "plot_x = []\n",
    "plot_y = []\n",
    "w1_total = sum([1 for [data] in p_val if data > 0])\n",
    "w2_total = sum([1 for [data] in p_val if data > 0])\n",
    "print(w1_total, w2_total)\n",
    "for bias in np.arange(np.min([x]), np.max([x]), 0.1):\n",
    "    y = x + bias\n",
    "    #print(x, y)\n",
    "    w1_correct = sum([1 for idx, _ in enumerate(y) if y[idx] > 0 and label[idx] == class_labels[0]])\n",
    "    w2_correct = sum([1 for idx, _ in enumerate(y) if y[idx] < 0 and label[idx] == class_labels[1]])\n",
    "\n",
    "    #print(w1_correct, w2_correct)\n",
    "    plot_x = plot_x + [(w2_total-w2_correct) / w2_total]\n",
    "    plot_y = plot_y + [w1_correct / w1_total]\n",
    "\n",
    "plt.plot(plot_x, plot_y)   \n",
    "plt.show()"
   ]
  },
  {
   "cell_type": "code",
   "execution_count": 346,
   "metadata": {},
   "outputs": [
    {
     "name": "stdout",
     "output_type": "stream",
     "text": [
      "[[3.127663498985642], [3.4404298558659168], [4.489955146953692], [5.02724684939338], [5.660265929917189], [4.630472607431587], [3.839799367841154], [2.9087516753818665], [3.7212044210339474], [2.7190335568869006], [0.999982454545064], [4.497395599935119], [5.5070918936710616], [6.346931087533706], [5.716829387842411], [2.9039613798888997], [3.441894788045177], [4.568969048972834], [4.011299508873238], [2.121839980174885], [4.039985831734414], [2.2242187256272548], [0.43254936069596006], [2.2832986529049624], [1.8448862963034873], [1.0003545569509544], [1.0892047566333378], [1.5564890551097808], [-2.445145746407176], [-2.668997817527922], [-2.5962355110229662], [-2.2664858845079987], [-2.5140188398833896], [-2.7632598080460564], [-2.817766304544163], [-2.8493734027722137], [-1.823603151880631], [-2.5009474051064142], [-2.184837517124576], [-1.833084319738843], [-1.5172253747266193], [-1.9150485996994728], [-2.2665418492449287], [-2.572171801872825], [-2.6602013979515657], [-2.5507175756990517], [-1.4590554393623432], [-1.258547185369677], [-1.4111307678983547], [-1.0001560991174454], [-1.5312089301785061], [-1.9086901080069918], [-2.28443668838983], [-2.632050918210295], [-2.5316392185020202], [-2.4033869463016497], [-2.0892953699373873], [-1.5715134792287397], [-1.3690127428150998], [-1.000240177511584], [-1.161856173110861], [-0.6556417975159246], [-1.16428539833643], [2.060209629571803], [3.2603672719945127], [2.5875207831570908], [1.0001895333237218], [1.5001110971873306], [1.0006533528087704], [5.865400324134756], [3.273925334708368], [5.646009024534836], [5.672684142560032], [0.17232205927055766], [1.8587510288764708], [-1.0001247015568122], [-1.5294938601616348], [-2.082969493795387], [-0.9995089628807516], [-3.1811220785500307], [-5.228257729981776], [-3.02630822768762], [-2.8180859946457684], [-1.43517212034814], [-1.6721708708134582], [-2.014568215196702], [-5.039517497343438]]\n"
     ]
    }
   ],
   "source": [
    "print(p_val)"
   ]
  },
  {
   "cell_type": "code",
   "execution_count": null,
   "metadata": {},
   "outputs": [],
   "source": []
  },
  {
   "cell_type": "code",
   "execution_count": 399,
   "metadata": {},
   "outputs": [
    {
     "name": "stdout",
     "output_type": "stream",
     "text": [
      "Accuracy: 89.65517241379311%\n"
     ]
    }
   ],
   "source": [
    "#def naive_bayesian_classifier:\n",
    "\n",
    "pw1 = np.sum([1 for l in label if l == class_labels[0]]) / len(dataset)\n",
    "pw2 = np.sum([1 for l in label if l == class_labels[1]]) / len(dataset)\n",
    "\n",
    "#print(pw1, pw2)\n",
    "\n",
    "c1f1_mean = np.mean(np.array([data_list[feat_idx] for data_idx, data_list in enumerate(dataset) if label[data_idx] == class_labels[0] for dim_idx, feat_idx in enumerate(data_list) if dim_idx == 0]))\n",
    "c1f1_var = np.var(np.array([data_list[feat_idx] for data_idx, data_list in enumerate(dataset) if label[data_idx] == class_labels[0] for dim_idx, feat_idx in enumerate(data_list) if dim_idx == 0]))\n",
    "c1f2_mean = np.mean(np.array([data_list[feat_idx] for data_idx, data_list in enumerate(dataset) if label[data_idx] == class_labels[0] for dim_idx, feat_idx in enumerate(data_list) if dim_idx == 1]))\n",
    "c1f2_var = np.var(np.array([data_list[feat_idx] for data_idx, data_list in enumerate(dataset) if label[data_idx] == class_labels[0] for dim_idx, feat_idx in enumerate(data_list) if dim_idx == 1]))\n",
    "\n",
    "c2f1_mean = np.mean(np.array([data_list[feat_idx] for data_idx, data_list in enumerate(dataset) if label[data_idx] == class_labels[1] for dim_idx, feat_idx in enumerate(data_list) if dim_idx == 0]))\n",
    "c2f1_var = np.var(np.array([data_list[feat_idx] for data_idx, data_list in enumerate(dataset) if label[data_idx] == class_labels[1] for dim_idx, feat_idx in enumerate(data_list) if dim_idx == 0]))\n",
    "c2f2_mean = np.mean(np.array([data_list[feat_idx] for data_idx, data_list in enumerate(dataset) if label[data_idx] == class_labels[1] for dim_idx, feat_idx in enumerate(data_list) if dim_idx == 1]))\n",
    "c2f2_var = np.var(np.array([data_list[feat_idx] for data_idx, data_list in enumerate(dataset) if label[data_idx] == class_labels[1] for dim_idx, feat_idx in enumerate(data_list) if dim_idx == 1]))\n",
    "\n",
    "#print(class1_mean, class1_var)\n",
    "#print(class2_mean, class2_var)\n",
    "\n",
    "result = np.arange(len(dataset))\n",
    "#print(result)\n",
    "\n",
    "correct = 0\n",
    "for data_idx, data in enumerate(dataset):\n",
    "    pw1x = - (data[1]-c1f1_mean)*(data[1]-c1f1_mean)/2/c1f1_var - (data[2]-c1f2_mean)*(data[2]-c1f2_mean)/2/c1f2_var + math.log(pw1)\n",
    "    pw2x = - (data[1]-c2f1_mean)*(data[1]-c2f1_mean)/2/c2f1_var - (data[2]-c2f2_mean)*(data[2]-c2f2_mean)/2/c2f2_var + math.log(pw2)\n",
    "\n",
    "    result[data_idx] = class_labels[0] if pw1x > pw2x else class_labels[1]\n",
    "    if result[data_idx] == label[data_idx]:\n",
    "        correct = correct + 1\n",
    "\n",
    "print(\"Accuracy: {}%\".format(correct / len(dataset) * 100))\n"
   ]
  },
  {
   "cell_type": "code",
   "execution_count": 400,
   "metadata": {},
   "outputs": [
    {
     "data": {
      "image/png": "[encoded data removed]",
      "text/plain": [
       "<Figure size 432x288 with 1 Axes>"
      ]
     },
     "metadata": {
      "needs_background": "light"
     },
     "output_type": "display_data"
    }
   ],
   "source": [
    "import matplotlib.pyplot as plt\n",
    "\n",
    "#plt.figure(figsize=(20,15))\n",
    "plt.cla()\n",
    "\n",
    "plot_x = np.arange(\n",
    "    np.min([data_list[feat_idx] for data_idx, data_list in enumerate(dataset) for dim_idx, feat_idx in enumerate(data_list) if dim_idx == 0]),\n",
    "    np.max([data_list[feat_idx] for data_idx, data_list in enumerate(dataset) for dim_idx, feat_idx in enumerate(data_list) if dim_idx == 0]),\n",
    "    0.01)\n",
    "plot_y = np.arange(\n",
    "    np.min([data_list[feat_idx] for data_idx, data_list in enumerate(dataset) for dim_idx, feat_idx in enumerate(data_list) if dim_idx == 1]),\n",
    "    np.max([data_list[feat_idx] for data_idx, data_list in enumerate(dataset) for dim_idx, feat_idx in enumerate(data_list) if dim_idx == 1]),\n",
    "    0.01)\n",
    "\n",
    "for x_point in plot_x:\n",
    "    for y_point in plot_y:\n",
    "        pw1x = - (x_point-c1f1_mean)*(x_point-c1f1_mean)/2/c1f1_var - (y_point-c1f2_mean)*(y_point-c1f2_mean)/2/c1f2_var + math.log(pw1)\n",
    "        pw2x = - (x_point-c2f1_mean)*(x_point-c2f1_mean)/2/c2f1_var - (y_point-c2f2_mean)*(y_point-c2f2_mean)/2/c2f2_var + math.log(pw2)\n",
    "        \n",
    "        if pw1x > pw2x:\n",
    "            plt.plot(x_point, y_point, \".\", color='#00FFFF')\n",
    "        else:\n",
    "            plt.plot(x_point, y_point, \".\", color='#00FF00')\n",
    "\n",
    "plot_x = np.array([data_list[feat_idx] for data_idx, data_list in enumerate(dataset) if yi[data_idx] == 1 for dim_idx, feat_idx in enumerate(data_list) if dim_idx == 0])\n",
    "plot_y = np.array([data_list[feat_idx] for data_idx, data_list in enumerate(dataset) if yi[data_idx] == 1 for dim_idx, feat_idx in enumerate(data_list) if dim_idx == 1])\n",
    "#print(plot_x)\n",
    "#print(plot_y)\n",
    "plt.plot(plot_x, plot_y, \".b\")\n",
    "\n",
    "plot_x = np.array([data_list[feat_idx] for data_idx, data_list in enumerate(dataset) if yi[data_idx] == -1 for dim_idx, feat_idx in enumerate(data_list) if dim_idx == 0])\n",
    "plot_y = np.array([data_list[feat_idx] for data_idx, data_list in enumerate(dataset) if yi[data_idx] == -1 for dim_idx, feat_idx in enumerate(data_list) if dim_idx == 1])\n",
    "#print(plot_x)\n",
    "#print(plot_y)\n",
    "plt.plot(plot_x, plot_y, \"+r\")\n",
    "\n",
    "plt.show()"
   ]
  },
  {
   "cell_type": "code",
   "execution_count": 421,
   "metadata": {},
   "outputs": [
    {
     "name": "stdout",
     "output_type": "stream",
     "text": [
      "Accuracy: 91.95402298850574%\n"
     ]
    }
   ],
   "source": [
    "#def bayesian_classifier:\n",
    "\n",
    "pw1 = np.sum([1 for l in label if l == class_labels[0]]) / len(dataset)\n",
    "pw2 = np.sum([1 for l in label if l == class_labels[1]]) / len(dataset)\n",
    "\n",
    "#print(pw1, pw2)\n",
    "\n",
    "\n",
    "c1 = np.array([\n",
    "    [data_list[feat_idx] for data_idx, data_list in enumerate(dataset) if label[data_idx] == class_labels[0] for dim_idx, feat_idx in enumerate(data_list) if dim_idx == 0],\n",
    "    [data_list[feat_idx] for data_idx, data_list in enumerate(dataset) if label[data_idx] == class_labels[0] for dim_idx, feat_idx in enumerate(data_list) if dim_idx == 1]])\n",
    "c1invcov = np.linalg.inv(np.cov(c1))\n",
    "c2 = np.array([\n",
    "    [data_list[feat_idx] for data_idx, data_list in enumerate(dataset) if label[data_idx] == class_labels[1] for dim_idx, feat_idx in enumerate(data_list) if dim_idx == 0],\n",
    "    [data_list[feat_idx] for data_idx, data_list in enumerate(dataset) if label[data_idx] == class_labels[1] for dim_idx, feat_idx in enumerate(data_list) if dim_idx == 1]])\n",
    "c2invcov = np.linalg.inv(np.cov(c2))\n",
    "\n",
    "#print(c1, c2)\n",
    "#print(c1invcov, c2invcov)\n",
    "\n",
    "result = np.arange(len(dataset))\n",
    "#print(result)\n",
    "\n",
    "correct = 0\n",
    "for data_idx, data in enumerate(dataset):\n",
    "    a = np.array([[data[1]-c1f1_mean, data[2]-c1f2_mean]])\n",
    "    pw1x = -np.dot(np.dot(a, c1invcov), a.T)/2 + math.log(pw1)\n",
    "    a = np.array([[data[1]-c2f1_mean, data[2]-c2f2_mean]])\n",
    "    pw2x = -np.dot(np.dot(a, c2invcov), a.T)/2 + math.log(pw2)\n",
    "\n",
    "    result[data_idx] = class_labels[0] if pw1x > pw2x else class_labels[1]\n",
    "    if result[data_idx] == label[data_idx]:\n",
    "        correct = correct + 1\n",
    "\n",
    "print(\"Accuracy: {}%\".format(correct / len(dataset) * 100))"
   ]
  },
  {
   "cell_type": "code",
   "execution_count": 422,
   "metadata": {},
   "outputs": [
    {
     "data": {
      "image/png": "[encoded data removed]",
      "text/plain": [
       "<Figure size 432x288 with 1 Axes>"
      ]
     },
     "metadata": {
      "needs_background": "light"
     },
     "output_type": "display_data"
    }
   ],
   "source": [
    "import matplotlib.pyplot as plt\n",
    "\n",
    "#plt.figure(figsize=(20,15))\n",
    "plt.cla()\n",
    "\n",
    "plot_x = np.arange(\n",
    "    np.min([data_list[feat_idx] for data_idx, data_list in enumerate(dataset) for dim_idx, feat_idx in enumerate(data_list) if dim_idx == 0]),\n",
    "    np.max([data_list[feat_idx] for data_idx, data_list in enumerate(dataset) for dim_idx, feat_idx in enumerate(data_list) if dim_idx == 0]),\n",
    "    0.01)\n",
    "plot_y = np.arange(\n",
    "    np.min([data_list[feat_idx] for data_idx, data_list in enumerate(dataset) for dim_idx, feat_idx in enumerate(data_list) if dim_idx == 1]),\n",
    "    np.max([data_list[feat_idx] for data_idx, data_list in enumerate(dataset) for dim_idx, feat_idx in enumerate(data_list) if dim_idx == 1]),\n",
    "    0.01)\n",
    "\n",
    "for x_point in plot_x:\n",
    "    for y_point in plot_y:\n",
    "        a = np.array([[x_point-c1f1_mean, y_point-c1f2_mean]])\n",
    "        pw1x = -np.dot(np.dot(a, c1invcov), a.T)/2 + math.log(pw1)\n",
    "        a = np.array([[x_point-c2f1_mean, y_point-c2f2_mean]])\n",
    "        pw2x = -np.dot(np.dot(a, c2invcov), a.T)/2 + math.log(pw2)\n",
    "        \n",
    "        if pw1x > pw2x:\n",
    "            plt.plot(x_point, y_point, \".\", color='#00FFFF')\n",
    "        else:\n",
    "            plt.plot(x_point, y_point, \".\", color='#00FF00')\n",
    "\n",
    "plot_x = np.array([data_list[feat_idx] for data_idx, data_list in enumerate(dataset) if yi[data_idx] == 1 for dim_idx, feat_idx in enumerate(data_list) if dim_idx == 0])\n",
    "plot_y = np.array([data_list[feat_idx] for data_idx, data_list in enumerate(dataset) if yi[data_idx] == 1 for dim_idx, feat_idx in enumerate(data_list) if dim_idx == 1])\n",
    "#print(plot_x)\n",
    "#print(plot_y)\n",
    "plt.plot(plot_x, plot_y, \".b\")\n",
    "\n",
    "plot_x = np.array([data_list[feat_idx] for data_idx, data_list in enumerate(dataset) if yi[data_idx] == -1 for dim_idx, feat_idx in enumerate(data_list) if dim_idx == 0])\n",
    "plot_y = np.array([data_list[feat_idx] for data_idx, data_list in enumerate(dataset) if yi[data_idx] == -1 for dim_idx, feat_idx in enumerate(data_list) if dim_idx == 1])\n",
    "#print(plot_x)\n",
    "#print(plot_y)\n",
    "plt.plot(plot_x, plot_y, \"+r\")\n",
    "\n",
    "plt.show()"
   ]
  },
  {
   "cell_type": "code",
   "execution_count": 426,
   "metadata": {},
   "outputs": [
    {
     "name": "stdout",
     "output_type": "stream",
     "text": [
      "Iteration: 0, Accuracy: 45.97701149425287%\n",
      "Iteration: 1, Accuracy: 45.97701149425287%\n",
      "Iteration: 2, Accuracy: 51.724137931034484%\n",
      "Iteration: 3, Accuracy: 64.36781609195403%\n",
      "Iteration: 4, Accuracy: 67.81609195402298%\n",
      "Iteration: 5, Accuracy: 71.26436781609196%\n",
      "Iteration: 6, Accuracy: 78.16091954022988%\n",
      "Iteration: 7, Accuracy: 79.3103448275862%\n",
      "Iteration: 8, Accuracy: 81.60919540229885%\n",
      "Iteration: 9, Accuracy: 85.0574712643678%\n",
      "Iteration: 10, Accuracy: 86.20689655172413%\n",
      "Iteration: 11, Accuracy: 87.35632183908046%\n",
      "Iteration: 12, Accuracy: 89.65517241379311%\n",
      "Iteration: 13, Accuracy: 91.95402298850574%\n",
      "Iteration: 14, Accuracy: 91.95402298850574%\n",
      "Iteration: 15, Accuracy: 91.95402298850574%\n",
      "Iteration: 16, Accuracy: 95.40229885057471%\n",
      "Iteration: 17, Accuracy: 93.10344827586206%\n",
      "Iteration: 18, Accuracy: 93.10344827586206%\n",
      "Iteration: 19, Accuracy: 94.25287356321839%\n",
      "Iteration: 20, Accuracy: 95.40229885057471%\n",
      "Iteration: 21, Accuracy: 93.10344827586206%\n",
      "Iteration: 22, Accuracy: 93.10344827586206%\n",
      "Iteration: 23, Accuracy: 93.10344827586206%\n",
      "Iteration: 24, Accuracy: 93.10344827586206%\n",
      "Iteration: 25, Accuracy: 93.10344827586206%\n",
      "Iteration: 26, Accuracy: 93.10344827586206%\n",
      "Iteration: 27, Accuracy: 91.95402298850574%\n",
      "Iteration: 28, Accuracy: 93.10344827586206%\n",
      "Iteration: 29, Accuracy: 93.10344827586206%\n",
      "Iteration: 30, Accuracy: 93.10344827586206%\n",
      "Iteration: 31, Accuracy: 93.10344827586206%\n",
      "Iteration: 32, Accuracy: 93.10344827586206%\n",
      "Iteration: 33, Accuracy: 91.95402298850574%\n",
      "Iteration: 34, Accuracy: 93.10344827586206%\n",
      "Iteration: 35, Accuracy: 93.10344827586206%\n",
      "Iteration: 36, Accuracy: 93.10344827586206%\n",
      "Iteration: 37, Accuracy: 93.10344827586206%\n",
      "Iteration: 38, Accuracy: 93.10344827586206%\n",
      "Iteration: 39, Accuracy: 93.10344827586206%\n",
      "Iteration: 40, Accuracy: 93.10344827586206%\n",
      "Iteration: 41, Accuracy: 93.10344827586206%\n",
      "Iteration: 42, Accuracy: 93.10344827586206%\n",
      "Iteration: 43, Accuracy: 93.10344827586206%\n",
      "Iteration: 44, Accuracy: 90.80459770114942%\n",
      "Iteration: 45, Accuracy: 93.10344827586206%\n",
      "Iteration: 46, Accuracy: 91.95402298850574%\n",
      "Iteration: 47, Accuracy: 90.80459770114942%\n",
      "Iteration: 48, Accuracy: 93.10344827586206%\n",
      "Iteration: 49, Accuracy: 93.10344827586206%\n",
      "Iteration: 50, Accuracy: 93.10344827586206%\n",
      "Iteration: 51, Accuracy: 93.10344827586206%\n",
      "Iteration: 52, Accuracy: 93.10344827586206%\n",
      "Iteration: 53, Accuracy: 93.10344827586206%\n",
      "Iteration: 54, Accuracy: 93.10344827586206%\n",
      "Iteration: 55, Accuracy: 93.10344827586206%\n",
      "Iteration: 56, Accuracy: 93.10344827586206%\n",
      "Iteration: 57, Accuracy: 93.10344827586206%\n",
      "Iteration: 58, Accuracy: 93.10344827586206%\n",
      "Iteration: 59, Accuracy: 90.80459770114942%\n",
      "Iteration: 60, Accuracy: 93.10344827586206%\n",
      "Iteration: 61, Accuracy: 91.95402298850574%\n",
      "Iteration: 62, Accuracy: 90.80459770114942%\n",
      "Iteration: 63, Accuracy: 90.80459770114942%\n",
      "Iteration: 64, Accuracy: 90.80459770114942%\n",
      "Iteration: 65, Accuracy: 90.80459770114942%\n",
      "Iteration: 66, Accuracy: 90.80459770114942%\n",
      "Iteration: 67, Accuracy: 90.80459770114942%\n",
      "Iteration: 68, Accuracy: 90.80459770114942%\n",
      "Iteration: 69, Accuracy: 90.80459770114942%\n",
      "Iteration: 70, Accuracy: 90.80459770114942%\n",
      "Iteration: 71, Accuracy: 90.80459770114942%\n",
      "Iteration: 72, Accuracy: 90.80459770114942%\n",
      "Iteration: 73, Accuracy: 90.80459770114942%\n",
      "Iteration: 74, Accuracy: 90.80459770114942%\n",
      "Iteration: 75, Accuracy: 90.80459770114942%\n",
      "Iteration: 76, Accuracy: 90.80459770114942%\n",
      "Iteration: 77, Accuracy: 90.80459770114942%\n",
      "Iteration: 78, Accuracy: 91.95402298850574%\n",
      "Iteration: 79, Accuracy: 93.10344827586206%\n",
      "Iteration: 80, Accuracy: 93.10344827586206%\n",
      "Iteration: 81, Accuracy: 93.10344827586206%\n",
      "Iteration: 82, Accuracy: 93.10344827586206%\n",
      "Iteration: 83, Accuracy: 93.10344827586206%\n",
      "Iteration: 84, Accuracy: 90.80459770114942%\n",
      "Iteration: 85, Accuracy: 90.80459770114942%\n",
      "Iteration: 86, Accuracy: 90.80459770114942%\n",
      "Iteration: 87, Accuracy: 90.80459770114942%\n",
      "Iteration: 88, Accuracy: 90.80459770114942%\n",
      "Iteration: 89, Accuracy: 90.80459770114942%\n",
      "Iteration: 90, Accuracy: 90.80459770114942%\n",
      "Iteration: 91, Accuracy: 90.80459770114942%\n",
      "Iteration: 92, Accuracy: 90.80459770114942%\n",
      "Iteration: 93, Accuracy: 90.80459770114942%\n",
      "Iteration: 94, Accuracy: 93.10344827586206%\n",
      "Iteration: 95, Accuracy: 90.80459770114942%\n",
      "Iteration: 96, Accuracy: 90.80459770114942%\n",
      "Iteration: 97, Accuracy: 90.80459770114942%\n",
      "Iteration: 98, Accuracy: 90.80459770114942%\n",
      "Iteration: 99, Accuracy: 90.80459770114942%\n",
      "Iteration: 100, Accuracy: 89.65517241379311%\n",
      "Iteration: 101, Accuracy: 89.65517241379311%\n",
      "Iteration: 102, Accuracy: 89.65517241379311%\n",
      "Iteration: 103, Accuracy: 90.80459770114942%\n",
      "Iteration: 104, Accuracy: 90.80459770114942%\n",
      "Iteration: 105, Accuracy: 90.80459770114942%\n",
      "Iteration: 106, Accuracy: 91.95402298850574%\n",
      "Iteration: 107, Accuracy: 89.65517241379311%\n",
      "Iteration: 108, Accuracy: 90.80459770114942%\n",
      "Iteration: 109, Accuracy: 90.80459770114942%\n",
      "Iteration: 110, Accuracy: 90.80459770114942%\n",
      "Iteration: 111, Accuracy: 90.80459770114942%\n",
      "Iteration: 112, Accuracy: 90.80459770114942%\n",
      "Iteration: 113, Accuracy: 90.80459770114942%\n",
      "Iteration: 114, Accuracy: 91.95402298850574%\n",
      "Iteration: 115, Accuracy: 90.80459770114942%\n",
      "Iteration: 116, Accuracy: 90.80459770114942%\n",
      "Iteration: 117, Accuracy: 90.80459770114942%\n",
      "Iteration: 118, Accuracy: 90.80459770114942%\n",
      "Iteration: 119, Accuracy: 91.95402298850574%\n",
      "Iteration: 120, Accuracy: 90.80459770114942%\n",
      "Iteration: 121, Accuracy: 90.80459770114942%\n",
      "Iteration: 122, Accuracy: 90.80459770114942%\n",
      "Iteration: 123, Accuracy: 90.80459770114942%\n",
      "Iteration: 124, Accuracy: 90.80459770114942%\n",
      "Iteration: 125, Accuracy: 91.95402298850574%\n",
      "Iteration: 126, Accuracy: 93.10344827586206%\n",
      "Iteration: 127, Accuracy: 93.10344827586206%\n",
      "Iteration: 128, Accuracy: 93.10344827586206%\n",
      "Iteration: 129, Accuracy: 93.10344827586206%\n",
      "Iteration: 130, Accuracy: 93.10344827586206%\n",
      "Iteration: 131, Accuracy: 93.10344827586206%\n",
      "Iteration: 132, Accuracy: 93.10344827586206%\n",
      "Iteration: 133, Accuracy: 93.10344827586206%\n",
      "Iteration: 134, Accuracy: 93.10344827586206%\n",
      "Iteration: 135, Accuracy: 93.10344827586206%\n",
      "Iteration: 136, Accuracy: 93.10344827586206%\n",
      "Iteration: 137, Accuracy: 93.10344827586206%\n",
      "Iteration: 138, Accuracy: 93.10344827586206%\n",
      "Iteration: 139, Accuracy: 93.10344827586206%\n",
      "Iteration: 140, Accuracy: 91.95402298850574%\n",
      "Iteration: 141, Accuracy: 93.10344827586206%\n",
      "Iteration: 142, Accuracy: 93.10344827586206%\n",
      "Iteration: 143, Accuracy: 93.10344827586206%\n",
      "Iteration: 144, Accuracy: 93.10344827586206%\n",
      "Iteration: 145, Accuracy: 93.10344827586206%\n",
      "Iteration: 146, Accuracy: 93.10344827586206%\n",
      "Iteration: 147, Accuracy: 91.95402298850574%\n",
      "Iteration: 148, Accuracy: 93.10344827586206%\n",
      "Iteration: 149, Accuracy: 93.10344827586206%\n",
      "Iteration: 150, Accuracy: 93.10344827586206%\n",
      "Iteration: 151, Accuracy: 93.10344827586206%\n",
      "Iteration: 152, Accuracy: 93.10344827586206%\n",
      "Iteration: 153, Accuracy: 93.10344827586206%\n",
      "Iteration: 154, Accuracy: 93.10344827586206%\n",
      "Iteration: 155, Accuracy: 93.10344827586206%\n",
      "Iteration: 156, Accuracy: 93.10344827586206%\n",
      "Iteration: 157, Accuracy: 93.10344827586206%\n",
      "Iteration: 158, Accuracy: 93.10344827586206%\n",
      "Iteration: 159, Accuracy: 93.10344827586206%\n",
      "Iteration: 160, Accuracy: 91.95402298850574%\n",
      "Iteration: 161, Accuracy: 93.10344827586206%\n",
      "Iteration: 162, Accuracy: 93.10344827586206%\n",
      "Iteration: 163, Accuracy: 93.10344827586206%\n",
      "Iteration: 164, Accuracy: 93.10344827586206%\n",
      "Iteration: 165, Accuracy: 93.10344827586206%\n",
      "Iteration: 166, Accuracy: 93.10344827586206%\n",
      "Iteration: 167, Accuracy: 93.10344827586206%\n",
      "Iteration: 168, Accuracy: 93.10344827586206%\n",
      "Iteration: 169, Accuracy: 93.10344827586206%\n",
      "Iteration: 170, Accuracy: 93.10344827586206%\n",
      "Iteration: 171, Accuracy: 93.10344827586206%\n",
      "Iteration: 172, Accuracy: 93.10344827586206%\n",
      "Iteration: 173, Accuracy: 93.10344827586206%\n",
      "Iteration: 174, Accuracy: 91.95402298850574%\n",
      "Iteration: 175, Accuracy: 93.10344827586206%\n",
      "Iteration: 176, Accuracy: 93.10344827586206%\n",
      "Iteration: 177, Accuracy: 93.10344827586206%\n",
      "Iteration: 178, Accuracy: 93.10344827586206%\n",
      "Iteration: 179, Accuracy: 93.10344827586206%\n",
      "Iteration: 180, Accuracy: 93.10344827586206%\n",
      "Iteration: 181, Accuracy: 93.10344827586206%\n",
      "Iteration: 182, Accuracy: 93.10344827586206%\n",
      "Iteration: 183, Accuracy: 93.10344827586206%\n",
      "Iteration: 184, Accuracy: 93.10344827586206%\n",
      "Iteration: 185, Accuracy: 93.10344827586206%\n",
      "Iteration: 186, Accuracy: 93.10344827586206%\n",
      "Iteration: 187, Accuracy: 91.95402298850574%\n",
      "Iteration: 188, Accuracy: 93.10344827586206%\n",
      "Iteration: 189, Accuracy: 93.10344827586206%\n",
      "Iteration: 190, Accuracy: 93.10344827586206%\n",
      "Iteration: 191, Accuracy: 93.10344827586206%\n",
      "Iteration: 192, Accuracy: 93.10344827586206%\n",
      "Iteration: 193, Accuracy: 93.10344827586206%\n",
      "Iteration: 194, Accuracy: 93.10344827586206%\n",
      "Iteration: 195, Accuracy: 93.10344827586206%\n",
      "Iteration: 196, Accuracy: 93.10344827586206%\n",
      "Iteration: 197, Accuracy: 93.10344827586206%\n",
      "Iteration: 198, Accuracy: 93.10344827586206%\n",
      "Iteration: 199, Accuracy: 93.10344827586206%\n",
      "Iteration: 200, Accuracy: 93.10344827586206%\n",
      "Iteration: 201, Accuracy: 93.10344827586206%\n",
      "Iteration: 202, Accuracy: 93.10344827586206%\n",
      "Iteration: 203, Accuracy: 93.10344827586206%\n",
      "Iteration: 204, Accuracy: 93.10344827586206%\n",
      "Iteration: 205, Accuracy: 93.10344827586206%\n",
      "Iteration: 206, Accuracy: 93.10344827586206%\n",
      "Iteration: 207, Accuracy: 93.10344827586206%\n",
      "Iteration: 208, Accuracy: 93.10344827586206%\n",
      "Iteration: 209, Accuracy: 93.10344827586206%\n",
      "Iteration: 210, Accuracy: 93.10344827586206%\n",
      "Iteration: 211, Accuracy: 93.10344827586206%\n",
      "Iteration: 212, Accuracy: 93.10344827586206%\n",
      "Iteration: 213, Accuracy: 93.10344827586206%\n",
      "Iteration: 214, Accuracy: 93.10344827586206%\n",
      "Iteration: 215, Accuracy: 93.10344827586206%\n",
      "Iteration: 216, Accuracy: 93.10344827586206%\n",
      "Iteration: 217, Accuracy: 93.10344827586206%\n",
      "Iteration: 218, Accuracy: 93.10344827586206%\n",
      "Iteration: 219, Accuracy: 93.10344827586206%\n",
      "Iteration: 220, Accuracy: 93.10344827586206%\n",
      "Iteration: 221, Accuracy: 93.10344827586206%\n",
      "Iteration: 222, Accuracy: 93.10344827586206%\n",
      "Iteration: 223, Accuracy: 93.10344827586206%\n",
      "Iteration: 224, Accuracy: 93.10344827586206%\n",
      "Iteration: 225, Accuracy: 93.10344827586206%\n",
      "Iteration: 226, Accuracy: 93.10344827586206%\n",
      "Iteration: 227, Accuracy: 93.10344827586206%\n",
      "Iteration: 228, Accuracy: 93.10344827586206%\n",
      "Iteration: 229, Accuracy: 93.10344827586206%\n",
      "Iteration: 230, Accuracy: 93.10344827586206%\n",
      "Iteration: 231, Accuracy: 93.10344827586206%\n",
      "Iteration: 232, Accuracy: 93.10344827586206%\n",
      "Iteration: 233, Accuracy: 93.10344827586206%\n",
      "Iteration: 234, Accuracy: 93.10344827586206%\n",
      "Iteration: 235, Accuracy: 93.10344827586206%\n",
      "Iteration: 236, Accuracy: 93.10344827586206%\n",
      "Iteration: 237, Accuracy: 93.10344827586206%\n",
      "Iteration: 238, Accuracy: 93.10344827586206%\n",
      "Iteration: 239, Accuracy: 93.10344827586206%\n",
      "Iteration: 240, Accuracy: 93.10344827586206%\n",
      "Iteration: 241, Accuracy: 93.10344827586206%\n",
      "Iteration: 242, Accuracy: 93.10344827586206%\n",
      "Iteration: 243, Accuracy: 93.10344827586206%\n",
      "Iteration: 244, Accuracy: 93.10344827586206%\n",
      "Iteration: 245, Accuracy: 93.10344827586206%\n",
      "Iteration: 246, Accuracy: 93.10344827586206%\n",
      "Iteration: 247, Accuracy: 93.10344827586206%\n",
      "Iteration: 248, Accuracy: 93.10344827586206%\n",
      "Iteration: 249, Accuracy: 93.10344827586206%\n",
      "Iteration: 250, Accuracy: 93.10344827586206%\n",
      "Iteration: 251, Accuracy: 93.10344827586206%\n",
      "Iteration: 252, Accuracy: 93.10344827586206%\n",
      "Iteration: 253, Accuracy: 91.95402298850574%\n",
      "Iteration: 254, Accuracy: 93.10344827586206%\n",
      "Iteration: 255, Accuracy: 93.10344827586206%\n",
      "Iteration: 256, Accuracy: 93.10344827586206%\n",
      "Iteration: 257, Accuracy: 93.10344827586206%\n",
      "Iteration: 258, Accuracy: 93.10344827586206%\n",
      "Iteration: 259, Accuracy: 93.10344827586206%\n",
      "Iteration: 260, Accuracy: 93.10344827586206%\n",
      "Iteration: 261, Accuracy: 93.10344827586206%\n",
      "Iteration: 262, Accuracy: 91.95402298850574%\n",
      "Iteration: 263, Accuracy: 93.10344827586206%\n",
      "Iteration: 264, Accuracy: 93.10344827586206%\n",
      "Iteration: 265, Accuracy: 93.10344827586206%\n",
      "Iteration: 266, Accuracy: 93.10344827586206%\n",
      "Iteration: 267, Accuracy: 93.10344827586206%\n",
      "Iteration: 268, Accuracy: 93.10344827586206%\n",
      "Iteration: 269, Accuracy: 93.10344827586206%\n",
      "Iteration: 270, Accuracy: 91.95402298850574%\n",
      "Iteration: 271, Accuracy: 93.10344827586206%\n",
      "Iteration: 272, Accuracy: 93.10344827586206%\n",
      "Iteration: 273, Accuracy: 93.10344827586206%\n",
      "Iteration: 274, Accuracy: 93.10344827586206%\n",
      "Iteration: 275, Accuracy: 93.10344827586206%\n",
      "Iteration: 276, Accuracy: 93.10344827586206%\n",
      "Iteration: 277, Accuracy: 93.10344827586206%\n",
      "Iteration: 278, Accuracy: 93.10344827586206%\n",
      "Iteration: 279, Accuracy: 91.95402298850574%\n",
      "Iteration: 280, Accuracy: 93.10344827586206%\n",
      "Iteration: 281, Accuracy: 93.10344827586206%\n",
      "Iteration: 282, Accuracy: 93.10344827586206%\n",
      "Iteration: 283, Accuracy: 93.10344827586206%\n",
      "Iteration: 284, Accuracy: 93.10344827586206%\n",
      "Iteration: 285, Accuracy: 93.10344827586206%\n",
      "Iteration: 286, Accuracy: 93.10344827586206%\n",
      "Iteration: 287, Accuracy: 91.95402298850574%\n",
      "Iteration: 288, Accuracy: 93.10344827586206%\n",
      "Iteration: 289, Accuracy: 93.10344827586206%\n",
      "Iteration: 290, Accuracy: 93.10344827586206%\n",
      "Iteration: 291, Accuracy: 93.10344827586206%\n",
      "Iteration: 292, Accuracy: 93.10344827586206%\n",
      "Iteration: 293, Accuracy: 93.10344827586206%\n",
      "Iteration: 294, Accuracy: 93.10344827586206%\n",
      "Iteration: 295, Accuracy: 93.10344827586206%\n",
      "Iteration: 296, Accuracy: 91.95402298850574%\n",
      "Iteration: 297, Accuracy: 93.10344827586206%\n",
      "Iteration: 298, Accuracy: 93.10344827586206%\n",
      "Iteration: 299, Accuracy: 93.10344827586206%\n"
     ]
    }
   ],
   "source": [
    "#def Percepron_classifier:\n",
    "\n",
    "w0 = 1\n",
    "w1 = 1\n",
    "w2 = 1\n",
    "tou = 0.01\n",
    "for iter in range(300):\n",
    "    correct = 0\n",
    "    if iter == 100 or iter == 200:\n",
    "        tou = tou * 0.1\n",
    "    for data_idx, data in enumerate(dataset):\n",
    "        result[data_idx] = class_labels[0] if w1*data[1] + w2*data[2] + w0 > 0 else class_labels[1]\n",
    "        if result[data_idx] == label[data_idx]:\n",
    "            correct = correct + 1\n",
    "        else:\n",
    "            w1 = w1 + tou*data[1] if label[data_idx] == class_labels[0] else w1 - tou*data[1]\n",
    "            w2 = w2 + tou*data[2] if label[data_idx] == class_labels[0] else w2 - tou*data[2]\n",
    "            w0 = w0 + tou if label[data_idx] == class_labels[0] else w0 - tou\n",
    "print(\"Iteration: {}, Accuracy: {}%\".format(iter, correct / len(dataset) * 100))"
   ]
  },
  {
   "cell_type": "code",
   "execution_count": 427,
   "metadata": {},
   "outputs": [
    {
     "data": {
      "image/png": "[encoded data removed]",
      "text/plain": [
       "<Figure size 432x288 with 1 Axes>"
      ]
     },
     "metadata": {
      "needs_background": "light"
     },
     "output_type": "display_data"
    }
   ],
   "source": [
    "import matplotlib.pyplot as plt\n",
    "\n",
    "#plt.figure(figsize=(20,15))\n",
    "plt.cla()\n",
    "\n",
    "plot_x = np.arange(\n",
    "    np.min([data_list[feat_idx] for data_idx, data_list in enumerate(dataset) for dim_idx, feat_idx in enumerate(data_list) if dim_idx == 0]),\n",
    "    np.max([data_list[feat_idx] for data_idx, data_list in enumerate(dataset) for dim_idx, feat_idx in enumerate(data_list) if dim_idx == 0]),\n",
    "    0.01)\n",
    "plot_y = np.arange(\n",
    "    np.min([data_list[feat_idx] for data_idx, data_list in enumerate(dataset) for dim_idx, feat_idx in enumerate(data_list) if dim_idx == 1]),\n",
    "    np.max([data_list[feat_idx] for data_idx, data_list in enumerate(dataset) for dim_idx, feat_idx in enumerate(data_list) if dim_idx == 1]),\n",
    "    0.01)\n",
    "\n",
    "for x_point in plot_x:\n",
    "    for y_point in plot_y:\n",
    "        if w1*x_point + w2*y_point + w0 > 0:\n",
    "            plt.plot(x_point, y_point, \".\", color='#00FFFF')\n",
    "        else:\n",
    "            plt.plot(x_point, y_point, \".\", color='#00FF00')\n",
    "\n",
    "plot_x = np.array([data_list[feat_idx] for data_idx, data_list in enumerate(dataset) if yi[data_idx] == 1 for dim_idx, feat_idx in enumerate(data_list) if dim_idx == 0])\n",
    "plot_y = np.array([data_list[feat_idx] for data_idx, data_list in enumerate(dataset) if yi[data_idx] == 1 for dim_idx, feat_idx in enumerate(data_list) if dim_idx == 1])\n",
    "#print(plot_x)\n",
    "#print(plot_y)\n",
    "plt.plot(plot_x, plot_y, \".b\")\n",
    "\n",
    "plot_x = np.array([data_list[feat_idx] for data_idx, data_list in enumerate(dataset) if yi[data_idx] == -1 for dim_idx, feat_idx in enumerate(data_list) if dim_idx == 0])\n",
    "plot_y = np.array([data_list[feat_idx] for data_idx, data_list in enumerate(dataset) if yi[data_idx] == -1 for dim_idx, feat_idx in enumerate(data_list) if dim_idx == 1])\n",
    "#print(plot_x)\n",
    "#print(plot_y)\n",
    "plt.plot(plot_x, plot_y, \"+r\")\n",
    "\n",
    "plt.show()"
   ]
  },
  {
   "cell_type": "code",
   "execution_count": 420,
   "metadata": {},
   "outputs": [
    {
     "name": "stdout",
     "output_type": "stream",
     "text": [
      "[[0 1 2]\n",
      " [2 1 0]]\n",
      "[[ 1. -1.]\n",
      " [-1.  1.]]\n"
     ]
    }
   ],
   "source": [
    "x = np.array([[0, 1, 2],\n",
    "            [2, 1, 0]])\n",
    "print(x)\n",
    "print(np.cov(x))"
   ]
  },
  {
   "cell_type": "code",
   "execution_count": 417,
   "metadata": {},
   "outputs": [
    {
     "data": {
      "image/png": "[encoded data removed]",
      "text/plain": [
       "<Figure size 432x288 with 1 Axes>"
      ]
     },
     "metadata": {
      "needs_background": "light"
     },
     "output_type": "display_data"
    }
   ],
   "source": [
    "import matplotlib.pyplot as plt\n",
    "\n",
    "#plt.figure(figsize=(20,15))\n",
    "plt.cla()\n",
    "\n",
    "plot_x = np.arange(100)\n",
    "plot_y = np.arange(100)\n",
    "\n",
    "for x_point in plot_x:\n",
    "    for y_point in plot_y:\n",
    "        a = np.array([[x_point-60, y_point-30]])\n",
    "        pw1x = -np.dot(np.dot(a, np.linalg.inv(np.array([[400, 0], [0, 200]]))), a.T)/2 + math.log(0.5)\n",
    "        a = np.array([[x_point-30, y_point-60]])\n",
    "        pw2x = -np.dot(np.dot(a, np.linalg.inv(np.array([[400, 0], [0, 200]]))), a.T)/2 + math.log(0.5)\n",
    "        \n",
    "        if pw1x > pw2x:\n",
    "            plt.plot(x_point, y_point, \".\", color='#00FFFF')\n",
    "        else:\n",
    "            plt.plot(x_point, y_point, \".\", color='#00FF00')\n",
    "\n",
    "plt.show()"
   ]
  },
  {
   "cell_type": "code",
   "execution_count": 371,
   "metadata": {},
   "outputs": [
    {
     "name": "stdout",
     "output_type": "stream",
     "text": [
      "[[1 2]\n",
      " [3 4]]\n"
     ]
    }
   ],
   "source": [
    "a = np.array([[1, 2],[3, 4]])\n",
    "print(a)"
   ]
  },
  {
   "cell_type": "code",
   "execution_count": null,
   "metadata": {},
   "outputs": [],
   "source": []
  }
 ],
 "metadata": {
  "kernelspec": {
   "display_name": "Python 3",
   "language": "python",
   "name": "python3"
  },
  "language_info": {
   "codemirror_mode": {
    "name": "ipython",
    "version": 3
   },
   "file_extension": ".py",
   "mimetype": "text/x-python",
   "name": "python",
   "nbconvert_exporter": "python",
   "pygments_lexer": "ipython3",
   "version": "3.7.7"
  }
 },
 "nbformat": 4,
 "nbformat_minor": 4
}
